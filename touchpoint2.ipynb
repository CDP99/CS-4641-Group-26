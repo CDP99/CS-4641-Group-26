{
 "metadata": {
  "language_info": {
   "codemirror_mode": {
    "name": "ipython",
    "version": 3
   },
   "file_extension": ".py",
   "mimetype": "text/x-python",
   "name": "python",
   "nbconvert_exporter": "python",
   "pygments_lexer": "ipython3",
   "version": "3.8.5-final"
  },
  "orig_nbformat": 2,
  "kernelspec": {
   "name": "python38564bit61a9e442bc4944c290ba5a66d5b8071a",
   "display_name": "Python 3.8.5 64-bit",
   "language": "python"
  }
 },
 "nbformat": 4,
 "nbformat_minor": 2,
 "cells": [
  {
   "cell_type": "code",
   "execution_count": 1,
   "metadata": {},
   "outputs": [
    {
     "output_type": "display_data",
     "data": {
      "text/plain": "  symbol        date  currentRatio  quickRatio  grossProfitMargin  \\\n0   TSLA  2016-12-31      1.074273    0.667986           0.228461   \n1   TSLA  2017-12-31      0.856131    0.505989           0.189007   \n2   TSLA  2018-12-31      0.831285    0.463829           0.188340   \n3   TSLA  2019-12-31      1.134621    0.711728           0.165555   \n4   TSLA  2020-12-31      1.875140    1.492841           0.210236   \n\n   operatingProfitMargin  returnOnAssets  returnOnEquity  \\\n0              -0.095332       -0.029779       -0.142000   \n1              -0.138798       -0.068448       -0.462895   \n2              -0.011781       -0.032821       -0.198262   \n3               0.003255       -0.025125       -0.130251   \n4               0.063229        0.013232        0.031046   \n\n   returnOnCapitalEmployed  debtEquityRatio  priceToBookRatio  \\\n0                -0.044328         3.603263          7.604572   \n1                -0.105289         5.527365         13.528241   \n2                -0.050880         4.871174         10.694781   \n3                -0.028128         4.055908         17.138618   \n4                 0.030449         1.308121         33.312194   \n\n   priceToSalesRatio  priceEarningsRatio  priceToOperatingCashFlowsRatio  \n0           5.163310          -53.553272                     -291.885203  \n1           4.874874          -29.225264                     -945.072582  \n2           2.453397          -53.942723                       25.099130  \n3           4.614833         -131.581639                       47.161486  \n4          23.476773         1072.990604                      124.577405  ",
      "text/html": "<div>\n<style scoped>\n    .dataframe tbody tr th:only-of-type {\n        vertical-align: middle;\n    }\n\n    .dataframe tbody tr th {\n        vertical-align: top;\n    }\n\n    .dataframe thead th {\n        text-align: right;\n    }\n</style>\n<table border=\"1\" class=\"dataframe\">\n  <thead>\n    <tr style=\"text-align: right;\">\n      <th></th>\n      <th>symbol</th>\n      <th>date</th>\n      <th>currentRatio</th>\n      <th>quickRatio</th>\n      <th>grossProfitMargin</th>\n      <th>operatingProfitMargin</th>\n      <th>returnOnAssets</th>\n      <th>returnOnEquity</th>\n      <th>returnOnCapitalEmployed</th>\n      <th>debtEquityRatio</th>\n      <th>priceToBookRatio</th>\n      <th>priceToSalesRatio</th>\n      <th>priceEarningsRatio</th>\n      <th>priceToOperatingCashFlowsRatio</th>\n    </tr>\n  </thead>\n  <tbody>\n    <tr>\n      <th>0</th>\n      <td>TSLA</td>\n      <td>2016-12-31</td>\n      <td>1.074273</td>\n      <td>0.667986</td>\n      <td>0.228461</td>\n      <td>-0.095332</td>\n      <td>-0.029779</td>\n      <td>-0.142000</td>\n      <td>-0.044328</td>\n      <td>3.603263</td>\n      <td>7.604572</td>\n      <td>5.163310</td>\n      <td>-53.553272</td>\n      <td>-291.885203</td>\n    </tr>\n    <tr>\n      <th>1</th>\n      <td>TSLA</td>\n      <td>2017-12-31</td>\n      <td>0.856131</td>\n      <td>0.505989</td>\n      <td>0.189007</td>\n      <td>-0.138798</td>\n      <td>-0.068448</td>\n      <td>-0.462895</td>\n      <td>-0.105289</td>\n      <td>5.527365</td>\n      <td>13.528241</td>\n      <td>4.874874</td>\n      <td>-29.225264</td>\n      <td>-945.072582</td>\n    </tr>\n    <tr>\n      <th>2</th>\n      <td>TSLA</td>\n      <td>2018-12-31</td>\n      <td>0.831285</td>\n      <td>0.463829</td>\n      <td>0.188340</td>\n      <td>-0.011781</td>\n      <td>-0.032821</td>\n      <td>-0.198262</td>\n      <td>-0.050880</td>\n      <td>4.871174</td>\n      <td>10.694781</td>\n      <td>2.453397</td>\n      <td>-53.942723</td>\n      <td>25.099130</td>\n    </tr>\n    <tr>\n      <th>3</th>\n      <td>TSLA</td>\n      <td>2019-12-31</td>\n      <td>1.134621</td>\n      <td>0.711728</td>\n      <td>0.165555</td>\n      <td>0.003255</td>\n      <td>-0.025125</td>\n      <td>-0.130251</td>\n      <td>-0.028128</td>\n      <td>4.055908</td>\n      <td>17.138618</td>\n      <td>4.614833</td>\n      <td>-131.581639</td>\n      <td>47.161486</td>\n    </tr>\n    <tr>\n      <th>4</th>\n      <td>TSLA</td>\n      <td>2020-12-31</td>\n      <td>1.875140</td>\n      <td>1.492841</td>\n      <td>0.210236</td>\n      <td>0.063229</td>\n      <td>0.013232</td>\n      <td>0.031046</td>\n      <td>0.030449</td>\n      <td>1.308121</td>\n      <td>33.312194</td>\n      <td>23.476773</td>\n      <td>1072.990604</td>\n      <td>124.577405</td>\n    </tr>\n  </tbody>\n</table>\n</div>"
     },
     "metadata": {}
    },
    {
     "output_type": "stream",
     "name": "stdout",
     "text": [
      "symbol                             object\ndate                               object\ncurrentRatio                      float64\nquickRatio                        float64\ngrossProfitMargin                 float64\noperatingProfitMargin             float64\nreturnOnAssets                    float64\nreturnOnEquity                    float64\nreturnOnCapitalEmployed           float64\ndebtEquityRatio                   float64\npriceToBookRatio                  float64\npriceToSalesRatio                 float64\npriceEarningsRatio                float64\npriceToOperatingCashFlowsRatio    float64\ndtype: object\n5\n"
     ]
    }
   ],
   "source": [
    "import os\n",
    "import requests\n",
    "import numpy as np\n",
    "import pandas as pd\n",
    "\n",
    "from api_keys import fmp_api_key as api_key\n",
    "from API import API\n",
    "\n",
    "api = API(api_key, limit=40)\n",
    "X = api.getRatios(\"TSLA\")\n",
    "\n",
    "display(X)\n",
    "print(X.dtypes)\n",
    "print(len(X))"
   ]
  },
  {
   "cell_type": "code",
   "execution_count": null,
   "metadata": {},
   "outputs": [],
   "source": []
  }
 ]
}