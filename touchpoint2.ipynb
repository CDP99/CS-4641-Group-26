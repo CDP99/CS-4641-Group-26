{
 "cells": [
  {
   "cell_type": "markdown",
   "metadata": {},
   "source": [
    "## //TODO: Get Y Labels\n",
    "#### You should probably do this in API.py, so that there can be a different method you call from this cell which chooses tickers, calls getSamples to retrieve the requested X data, selects the samples we want from the X data, and then calculates Y using the <date> in X"
   ]
  },
  {
   "cell_type": "code",
   "execution_count": 486,
   "metadata": {
    "scrolled": false
   },
   "outputs": [
    {
     "name": "stdout",
     "output_type": "stream",
     "text": [
      "Making API call request...\n",
      "\n",
      "Getting X data...\n",
      "Making API call request...\n",
      "Making API call request...\n",
      "Making API call request...\n",
      "Ticker didn't have enough data.\n",
      "Making API call request...\n",
      "Making API call request...\n",
      "Making API call request...\n",
      "Ticker didn't have enough data.\n",
      "Making API call request...\n",
      "Making API call request...\n",
      "Making API call request...\n",
      "Ticker didn't have enough data.\n",
      "Making API call request...\n",
      "Making API call request...\n",
      "Making API call request...\n",
      "Ticker didn't have enough data.\n",
      "Making API call request...\n",
      "Making API call request...\n",
      "Making API call request...\n",
      "Ticker didn't have enough data.\n",
      "Making API call request...\n",
      "Ticker didn't have enough data.\n",
      "Making API call request...\n",
      "Making API call request...\n",
      "Making API call request...\n",
      "Ticker didn't have enough data.\n",
      "Making API call request...\n",
      "Ticker didn't have enough data.\n",
      "Making API call request...\n",
      "Ticker didn't have enough data.\n",
      "Making API call request...\n",
      "Making API call request...\n",
      "Making API call request...\n",
      "Ticker didn't have enough data.\n",
      "Making API call request...\n",
      "Making API call request...\n",
      "Making API call request...\n",
      "Ticker didn't have enough data.\n",
      "Making API call request...\n",
      "Making API call request...\n",
      "Making API call request...\n",
      "Ticker didn't have enough data.\n",
      "Making API call request...\n",
      "Ticker didn't have enough data.\n",
      "Making API call request...\n",
      "Ticker didn't have enough data.\n",
      "Making API call request...\n",
      "Ticker didn't have enough data.\n",
      "Making API call request...\n",
      "Making API call request...\n",
      "Making API call request...\n",
      "Ticker didn't have enough data.\n",
      "Making API call request...\n",
      "Making API call request...\n",
      "Ticker didn't have enough data.\n",
      "Making API call request...\n",
      "Ticker didn't have enough data.\n",
      "Making API call request...\n",
      "Making API call request...\n",
      "Making API call request...\n",
      "Ticker didn't have enough data.\n",
      "Making API call request...\n",
      "Making API call request...\n",
      "Making API call request...\n",
      "Ticker didn't have enough data.\n",
      "Making API call request...\n",
      "Making API call request...\n",
      "Making API call request...\n",
      "Ticker didn't have enough data.\n",
      "Making API call request...\n",
      "Ticker didn't have enough data.\n",
      "Making API call request...\n",
      "Ticker didn't have enough data.\n",
      "Making API call request...\n",
      "Making API call request...\n",
      "Making API call request...\n",
      "Ticker didn't have enough data.\n",
      "Making API call request...\n",
      "Ticker didn't have enough data.\n",
      "Making API call request...\n",
      "Making API call request...\n",
      "Making API call request...\n",
      "Ticker didn't have enough data.\n",
      "Making API call request...\n",
      "Making API call request...\n",
      "Ticker didn't have enough data.\n",
      "Making API call request...\n",
      "Making API call request...\n",
      "Making API call request...\n",
      "Making API call request...\n",
      "Making API call request...\n",
      "Ticker didn't have enough data.\n",
      "Making API call request...\n",
      "Making API call request...\n",
      "Making API call request...\n",
      "Ticker didn't have enough data.\n",
      "Making API call request...\n",
      "Making API call request...\n",
      "Ticker didn't have enough data.\n",
      "Making API call request...\n",
      "Ticker didn't have enough data.\n",
      "Making API call request...\n",
      "Making API call request...\n",
      "Making API call request...\n",
      "Ticker didn't have enough data.\n",
      "Making API call request...\n",
      "Ticker didn't have enough data.\n",
      "Making API call request...\n",
      "Making API call request...\n",
      "Making API call request...\n",
      "Ticker didn't have enough data.\n",
      "Making API call request...\n",
      "Making API call request...\n",
      "Ticker didn't have enough data.\n",
      "Making API call request...\n",
      "Making API call request...\n",
      "Making API call request...\n",
      "Making API call request...\n",
      "Making API call request...\n",
      "Ticker didn't have enough data.\n",
      "Making API call request...\n",
      "Making API call request...\n",
      "Making API call request...\n",
      "Making API call request...\n",
      "Making API call request...\n",
      "Making API call request...\n",
      "Ticker didn't have enough data.\n",
      "Making API call request...\n",
      "Ticker didn't have enough data.\n",
      "Making API call request...\n",
      "Making API call request...\n",
      "Making API call request...\n",
      "Making API call request...\n",
      "Making API call request...\n",
      "Making API call request...\n",
      "Ticker didn't have enough data.\n",
      "Making API call request...\n",
      "Ticker didn't have enough data.\n",
      "Making API call request...\n",
      "Ticker didn't have enough data.\n",
      "Making API call request...\n",
      "Ticker didn't have enough data.\n",
      "Making API call request...\n",
      "Ticker didn't have enough data.\n",
      "Making API call request...\n",
      "Making API call request...\n",
      "Making API call request...\n",
      "Ticker didn't have enough data.\n",
      "Making API call request...\n",
      "Making API call request...\n",
      "Making API call request...\n",
      "Ticker didn't have enough data.\n",
      "Making API call request...\n",
      "Ticker didn't have enough data.\n",
      "\n",
      "Getting Y data...\n",
      "Making API call request...\n",
      "Date 2005-09-30 not found for BMI\n",
      "Date found for BMI\n",
      "Date found for BMI\n",
      "Date 2017-09-30 not found for BMI\n",
      "Date 1996-03-31 not found for BMI\n",
      "Date 2010-12-31 not found for BMI\n",
      "Date 2007-09-30 not found for BMI\n",
      "Date found for BMI\n",
      "Date 2007-03-31 not found for BMI\n",
      "Date found for BMI\n",
      "Date found for BMI\n",
      "Date found for BMI\n",
      "Date found for BMI\n",
      "Date found for BMI\n",
      "Date found for BMI\n",
      "Date 2012-03-31 not found for BMI\n",
      "Date 2000-06-30 not found for BMI\n",
      "Date 2011-03-31 not found for BMI\n",
      "Date found for BMI\n",
      "Date found for BMI\n",
      "Date 1995-03-31 not found for BMI\n",
      "Date 2015-12-31 not found for BMI\n",
      "Date found for BMI\n",
      "Date 2011-09-30 not found for BMI\n",
      "Date 1995-06-30 not found for BMI\n",
      "Date found for BMI\n",
      "Date found for BMI\n",
      "Date found for BMI\n",
      "Date 2018-09-30 not found for BMI\n",
      "Date 1990-06-30 not found for BMI\n",
      "Date 2012-06-30 not found for BMI\n",
      "Date found for BMI\n",
      "Date 2000-09-30 not found for BMI\n",
      "Date found for BMI\n",
      "Date found for BMI\n",
      "Date found for BMI\n",
      "Date 2004-12-31 not found for BMI\n",
      "Date found for BMI\n",
      "Date 2017-12-31 not found for BMI\n",
      "Date found for BMI\n",
      "Date found for BMI\n",
      "Date found for BMI\n",
      "Date 2000-03-31 not found for BMI\n",
      "Date 1995-12-31 not found for BMI\n",
      "Date found for BMI\n",
      "Date 1991-06-30 not found for BMI\n",
      "Date found for BMI\n",
      "Date 2018-03-31 not found for BMI\n",
      "Date 1999-12-31 not found for BMI\n",
      "Date 2001-06-30 not found for BMI\n",
      "Date found for BMI\n",
      "Date found for BMI\n",
      "Date 2000-12-31 not found for BMI\n",
      "Date 2002-03-31 not found for BMI\n",
      "Date 2019-06-30 not found for BMI\n",
      "Date found for BMI\n",
      "Date found for BMI\n",
      "Date found for BMI\n",
      "Date 2007-06-30 not found for BMI\n",
      "Date found for BMI\n",
      "Date found for BMI\n",
      "Date 2019-03-31 not found for BMI\n",
      "Date 1991-03-31 not found for BMI\n",
      "Date 2012-09-30 not found for BMI\n",
      "Date 1995-09-30 not found for BMI\n",
      "Date found for BMI\n",
      "Date 1989-09-30 not found for BMI\n",
      "Date 2006-12-31 not found for BMI\n",
      "Date found for BMI\n",
      "Date 1990-09-30 not found for BMI\n",
      "Date found for BMI\n",
      "Date 2006-03-31 not found for BMI\n",
      "Date 2005-12-31 not found for BMI\n",
      "Date found for BMI\n",
      "Date 2016-12-31 not found for BMI\n",
      "Date found for BMI\n",
      "Date found for BMI\n",
      "Date found for BMI\n",
      "Date found for BMI\n",
      "Date found for BMI\n",
      "Date found for BMI\n",
      "Date 2016-09-30 not found for BMI\n",
      "Date 2011-06-30 not found for BMI\n",
      "Date found for BMI\n",
      "Date found for BMI\n",
      "Date found for BMI\n",
      "Date 2001-03-31 not found for BMI\n",
      "Date 2011-12-31 not found for BMI\n",
      "Date found for BMI\n",
      "Date 2006-09-30 not found for BMI\n",
      "Date found for BMI\n",
      "Date found for BMI\n",
      "Date found for BMI\n",
      "Date found for BMI\n",
      "Date 2006-06-30 not found for BMI\n",
      "Date 1999-09-30 not found for BMI\n",
      "Date found for BMI\n",
      "Date 2018-06-30 not found for BMI\n",
      "Date found for BMI\n",
      "Date 1994-09-30 not found for BMI\n",
      "(52, 5)\n",
      "Making API call request...\n",
      "Date 2013-03-31 not found for CMI\n",
      "Date 2013-09-29 not found for CMI\n",
      "Date 2007-09-30 not found for CMI\n",
      "Date 2000-09-24 not found for CMI\n",
      "Date found for CMI\n",
      "Date 1996-09-29 not found for CMI\n",
      "Date found for CMI\n",
      "Date 2017-07-02 not found for CMI\n",
      "Date 2011-09-25 not found for CMI\n",
      "Date 2015-12-31 not found for CMI\n",
      "Date 2018-04-01 not found for CMI\n",
      "Date 2016-07-03 not found for CMI\n",
      "Date 1990-06-30 not found for CMI\n",
      "Date 1999-06-27 not found for CMI\n",
      "Date found for CMI\n",
      "Date 1994-04-03 not found for CMI\n",
      "Date 1999-12-31 not found for CMI\n",
      "Date 1996-06-30 not found for CMI\n",
      "Date 2007-08-02 not found for CMI\n",
      "Date 2007-07-01 not found for CMI\n",
      "Date found for CMI\n",
      "Date 2003-09-28 not found for CMI\n",
      "Date 2003-06-29 not found for CMI\n",
      "Date 2013-06-30 not found for CMI\n",
      "Date 1997-09-28 not found for CMI\n",
      "Date found for CMI\n",
      "Date found for CMI\n",
      "Date 2010-03-28 not found for CMI\n",
      "Date 1995-07-02 not found for CMI\n",
      "Date 2000-12-31 not found for CMI\n",
      "Date 2016-10-02 not found for CMI\n",
      "Date 2002-06-30 not found for CMI\n",
      "Date 2015-06-28 not found for CMI\n",
      "Date 2016-04-03 not found for CMI\n",
      "Date 2003-03-30 not found for CMI\n",
      "Date 2009-03-29 not found for CMI\n",
      "Date 2017-10-01 not found for CMI\n",
      "Date 2011-12-31 not found for CMI\n",
      "Date 2015-09-27 not found for CMI\n",
      "Date found for CMI\n",
      "Date 2014-06-29 not found for CMI\n",
      "Date 1994-10-02 not found for CMI\n",
      "Date 2017-04-02 not found for CMI\n",
      "Date 1996-03-31 not found for CMI\n",
      "Date 2007-04-01 not found for CMI\n",
      "Date 2004-03-28 not found for CMI\n",
      "Date 1995-04-02 not found for CMI\n",
      "Date 2001-03-25 not found for CMI\n",
      "Date 1995-12-31 not found for CMI\n",
      "Date 2011-06-26 not found for CMI\n",
      "Date 1994-07-03 not found for CMI\n",
      "Date 2017-12-31 not found for CMI\n",
      "Date 2008-09-28 not found for CMI\n",
      "Date found for CMI\n",
      "Date 2000-06-25 not found for CMI\n",
      "Date 2009-06-28 not found for CMI\n",
      "Date 2000-03-26 not found for CMI\n",
      "Date found for CMI\n",
      "Date 1991-06-30 not found for CMI\n",
      "Date found for CMI\n",
      "Date found for CMI\n",
      "Date 1999-09-26 not found for CMI\n",
      "Date 1990-03-31 not found for CMI\n",
      "Date found for CMI\n",
      "Date 2005-12-31 not found for CMI\n",
      "Date 2019-03-31 not found for CMI\n",
      "Date 2006-08-04 not found for CMI\n",
      "Date found for CMI\n",
      "Date found for CMI\n",
      "Date found for CMI\n",
      "Date 2005-09-25 not found for CMI\n",
      "Date 1999-03-28 not found for CMI\n",
      "Date 2008-03-30 not found for CMI\n",
      "Date 1995-10-01 not found for CMI\n",
      "Date found for CMI\n",
      "Date 2001-06-24 not found for CMI\n",
      "Date 2011-03-27 not found for CMI\n",
      "Date 2018-09-30 not found for CMI\n",
      "Date 2019-09-29 not found for CMI\n",
      "Date 2012-04-01 not found for CMI\n",
      "Date found for CMI\n",
      "Date found for CMI\n",
      "Date 2001-09-23 not found for CMI\n",
      "Date 2002-09-29 not found for CMI\n",
      "Date 1991-03-31 not found for CMI\n",
      "Date found for CMI\n",
      "Date 1990-09-30 not found for CMI\n",
      "Date 2019-06-30 not found for CMI\n",
      "Date 2010-06-27 not found for CMI\n",
      "Date 2010-12-31 not found for CMI\n",
      "Date 2018-07-01 not found for CMI\n",
      "Date 1998-03-29 not found for CMI\n",
      "Date found for CMI\n",
      "Date 2002-03-31 not found for CMI\n",
      "Date 2005-06-26 not found for CMI\n",
      "Date 2005-03-27 not found for CMI\n",
      "Date 2015-03-29 not found for CMI\n",
      "Date 2008-06-29 not found for CMI\n",
      "Date 2016-12-31 not found for CMI\n",
      "Date 1998-06-28 not found for CMI\n",
      "(20, 5)\n",
      "Making API call request...\n"
     ]
    },
    {
     "name": "stdout",
     "output_type": "stream",
     "text": [
      "Date 2006-09-30 not found for IIIN\n",
      "Date 2003-12-27 not found for IIIN\n",
      "Date 2016-07-02 not found for IIIN\n",
      "Date 2004-10-02 not found for IIIN\n",
      "Date 2001-12-29 not found for IIIN\n",
      "Date found for IIIN\n",
      "Date 1996-06-30 not found for IIIN\n",
      "Date 2004-03-27 not found for IIIN\n",
      "Date 2001-09-29 not found for IIIN\n",
      "Date 2015-03-28 not found for IIIN\n",
      "Date 2009-03-28 not found for IIIN\n",
      "Date found for IIIN\n",
      "Date 2018-09-29 not found for IIIN\n",
      "Date 2005-10-01 not found for IIIN\n",
      "Date 2008-06-28 not found for IIIN\n",
      "Date 2016-01-02 not found for IIIN\n",
      "Date 2003-09-27 not found for IIIN\n",
      "Date 2012-06-30 not found for IIIN\n",
      "Date 2011-01-01 not found for IIIN\n",
      "Date 2000-07-01 not found for IIIN\n",
      "Date 1994-09-30 not found for IIIN\n",
      "Date 2003-06-28 not found for IIIN\n",
      "Date 2002-09-28 not found for IIIN\n",
      "Date 2008-12-27 not found for IIIN\n",
      "Date 2018-03-31 not found for IIIN\n",
      "Date 2015-06-27 not found for IIIN\n",
      "Date 2017-12-30 not found for IIIN\n",
      "Date 2007-03-31 not found for IIIN\n",
      "Date 2019-06-29 not found for IIIN\n",
      "Date 1995-09-30 not found for IIIN\n",
      "Date found for IIIN\n",
      "Date found for IIIN\n",
      "Date found for IIIN\n",
      "Date 2011-07-02 not found for IIIN\n",
      "Date 2006-07-01 not found for IIIN\n",
      "Date 2005-01-01 not found for IIIN\n",
      "Date 2011-10-01 not found for IIIN\n",
      "Date 2008-03-29 not found for IIIN\n",
      "Date 2006-04-01 not found for IIIN\n",
      "Date 1999-04-03 not found for IIIN\n",
      "Date 2018-06-30 not found for IIIN\n",
      "Date 2006-12-30 not found for IIIN\n",
      "Date 2007-06-30 not found for IIIN\n",
      "Date 2004-06-26 not found for IIIN\n",
      "Date 2000-01-01 not found for IIIN\n",
      "Date 2010-04-03 not found for IIIN\n",
      "Date 2002-06-29 not found for IIIN\n",
      "Date 1995-03-31 not found for IIIN\n",
      "Date 2014-12-27 not found for IIIN\n",
      "Date 2017-09-30 not found for IIIN\n",
      "Date 2019-03-30 not found for IIIN\n",
      "Date found for IIIN\n",
      "Date 2016-10-01 not found for IIIN\n",
      "Date 2003-03-29 not found for IIIN\n",
      "Date found for IIIN\n",
      "Date 2005-04-02 not found for IIIN\n",
      "Date 2007-09-29 not found for IIIN\n",
      "Date 2016-04-02 not found for IIIN\n",
      "Date 2012-12-29 not found for IIIN\n",
      "Date 2017-07-01 not found for IIIN\n",
      "Date 2000-12-31 not found for IIIN\n",
      "Date 2013-06-29 not found for IIIN\n",
      "Date 2014-09-27 not found for IIIN\n",
      "Date found for IIIN\n",
      "Date 1999-01-02 not found for IIIN\n",
      "Date 1994-12-31 not found for IIIN\n",
      "Date 2005-07-02 not found for IIIN\n",
      "Date 2002-12-28 not found for IIIN\n",
      "Date 1997-12-27 not found for IIIN\n",
      "Date 2000-09-30 not found for IIIN\n",
      "Date 2002-03-30 not found for IIIN\n",
      "Date 2017-04-01 not found for IIIN\n",
      "Date 2013-03-30 not found for IIIN\n",
      "Date 2010-01-02 not found for IIIN\n",
      "Date 2014-03-29 not found for IIIN\n",
      "Date 2010-07-03 not found for IIIN\n",
      "Date 2000-04-01 not found for IIIN\n",
      "Date 2012-09-29 not found for IIIN\n",
      "Date found for IIIN\n",
      "Date 1993-12-31 not found for IIIN\n",
      "Date 1998-10-03 not found for IIIN\n",
      "Date 2019-09-28 not found for IIIN\n",
      "Date found for IIIN\n",
      "Date found for IIIN\n",
      "Date 2018-12-29 not found for IIIN\n",
      "Date 2015-10-03 not found for IIIN\n",
      "Date 1995-12-31 not found for IIIN\n",
      "Date found for IIIN\n",
      "Date 1999-07-03 not found for IIIN\n",
      "Date 2005-12-31 not found for IIIN\n",
      "Date 2011-04-02 not found for IIIN\n",
      "Date 1996-03-31 not found for IIIN\n",
      "Date 2007-12-29 not found for IIIN\n",
      "Date 2008-09-27 not found for IIIN\n",
      "Date 2013-09-28 not found for IIIN\n",
      "Date 2016-12-31 not found for IIIN\n",
      "Date 2001-03-31 not found for IIIN\n",
      "Date found for IIIN\n",
      "Date 2009-06-27 not found for IIIN\n",
      "Date found for IIIN\n",
      "(14, 5)\n",
      "Making API call request...\n",
      "Date 1997-01-31 not found for RCMT\n",
      "Date 2000-12-31 not found for RCMT\n",
      "Date 2017-04-01 not found for RCMT\n",
      "Date 2015-10-03 not found for RCMT\n",
      "Date 2005-01-01 not found for RCMT\n",
      "Date 2008-03-29 not found for RCMT\n",
      "Date 2000-03-31 not found for RCMT\n",
      "Date 2016-07-02 not found for RCMT\n",
      "Date found for RCMT\n",
      "Date 2006-07-01 not found for RCMT\n",
      "Date 2004-10-02 not found for RCMT\n",
      "Date 2011-01-01 not found for RCMT\n",
      "Date 2001-09-30 not found for RCMT\n",
      "Date 2010-07-03 not found for RCMT\n",
      "Date found for RCMT\n",
      "Date 2005-07-02 not found for RCMT\n",
      "Date 2019-06-29 not found for RCMT\n",
      "Date 2013-09-28 not found for RCMT\n",
      "Date found for RCMT\n",
      "Date 2010-10-02 not found for RCMT\n",
      "Date 1997-10-31 not found for RCMT\n",
      "Date 2011-04-02 not found for RCMT\n",
      "Date 2019-03-30 not found for RCMT\n",
      "Date 2011-12-31 not found for RCMT\n",
      "Date 2002-03-31 not found for RCMT\n",
      "Date 2016-10-01 not found for RCMT\n",
      "Date 2007-09-29 not found for RCMT\n",
      "Date found for RCMT\n",
      "Date 2010-11-12 not found for RCMT\n",
      "Date 2018-03-31 not found for RCMT\n",
      "Date 2016-04-02 not found for RCMT\n",
      "Date found for RCMT\n",
      "Date 1998-10-31 not found for RCMT\n",
      "Date 2012-12-29 not found for RCMT\n",
      "Date 1999-04-30 not found for RCMT\n",
      "Date 2009-09-26 not found for RCMT\n",
      "Date found for RCMT\n",
      "Date 2007-06-30 not found for RCMT\n",
      "Date 2017-07-01 not found for RCMT\n",
      "Date 1998-01-31 not found for RCMT\n",
      "Date 2005-04-02 not found for RCMT\n",
      "Date 2015-01-03 not found for RCMT\n",
      "Date found for RCMT\n",
      "Date 2005-10-01 not found for RCMT\n",
      "Date 1998-07-31 not found for RCMT\n",
      "Date 2018-12-29 not found for RCMT\n",
      "Date 2012-09-29 not found for RCMT\n",
      "Date found for RCMT\n",
      "Date 2000-09-30 not found for RCMT\n",
      "Date 2006-04-01 not found for RCMT\n",
      "Date 2005-12-31 not found for RCMT\n",
      "Date 2016-01-02 not found for RCMT\n",
      "Date 2014-09-27 not found for RCMT\n",
      "Date found for RCMT\n",
      "Date 2012-06-30 not found for RCMT\n",
      "Date found for RCMT\n",
      "Date 2016-12-31 not found for RCMT\n",
      "Date found for RCMT\n",
      "Date 2013-03-30 not found for RCMT\n",
      "Date 2015-07-04 not found for RCMT\n",
      "Date 2001-03-31 not found for RCMT\n",
      "Date 2018-09-29 not found for RCMT\n",
      "Date found for RCMT\n",
      "Date 2006-12-30 not found for RCMT\n",
      "Date found for RCMT\n",
      "Date found for RCMT\n",
      "Date 2010-01-02 not found for RCMT\n",
      "Date 2000-06-30 not found for RCMT\n",
      "Date 2013-12-28 not found for RCMT\n",
      "Date found for RCMT\n",
      "Date found for RCMT\n",
      "Date found for RCMT\n",
      "Date 2006-09-30 not found for RCMT\n",
      "Date 2017-09-30 not found for RCMT\n",
      "Date 2009-06-27 not found for RCMT\n",
      "Date 2007-03-31 not found for RCMT\n",
      "Date 2019-09-28 not found for RCMT\n",
      "Date 1999-10-31 not found for RCMT\n",
      "Date 2004-03-27 not found for RCMT\n",
      "Date 2007-12-29 not found for RCMT\n",
      "Date found for RCMT\n",
      "Date 1999-01-31 not found for RCMT\n",
      "Date 2013-06-29 not found for RCMT\n",
      "Date 2014-06-28 not found for RCMT\n",
      "Date 2011-07-02 not found for RCMT\n",
      "Date found for RCMT\n",
      "Date 2001-06-30 not found for RCMT\n",
      "Date 1999-07-31 not found for RCMT\n",
      "Date 2004-07-03 not found for RCMT\n",
      "Date 2014-03-29 not found for RCMT\n",
      "Date 2009-03-28 not found for RCMT\n",
      "Date 2008-12-27 not found for RCMT\n",
      "Date 2011-10-01 not found for RCMT\n",
      "Date 2015-04-04 not found for RCMT\n",
      "Date found for RCMT\n",
      "Date 2002-06-30 not found for RCMT\n",
      "Date found for RCMT\n",
      "Date 2010-04-03 not found for RCMT\n",
      "Date 2018-06-30 not found for RCMT\n",
      "Date 2008-06-28 not found for RCMT\n",
      "(21, 5)\n"
     ]
    }
   ],
   "source": [
    "import os\n",
    "import requests\n",
    "import numpy as np\n",
    "import pandas as pd\n",
    "import imp\n",
    "\n",
    "from sklearn.decomposition import PCA, FastICA\n",
    "from sklearn.preprocessing import StandardScaler, scale, MinMaxScaler\n",
    "\n",
    "import statsmodels.tsa.api as tsa\n",
    "from scipy.stats import probplot, moment\n",
    "\n",
    "import matplotlib.pyplot as plt\n",
    "import seaborn as sns\n",
    "\n",
    "from api_keys import fmp_api_key as api_key\n",
    "# from API import API\n",
    "import API\n",
    "imp.reload(API)\n",
    "from API import API\n",
    "\n",
    "\n",
    "api = API(api_key, period='quarter', limit=None)\n",
    "tickers = api.getRandTickers(50)\n",
    "# tickers = ['AAPL', 'MSFT', 'AMZN', 'FB', 'GOOGL', 'TSLA', 'JPM', 'JNJ']\n",
    "\n",
    "X = api.getSamplesFromTickers(tickers, samplesPerTicker=100, maxTickers=50)\n",
    "Y = api.getYFromDF(X)\n"
   ]
  },
  {
   "cell_type": "code",
   "execution_count": 489,
   "metadata": {},
   "outputs": [
    {
     "name": "stdout",
     "output_type": "stream",
     "text": [
      "113\n"
     ]
    }
   ],
   "source": [
    "print(api.getNumApiCalls())"
   ]
  },
  {
   "cell_type": "markdown",
   "metadata": {},
   "source": [
    "## Format X and Y Data"
   ]
  },
  {
   "cell_type": "code",
   "execution_count": 490,
   "metadata": {},
   "outputs": [
    {
     "name": "stdout",
     "output_type": "stream",
     "text": [
      "['GOL', '2013.HK', '6808.HK', 'IBST.L', 'APT.AX', 'XMHQ', 'NFAZ.ME', 'VICE', 'FFEB', '4I1.DE', '2341.HK', 'SX.PA', 'KAU.AX', 'DKE.L', 'SQEW', 'ACMR', 'PEXIP.OL', 'TSCO.L', '1588.HK', 'VASO', 'UN01.DE', 'TRKAW', 'ACTV', 'MTO.AX', 'FMIJX', 'EBIXFOREX.NS', 'FAII', 'CMI', '0883.HK', 'FPH.DE', '0347.HK', 'KWT', 'MKEA.PA', 'QXTR', 'MSC', 'AHL-PE', 'IIIN', '0098.HK', 'RCMT', 'ECO.TO', 'SPXV', 'BMI', 'ENDURANCE.NS', 'IGCF.TO', 'LBE.L', 'CY5.AX', '0QC9.L', 'WLN.PA', 'SOON.SW', 'CTHRX']\n"
     ]
    }
   ],
   "source": [
    "print(tickers)\n",
    "\n",
    "baselinePercentage = .06\n",
    "Y['baselinePercentage'] = Y.apply(lambda row: baselinePercentage, axis=1)\n",
    "\n",
    "merged = pd.merge(X, Y, how='inner', left_on=[\"date\", \"symbol\"], right_on=[\"date\", \"symbol\"]).dropna()"
   ]
  },
  {
   "cell_type": "code",
   "execution_count": 491,
   "metadata": {},
   "outputs": [],
   "source": [
    "X = merged.drop(['date', 'symbol', 'futureDate', 'futureClose', 'percentage', 'baselinePercentage'], axis=1)\n",
    "Y = merged[['percentage']]\n",
    "Y_baseline = merged[['baselinePercentage']]"
   ]
  },
  {
   "cell_type": "code",
   "execution_count": 492,
   "metadata": {},
   "outputs": [
    {
     "data": {
      "text/html": [
       "<div>\n",
       "<style scoped>\n",
       "    .dataframe tbody tr th:only-of-type {\n",
       "        vertical-align: middle;\n",
       "    }\n",
       "\n",
       "    .dataframe tbody tr th {\n",
       "        vertical-align: top;\n",
       "    }\n",
       "\n",
       "    .dataframe thead th {\n",
       "        text-align: right;\n",
       "    }\n",
       "</style>\n",
       "<table border=\"1\" class=\"dataframe\">\n",
       "  <thead>\n",
       "    <tr style=\"text-align: right;\">\n",
       "      <th></th>\n",
       "      <th>currentRatio</th>\n",
       "      <th>quickRatio</th>\n",
       "      <th>grossProfitMargin</th>\n",
       "      <th>operatingProfitMargin</th>\n",
       "      <th>returnOnAssets</th>\n",
       "      <th>returnOnEquity</th>\n",
       "      <th>returnOnCapitalEmployed</th>\n",
       "      <th>debtEquityRatio</th>\n",
       "      <th>priceToBookRatio</th>\n",
       "      <th>priceToSalesRatio</th>\n",
       "      <th>...</th>\n",
       "      <th>growthCostOfRevenue</th>\n",
       "      <th>growthGrossProfit</th>\n",
       "      <th>growthGrossProfitRatio</th>\n",
       "      <th>growthOperatingExpenses</th>\n",
       "      <th>growthEBITDA</th>\n",
       "      <th>growthOperatingIncome</th>\n",
       "      <th>growthNetIncome</th>\n",
       "      <th>growthEPS</th>\n",
       "      <th>marketCapitalization</th>\n",
       "      <th>enterpriseValue</th>\n",
       "    </tr>\n",
       "  </thead>\n",
       "  <tbody>\n",
       "    <tr>\n",
       "      <th>0</th>\n",
       "      <td>1.561573</td>\n",
       "      <td>0.713524</td>\n",
       "      <td>0.273804</td>\n",
       "      <td>0.050997</td>\n",
       "      <td>0.017653</td>\n",
       "      <td>0.065529</td>\n",
       "      <td>0.031279</td>\n",
       "      <td>2.710353</td>\n",
       "      <td>2.290971</td>\n",
       "      <td>1.439768</td>\n",
       "      <td>...</td>\n",
       "      <td>0.045710</td>\n",
       "      <td>0.035373</td>\n",
       "      <td>-0.007239</td>\n",
       "      <td>0.034250</td>\n",
       "      <td>-0.027112</td>\n",
       "      <td>0.039474</td>\n",
       "      <td>0.172749</td>\n",
       "      <td>0.187500</td>\n",
       "      <td>1.422922e+09</td>\n",
       "      <td>1.832822e+09</td>\n",
       "    </tr>\n",
       "    <tr>\n",
       "      <th>1</th>\n",
       "      <td>2.057155</td>\n",
       "      <td>1.284539</td>\n",
       "      <td>0.227353</td>\n",
       "      <td>0.072059</td>\n",
       "      <td>0.030626</td>\n",
       "      <td>0.071561</td>\n",
       "      <td>0.038377</td>\n",
       "      <td>1.271137</td>\n",
       "      <td>2.415156</td>\n",
       "      <td>2.680112</td>\n",
       "      <td>...</td>\n",
       "      <td>0.296004</td>\n",
       "      <td>0.536779</td>\n",
       "      <td>0.143545</td>\n",
       "      <td>0.483146</td>\n",
       "      <td>1.330097</td>\n",
       "      <td>0.666667</td>\n",
       "      <td>1.842105</td>\n",
       "      <td>1.829250</td>\n",
       "      <td>9.112382e+09</td>\n",
       "      <td>8.856382e+09</td>\n",
       "    </tr>\n",
       "    <tr>\n",
       "      <th>2</th>\n",
       "      <td>1.483928</td>\n",
       "      <td>0.668582</td>\n",
       "      <td>0.267697</td>\n",
       "      <td>0.057801</td>\n",
       "      <td>0.021151</td>\n",
       "      <td>0.082647</td>\n",
       "      <td>0.040832</td>\n",
       "      <td>2.897805</td>\n",
       "      <td>2.531406</td>\n",
       "      <td>1.350206</td>\n",
       "      <td>...</td>\n",
       "      <td>0.147288</td>\n",
       "      <td>0.196867</td>\n",
       "      <td>0.031562</td>\n",
       "      <td>0.099059</td>\n",
       "      <td>0.431343</td>\n",
       "      <td>0.772595</td>\n",
       "      <td>1.335227</td>\n",
       "      <td>1.434783</td>\n",
       "      <td>1.476316e+09</td>\n",
       "      <td>1.826116e+09</td>\n",
       "    </tr>\n",
       "    <tr>\n",
       "      <th>3</th>\n",
       "      <td>1.374485</td>\n",
       "      <td>0.636250</td>\n",
       "      <td>0.269649</td>\n",
       "      <td>0.057993</td>\n",
       "      <td>0.017883</td>\n",
       "      <td>0.077154</td>\n",
       "      <td>0.040609</td>\n",
       "      <td>3.303736</td>\n",
       "      <td>3.133569</td>\n",
       "      <td>1.592190</td>\n",
       "      <td>...</td>\n",
       "      <td>-0.047660</td>\n",
       "      <td>-0.044885</td>\n",
       "      <td>0.002152</td>\n",
       "      <td>-0.017996</td>\n",
       "      <td>-0.136598</td>\n",
       "      <td>-0.177458</td>\n",
       "      <td>-0.214286</td>\n",
       "      <td>-0.258065</td>\n",
       "      <td>1.669252e+09</td>\n",
       "      <td>2.025252e+09</td>\n",
       "    </tr>\n",
       "    <tr>\n",
       "      <th>4</th>\n",
       "      <td>1.620853</td>\n",
       "      <td>0.777251</td>\n",
       "      <td>0.231559</td>\n",
       "      <td>0.058371</td>\n",
       "      <td>0.016999</td>\n",
       "      <td>0.045007</td>\n",
       "      <td>0.033579</td>\n",
       "      <td>1.610408</td>\n",
       "      <td>1.615704</td>\n",
       "      <td>1.473721</td>\n",
       "      <td>...</td>\n",
       "      <td>0.133396</td>\n",
       "      <td>0.168285</td>\n",
       "      <td>0.023654</td>\n",
       "      <td>0.125000</td>\n",
       "      <td>0.177570</td>\n",
       "      <td>0.318841</td>\n",
       "      <td>0.185185</td>\n",
       "      <td>0.188245</td>\n",
       "      <td>2.297531e+09</td>\n",
       "      <td>2.812531e+09</td>\n",
       "    </tr>\n",
       "  </tbody>\n",
       "</table>\n",
       "<p>5 rows × 24 columns</p>\n",
       "</div>"
      ],
      "text/plain": [
       "   currentRatio  quickRatio  grossProfitMargin  operatingProfitMargin  \\\n",
       "0      1.561573    0.713524           0.273804               0.050997   \n",
       "1      2.057155    1.284539           0.227353               0.072059   \n",
       "2      1.483928    0.668582           0.267697               0.057801   \n",
       "3      1.374485    0.636250           0.269649               0.057993   \n",
       "4      1.620853    0.777251           0.231559               0.058371   \n",
       "\n",
       "   returnOnAssets  returnOnEquity  returnOnCapitalEmployed  debtEquityRatio  \\\n",
       "0        0.017653        0.065529                 0.031279         2.710353   \n",
       "1        0.030626        0.071561                 0.038377         1.271137   \n",
       "2        0.021151        0.082647                 0.040832         2.897805   \n",
       "3        0.017883        0.077154                 0.040609         3.303736   \n",
       "4        0.016999        0.045007                 0.033579         1.610408   \n",
       "\n",
       "   priceToBookRatio  priceToSalesRatio  ...  growthCostOfRevenue  \\\n",
       "0          2.290971           1.439768  ...             0.045710   \n",
       "1          2.415156           2.680112  ...             0.296004   \n",
       "2          2.531406           1.350206  ...             0.147288   \n",
       "3          3.133569           1.592190  ...            -0.047660   \n",
       "4          1.615704           1.473721  ...             0.133396   \n",
       "\n",
       "   growthGrossProfit  growthGrossProfitRatio  growthOperatingExpenses  \\\n",
       "0           0.035373               -0.007239                 0.034250   \n",
       "1           0.536779                0.143545                 0.483146   \n",
       "2           0.196867                0.031562                 0.099059   \n",
       "3          -0.044885                0.002152                -0.017996   \n",
       "4           0.168285                0.023654                 0.125000   \n",
       "\n",
       "   growthEBITDA  growthOperatingIncome  growthNetIncome  growthEPS  \\\n",
       "0     -0.027112               0.039474         0.172749   0.187500   \n",
       "1      1.330097               0.666667         1.842105   1.829250   \n",
       "2      0.431343               0.772595         1.335227   1.434783   \n",
       "3     -0.136598              -0.177458        -0.214286  -0.258065   \n",
       "4      0.177570               0.318841         0.185185   0.188245   \n",
       "\n",
       "   marketCapitalization  enterpriseValue  \n",
       "0          1.422922e+09     1.832822e+09  \n",
       "1          9.112382e+09     8.856382e+09  \n",
       "2          1.476316e+09     1.826116e+09  \n",
       "3          1.669252e+09     2.025252e+09  \n",
       "4          2.297531e+09     2.812531e+09  \n",
       "\n",
       "[5 rows x 24 columns]"
      ]
     },
     "metadata": {},
     "output_type": "display_data"
    },
    {
     "name": "stdout",
     "output_type": "stream",
     "text": [
      "Index(['currentRatio', 'quickRatio', 'grossProfitMargin',\n",
      "       'operatingProfitMargin', 'returnOnAssets', 'returnOnEquity',\n",
      "       'returnOnCapitalEmployed', 'debtEquityRatio', 'priceToBookRatio',\n",
      "       'priceToSalesRatio', 'priceEarningsRatio', 'priceEarningsToGrowthRatio',\n",
      "       'priceToOperatingCashFlowsRatio', 'growthRevenue',\n",
      "       'growthCostOfRevenue', 'growthGrossProfit', 'growthGrossProfitRatio',\n",
      "       'growthOperatingExpenses', 'growthEBITDA', 'growthOperatingIncome',\n",
      "       'growthNetIncome', 'growthEPS', 'marketCapitalization',\n",
      "       'enterpriseValue'],\n",
      "      dtype='object')\n",
      "(106, 24)\n"
     ]
    },
    {
     "data": {
      "text/html": [
       "<div>\n",
       "<style scoped>\n",
       "    .dataframe tbody tr th:only-of-type {\n",
       "        vertical-align: middle;\n",
       "    }\n",
       "\n",
       "    .dataframe tbody tr th {\n",
       "        vertical-align: top;\n",
       "    }\n",
       "\n",
       "    .dataframe thead th {\n",
       "        text-align: right;\n",
       "    }\n",
       "</style>\n",
       "<table border=\"1\" class=\"dataframe\">\n",
       "  <thead>\n",
       "    <tr style=\"text-align: right;\">\n",
       "      <th></th>\n",
       "      <th>percentage</th>\n",
       "    </tr>\n",
       "  </thead>\n",
       "  <tbody>\n",
       "    <tr>\n",
       "      <th>0</th>\n",
       "      <td>-0.035222</td>\n",
       "    </tr>\n",
       "    <tr>\n",
       "      <th>1</th>\n",
       "      <td>1.398822</td>\n",
       "    </tr>\n",
       "    <tr>\n",
       "      <th>2</th>\n",
       "      <td>0.020588</td>\n",
       "    </tr>\n",
       "    <tr>\n",
       "      <th>3</th>\n",
       "      <td>0.027379</td>\n",
       "    </tr>\n",
       "    <tr>\n",
       "      <th>4</th>\n",
       "      <td>-0.398942</td>\n",
       "    </tr>\n",
       "  </tbody>\n",
       "</table>\n",
       "</div>"
      ],
      "text/plain": [
       "   percentage\n",
       "0   -0.035222\n",
       "1    1.398822\n",
       "2    0.020588\n",
       "3    0.027379\n",
       "4   -0.398942"
      ]
     },
     "metadata": {},
     "output_type": "display_data"
    },
    {
     "name": "stdout",
     "output_type": "stream",
     "text": [
      "(106, 1)\n"
     ]
    },
    {
     "data": {
      "text/html": [
       "<div>\n",
       "<style scoped>\n",
       "    .dataframe tbody tr th:only-of-type {\n",
       "        vertical-align: middle;\n",
       "    }\n",
       "\n",
       "    .dataframe tbody tr th {\n",
       "        vertical-align: top;\n",
       "    }\n",
       "\n",
       "    .dataframe thead th {\n",
       "        text-align: right;\n",
       "    }\n",
       "</style>\n",
       "<table border=\"1\" class=\"dataframe\">\n",
       "  <thead>\n",
       "    <tr style=\"text-align: right;\">\n",
       "      <th></th>\n",
       "      <th>baselinePercentage</th>\n",
       "    </tr>\n",
       "  </thead>\n",
       "  <tbody>\n",
       "    <tr>\n",
       "      <th>0</th>\n",
       "      <td>0.06</td>\n",
       "    </tr>\n",
       "    <tr>\n",
       "      <th>1</th>\n",
       "      <td>0.06</td>\n",
       "    </tr>\n",
       "    <tr>\n",
       "      <th>2</th>\n",
       "      <td>0.06</td>\n",
       "    </tr>\n",
       "    <tr>\n",
       "      <th>3</th>\n",
       "      <td>0.06</td>\n",
       "    </tr>\n",
       "    <tr>\n",
       "      <th>4</th>\n",
       "      <td>0.06</td>\n",
       "    </tr>\n",
       "  </tbody>\n",
       "</table>\n",
       "</div>"
      ],
      "text/plain": [
       "   baselinePercentage\n",
       "0                0.06\n",
       "1                0.06\n",
       "2                0.06\n",
       "3                0.06\n",
       "4                0.06"
      ]
     },
     "metadata": {},
     "output_type": "display_data"
    },
    {
     "name": "stdout",
     "output_type": "stream",
     "text": [
      "(106, 1)\n"
     ]
    }
   ],
   "source": [
    "# display(merge)\n",
    "display(X.head())\n",
    "print(X.columns)\n",
    "print(X.shape)\n",
    "display(Y.head())\n",
    "print(Y.shape)\n",
    "display(Y_baseline.head())\n",
    "print(Y_baseline.shape)"
   ]
  },
  {
   "cell_type": "markdown",
   "metadata": {},
   "source": [
    "## Plot Features to Examine Distributions"
   ]
  },
  {
   "cell_type": "code",
   "execution_count": 493,
   "metadata": {},
   "outputs": [
    {
     "name": "stderr",
     "output_type": "stream",
     "text": [
      "<ipython-input-493-82ac20f67b5e>:3: RuntimeWarning: More than 20 figures have been opened. Figures created through the pyplot interface (`matplotlib.pyplot.figure`) are retained until explicitly closed and may consume too much memory. (To control this warning, see the rcParam `figure.max_open_warning`).\n",
      "  plt.figure()\n"
     ]
    },
    {
     "data": {
      "image/png": "[encoded data removed]",
      "text/plain": [
       "<Figure size 432x288 with 1 Axes>"
      ]
     },
     "metadata": {
      "needs_background": "light"
     },
     "output_type": "display_data"
    },
    {
     "data": {
      "image/png": "[encoded data removed]",
      "text/plain": [
       "<Figure size 432x288 with 1 Axes>"
      ]
     },
     "metadata": {
      "needs_background": "light"
     },
     "output_type": "display_data"
    },
    {
     "data": {
      "image/png": "[encoded data removed]",
      "text/plain": [
       "<Figure size 432x288 with 1 Axes>"
      ]
     },
     "metadata": {
      "needs_background": "light"
     },
     "output_type": "display_data"
    },
    {
     "data": {
      "image/png": "[encoded data removed]",
      "text/plain": [
       "<Figure size 432x288 with 1 Axes>"
      ]
     },
     "metadata": {
      "needs_background": "light"
     },
     "output_type": "display_data"
    },
    {
     "data": {
      "image/png": "[encoded data removed]",
      "text/plain": [
       "<Figure size 432x288 with 1 Axes>"
      ]
     },
     "metadata": {
      "needs_background": "light"
     },
     "output_type": "display_data"
    },
    {
     "data": {
      "image/png": "[encoded data removed]",
      "text/plain": [
       "<Figure size 432x288 with 1 Axes>"
      ]
     },
     "metadata": {
      "needs_background": "light"
     },
     "output_type": "display_data"
    },
    {
     "data": {
      "image/png": "[encoded data removed]",
      "text/plain": [
       "<Figure size 432x288 with 1 Axes>"
      ]
     },
     "metadata": {
      "needs_background": "light"
     },
     "output_type": "display_data"
    },
    {
     "data": {
      "image/png": "[encoded data removed]",
      "text/plain": [
       "<Figure size 432x288 with 1 Axes>"
      ]
     },
     "metadata": {
      "needs_background": "light"
     },
     "output_type": "display_data"
    },
    {
     "data": {
      "image/png": "[encoded data removed]",
      "text/plain": [
       "<Figure size 432x288 with 1 Axes>"
      ]
     },
     "metadata": {
      "needs_background": "light"
     },
     "output_type": "display_data"
    },
    {
     "data": {
      "image/png": "[encoded data removed]",
      "text/plain": [
       "<Figure size 432x288 with 1 Axes>"
      ]
     },
     "metadata": {
      "needs_background": "light"
     },
     "output_type": "display_data"
    },
    {
     "data": {
      "image/png": "[encoded data removed]",
      "text/plain": [
       "<Figure size 432x288 with 1 Axes>"
      ]
     },
     "metadata": {
      "needs_background": "light"
     },
     "output_type": "display_data"
    },
    {
     "data": {
      "image/png": "[encoded data removed]",
      "text/plain": [
       "<Figure size 432x288 with 1 Axes>"
      ]
     },
     "metadata": {
      "needs_background": "light"
     },
     "output_type": "display_data"
    },
    {
     "data": {
      "image/png": "[encoded data removed]",
      "text/plain": [
       "<Figure size 432x288 with 1 Axes>"
      ]
     },
     "metadata": {
      "needs_background": "light"
     },
     "output_type": "display_data"
    },
    {
     "data": {
      "image/png": "[encoded data removed]",
      "text/plain": [
       "<Figure size 432x288 with 1 Axes>"
      ]
     },
     "metadata": {
      "needs_background": "light"
     },
     "output_type": "display_data"
    },
    {
     "data": {
      "image/png": "[encoded data removed]",
      "text/plain": [
       "<Figure size 432x288 with 1 Axes>"
      ]
     },
     "metadata": {
      "needs_background": "light"
     },
     "output_type": "display_data"
    },
    {
     "data": {
      "image/png": "[encoded data removed]",
      "text/plain": [
       "<Figure size 432x288 with 1 Axes>"
      ]
     },
     "metadata": {
      "needs_background": "light"
     },
     "output_type": "display_data"
    },
    {
     "data": {
      "image/png": "[encoded data removed]",
      "text/plain": [
       "<Figure size 432x288 with 1 Axes>"
      ]
     },
     "metadata": {
      "needs_background": "light"
     },
     "output_type": "display_data"
    },
    {
     "data": {
      "image/png": "[encoded data removed]",
      "text/plain": [
       "<Figure size 432x288 with 1 Axes>"
      ]
     },
     "metadata": {
      "needs_background": "light"
     },
     "output_type": "display_data"
    },
    {
     "data": {
      "image/png": "[encoded data removed]",
      "text/plain": [
       "<Figure size 432x288 with 1 Axes>"
      ]
     },
     "metadata": {
      "needs_background": "light"
     },
     "output_type": "display_data"
    },
    {
     "data": {
      "image/png": "[encoded data removed]",
      "text/plain": [
       "<Figure size 432x288 with 1 Axes>"
      ]
     },
     "metadata": {
      "needs_background": "light"
     },
     "output_type": "display_data"
    },
    {
     "data": {
      "image/png": "[encoded data removed]",
      "text/plain": [
       "<Figure size 432x288 with 1 Axes>"
      ]
     },
     "metadata": {
      "needs_background": "light"
     },
     "output_type": "display_data"
    },
    {
     "data": {
      "image/png": "[encoded data removed]",
      "text/plain": [
       "<Figure size 432x288 with 1 Axes>"
      ]
     },
     "metadata": {
      "needs_background": "light"
     },
     "output_type": "display_data"
    },
    {
     "data": {
      "image/png": "[encoded data removed]",
      "text/plain": [
       "<Figure size 432x288 with 1 Axes>"
      ]
     },
     "metadata": {
      "needs_background": "light"
     },
     "output_type": "display_data"
    },
    {
     "data": {
      "image/png": "[encoded data removed]",
      "text/plain": [
       "<Figure size 432x288 with 1 Axes>"
      ]
     },
     "metadata": {
      "needs_background": "light"
     },
     "output_type": "display_data"
    }
   ],
   "source": [
    "# plt.figure()\n",
    "for colName in X:\n",
    "  plt.figure()\n",
    "  sns.scatterplot(data=merged, x=colName, y='percentage')"
   ]
  },
  {
   "cell_type": "markdown",
   "metadata": {},
   "source": [
    "## Scaling/ Normalization"
   ]
  },
  {
   "cell_type": "code",
   "execution_count": 494,
   "metadata": {},
   "outputs": [
    {
     "data": {
      "text/html": [
       "<div>\n",
       "<style scoped>\n",
       "    .dataframe tbody tr th:only-of-type {\n",
       "        vertical-align: middle;\n",
       "    }\n",
       "\n",
       "    .dataframe tbody tr th {\n",
       "        vertical-align: top;\n",
       "    }\n",
       "\n",
       "    .dataframe thead th {\n",
       "        text-align: right;\n",
       "    }\n",
       "</style>\n",
       "<table border=\"1\" class=\"dataframe\">\n",
       "  <thead>\n",
       "    <tr style=\"text-align: right;\">\n",
       "      <th></th>\n",
       "      <th>currentRatio</th>\n",
       "      <th>quickRatio</th>\n",
       "      <th>grossProfitMargin</th>\n",
       "      <th>operatingProfitMargin</th>\n",
       "      <th>returnOnAssets</th>\n",
       "      <th>returnOnEquity</th>\n",
       "      <th>returnOnCapitalEmployed</th>\n",
       "      <th>debtEquityRatio</th>\n",
       "      <th>priceToBookRatio</th>\n",
       "      <th>priceToSalesRatio</th>\n",
       "      <th>...</th>\n",
       "      <th>growthCostOfRevenue</th>\n",
       "      <th>growthGrossProfit</th>\n",
       "      <th>growthGrossProfitRatio</th>\n",
       "      <th>growthOperatingExpenses</th>\n",
       "      <th>growthEBITDA</th>\n",
       "      <th>growthOperatingIncome</th>\n",
       "      <th>growthNetIncome</th>\n",
       "      <th>growthEPS</th>\n",
       "      <th>marketCapitalization</th>\n",
       "      <th>enterpriseValue</th>\n",
       "    </tr>\n",
       "  </thead>\n",
       "  <tbody>\n",
       "    <tr>\n",
       "      <th>0</th>\n",
       "      <td>-0.385445</td>\n",
       "      <td>-0.450438</td>\n",
       "      <td>0.036322</td>\n",
       "      <td>-0.091331</td>\n",
       "      <td>0.122074</td>\n",
       "      <td>0.613306</td>\n",
       "      <td>0.027597</td>\n",
       "      <td>2.217209</td>\n",
       "      <td>-0.056906</td>\n",
       "      <td>-0.615399</td>\n",
       "      <td>...</td>\n",
       "      <td>-0.114260</td>\n",
       "      <td>-0.126571</td>\n",
       "      <td>-0.030835</td>\n",
       "      <td>0.086676</td>\n",
       "      <td>0.132571</td>\n",
       "      <td>0.051852</td>\n",
       "      <td>0.169318</td>\n",
       "      <td>0.176311</td>\n",
       "      <td>-0.030120</td>\n",
       "      <td>0.045622</td>\n",
       "    </tr>\n",
       "    <tr>\n",
       "      <th>1</th>\n",
       "      <td>0.174414</td>\n",
       "      <td>0.162905</td>\n",
       "      <td>-0.291952</td>\n",
       "      <td>0.093872</td>\n",
       "      <td>0.444278</td>\n",
       "      <td>0.708420</td>\n",
       "      <td>0.114314</td>\n",
       "      <td>0.262545</td>\n",
       "      <td>0.025919</td>\n",
       "      <td>-0.256614</td>\n",
       "      <td>...</td>\n",
       "      <td>0.875649</td>\n",
       "      <td>0.508721</td>\n",
       "      <td>0.119290</td>\n",
       "      <td>0.624671</td>\n",
       "      <td>0.830292</td>\n",
       "      <td>0.306707</td>\n",
       "      <td>0.566125</td>\n",
       "      <td>0.515494</td>\n",
       "      <td>1.623001</td>\n",
       "      <td>1.583146</td>\n",
       "    </tr>\n",
       "    <tr>\n",
       "      <th>2</th>\n",
       "      <td>-0.473160</td>\n",
       "      <td>-0.498713</td>\n",
       "      <td>-0.006833</td>\n",
       "      <td>-0.031496</td>\n",
       "      <td>0.208946</td>\n",
       "      <td>0.883225</td>\n",
       "      <td>0.144305</td>\n",
       "      <td>2.471797</td>\n",
       "      <td>0.103452</td>\n",
       "      <td>-0.641306</td>\n",
       "      <td>...</td>\n",
       "      <td>0.287480</td>\n",
       "      <td>0.078045</td>\n",
       "      <td>0.007796</td>\n",
       "      <td>0.164349</td>\n",
       "      <td>0.368256</td>\n",
       "      <td>0.349750</td>\n",
       "      <td>0.445640</td>\n",
       "      <td>0.433998</td>\n",
       "      <td>-0.018641</td>\n",
       "      <td>0.044154</td>\n",
       "    </tr>\n",
       "    <tr>\n",
       "      <th>3</th>\n",
       "      <td>-0.596798</td>\n",
       "      <td>-0.533441</td>\n",
       "      <td>0.006961</td>\n",
       "      <td>-0.029810</td>\n",
       "      <td>0.127789</td>\n",
       "      <td>0.796608</td>\n",
       "      <td>0.141581</td>\n",
       "      <td>3.023110</td>\n",
       "      <td>0.505066</td>\n",
       "      <td>-0.571309</td>\n",
       "      <td>...</td>\n",
       "      <td>-0.483535</td>\n",
       "      <td>-0.228260</td>\n",
       "      <td>-0.021485</td>\n",
       "      <td>0.024060</td>\n",
       "      <td>0.076286</td>\n",
       "      <td>-0.036296</td>\n",
       "      <td>0.077320</td>\n",
       "      <td>0.084257</td>\n",
       "      <td>0.022838</td>\n",
       "      <td>0.087747</td>\n",
       "    </tr>\n",
       "    <tr>\n",
       "      <th>4</th>\n",
       "      <td>-0.318476</td>\n",
       "      <td>-0.381988</td>\n",
       "      <td>-0.262229</td>\n",
       "      <td>-0.026490</td>\n",
       "      <td>0.105831</td>\n",
       "      <td>0.289725</td>\n",
       "      <td>0.055699</td>\n",
       "      <td>0.723324</td>\n",
       "      <td>-0.507276</td>\n",
       "      <td>-0.605577</td>\n",
       "      <td>...</td>\n",
       "      <td>0.232539</td>\n",
       "      <td>0.041831</td>\n",
       "      <td>-0.000078</td>\n",
       "      <td>0.195439</td>\n",
       "      <td>0.237795</td>\n",
       "      <td>0.165371</td>\n",
       "      <td>0.172274</td>\n",
       "      <td>0.176465</td>\n",
       "      <td>0.157908</td>\n",
       "      <td>0.260089</td>\n",
       "    </tr>\n",
       "  </tbody>\n",
       "</table>\n",
       "<p>5 rows × 24 columns</p>\n",
       "</div>"
      ],
      "text/plain": [
       "   currentRatio  quickRatio  grossProfitMargin  operatingProfitMargin  \\\n",
       "0     -0.385445   -0.450438           0.036322              -0.091331   \n",
       "1      0.174414    0.162905          -0.291952               0.093872   \n",
       "2     -0.473160   -0.498713          -0.006833              -0.031496   \n",
       "3     -0.596798   -0.533441           0.006961              -0.029810   \n",
       "4     -0.318476   -0.381988          -0.262229              -0.026490   \n",
       "\n",
       "   returnOnAssets  returnOnEquity  returnOnCapitalEmployed  debtEquityRatio  \\\n",
       "0        0.122074        0.613306                 0.027597         2.217209   \n",
       "1        0.444278        0.708420                 0.114314         0.262545   \n",
       "2        0.208946        0.883225                 0.144305         2.471797   \n",
       "3        0.127789        0.796608                 0.141581         3.023110   \n",
       "4        0.105831        0.289725                 0.055699         0.723324   \n",
       "\n",
       "   priceToBookRatio  priceToSalesRatio  ...  growthCostOfRevenue  \\\n",
       "0         -0.056906          -0.615399  ...            -0.114260   \n",
       "1          0.025919          -0.256614  ...             0.875649   \n",
       "2          0.103452          -0.641306  ...             0.287480   \n",
       "3          0.505066          -0.571309  ...            -0.483535   \n",
       "4         -0.507276          -0.605577  ...             0.232539   \n",
       "\n",
       "   growthGrossProfit  growthGrossProfitRatio  growthOperatingExpenses  \\\n",
       "0          -0.126571               -0.030835                 0.086676   \n",
       "1           0.508721                0.119290                 0.624671   \n",
       "2           0.078045                0.007796                 0.164349   \n",
       "3          -0.228260               -0.021485                 0.024060   \n",
       "4           0.041831               -0.000078                 0.195439   \n",
       "\n",
       "   growthEBITDA  growthOperatingIncome  growthNetIncome  growthEPS  \\\n",
       "0      0.132571               0.051852         0.169318   0.176311   \n",
       "1      0.830292               0.306707         0.566125   0.515494   \n",
       "2      0.368256               0.349750         0.445640   0.433998   \n",
       "3      0.076286              -0.036296         0.077320   0.084257   \n",
       "4      0.237795               0.165371         0.172274   0.176465   \n",
       "\n",
       "   marketCapitalization  enterpriseValue  \n",
       "0             -0.030120         0.045622  \n",
       "1              1.623001         1.583146  \n",
       "2             -0.018641         0.044154  \n",
       "3              0.022838         0.087747  \n",
       "4              0.157908         0.260089  \n",
       "\n",
       "[5 rows x 24 columns]"
      ]
     },
     "metadata": {},
     "output_type": "display_data"
    }
   ],
   "source": [
    "# min_max_scaler = MinMaxScaler((-1, 1))\n",
    "# df[percentages] = min_max_scaler.fit_transform(df[percentages])  # No need, because percentages are already on a good scale\n",
    "ss = StandardScaler()\n",
    "X_scaled = pd.DataFrame(ss.fit_transform(X), columns = X.columns)\n",
    "display(X_scaled.head())\n",
    "\n"
   ]
  },
  {
   "cell_type": "markdown",
   "metadata": {},
   "source": [
    "## Reduce Dimensionality with PCA"
   ]
  },
  {
   "cell_type": "code",
   "execution_count": 495,
   "metadata": {},
   "outputs": [
    {
     "data": {
      "text/plain": [
       "(106, 23)"
      ]
     },
     "metadata": {},
     "output_type": "display_data"
    },
    {
     "name": "stdout",
     "output_type": "stream",
     "text": [
      "components = 23\n"
     ]
    }
   ],
   "source": [
    "pca = PCA(n_components='mle')\n",
    "X_pc = pca.fit_transform(X_scaled)\n",
    "# print(pca.components_)\n",
    "# print(pca.explained_variance_)\n",
    "display(X_pc.shape)\n",
    "\n",
    "print(\"components = \" + str(pca.n_components_))"
   ]
  },
  {
   "cell_type": "markdown",
   "metadata": {},
   "source": [
    "## Examine Distribution on 1st Principle Component"
   ]
  },
  {
   "cell_type": "code",
   "execution_count": 496,
   "metadata": {},
   "outputs": [
    {
     "name": "stdout",
     "output_type": "stream",
     "text": [
      "(106,)\n",
      "(106, 1)\n",
      "     percentage\n",
      "0     -0.035222\n",
      "1      1.398822\n",
      "2      0.020588\n",
      "3      0.027379\n",
      "4     -0.398942\n",
      "..          ...\n",
      "102    0.080925\n",
      "103    0.046265\n",
      "104   -0.144599\n",
      "105    0.196203\n",
      "106    0.087840\n",
      "\n",
      "[106 rows x 1 columns]\n"
     ]
    }
   ],
   "source": [
    "# plt.scatter(X_pc[:,0], Y)\n",
    "print(X_pc[:,0].shape)\n",
    "print(Y.shape)\n",
    "print(Y)"
   ]
  },
  {
   "cell_type": "markdown",
   "metadata": {},
   "source": [
    "## Transform Data to Polynomial Features, Train Models, and Plot Error"
   ]
  },
  {
   "cell_type": "code",
   "execution_count": 497,
   "metadata": {},
   "outputs": [
    {
     "name": "stdout",
     "output_type": "stream",
     "text": [
      "X Shape = \n",
      "(106, 24)\n",
      "Poly Shape = \n",
      "(106, 25)\n",
      "X Shape = \n",
      "(106, 24)\n",
      "Poly Shape = \n",
      "(106, 325)\n",
      "X Shape = \n",
      "(106, 24)\n",
      "Poly Shape = \n",
      "(106, 2925)\n",
      "X Shape = \n",
      "(106, 24)\n",
      "Poly Shape = \n",
      "(106, 20475)\n",
      "X Shape = \n",
      "(106, 23)\n",
      "Poly Shape = \n",
      "(106, 24)\n",
      "X Shape = \n",
      "(106, 23)\n",
      "Poly Shape = \n",
      "(106, 300)\n",
      "X Shape = \n",
      "(106, 23)\n",
      "Poly Shape = \n",
      "(106, 2600)\n",
      "X Shape = \n",
      "(106, 23)\n",
      "Poly Shape = \n",
      "(106, 17550)\n"
     ]
    }
   ],
   "source": [
    "from sklearn.preprocessing import PolynomialFeatures\n",
    "from sklearn.model_selection import train_test_split\n",
    "from sklearn.metrics import mean_squared_error\n",
    "from sklearn.linear_model import LinearRegression\n",
    "\n",
    "def trainAndGetResults(X, baseline=False):\n",
    "    results = {'clf': [] , 'x': [], 'X_train': [], 'Y_pred': [], 'Y_test': [], 'mse': [], 'rmse': []}\n",
    "    for i in range(1, 5):\n",
    "        if not baseline:\n",
    "            print(\"X Shape = \")\n",
    "            print(X.shape)\n",
    "            poly = PolynomialFeatures(degree=i)\n",
    "            poly_features = poly.fit_transform(X)\n",
    "            X_train, X_test, Y_train, Y_test = train_test_split(poly_features, Y, test_size=0.33, random_state=42)\n",
    "\n",
    "            clf = LinearRegression()\n",
    "            print(\"Poly Shape = \")\n",
    "            print(poly_features.shape)\n",
    "            clf.fit(X_train, Y_train)\n",
    "            Y_pred = clf.predict(X_test)\n",
    "            results['clf'].append(clf)\n",
    "            results['X_train'].append(X_train)\n",
    "            results['Y_pred'].append(Y_pred)\n",
    "            results['Y_test'].append(Y_test)\n",
    "\n",
    "            mse = mean_squared_error(Y_test, Y_pred)\n",
    "            rmse = mean_squared_error(Y_test, Y_pred, squared=False)\n",
    "        else:\n",
    "            mse = mean_squared_error(Y, Y_baseline)\n",
    "            rmse = mean_squared_error(Y, Y_baseline, squared=False)\n",
    "\n",
    "        results['x'].append(i)\n",
    "        results['mse'].append(mse)\n",
    "        results['rmse'].append(rmse)\n",
    "    return results\n",
    "\n",
    "trueBaseResults = trainAndGetResults(X)\n",
    "baselineBaseResults = trainAndGetResults(X, baseline=True)\n",
    "truePcResults = trainAndGetResults(X_pc)\n",
    "baselinePcResults = trainAndGetResults(X_pc, baseline=True)"
   ]
  },
  {
   "cell_type": "code",
   "execution_count": 498,
   "metadata": {},
   "outputs": [
    {
     "data": {
      "image/png": "[encoded data removed]",
      "text/plain": [
       "<Figure size 432x288 with 1 Axes>"
      ]
     },
     "metadata": {
      "needs_background": "light"
     },
     "output_type": "display_data"
    },
    {
     "name": "stdout",
     "output_type": "stream",
     "text": [
      "MSEs: [1.4741272303072532, 844.5562967018861, 994389.9883148215, 53211694.524287894]\n",
      "RMSEs: [1.214136413384943, 29.061250776624984, 997.1910490547042, 7294.6346395339015]\n",
      "\n",
      "1's top 3 weights were [3.28896425 2.54003476 1.00242742]\n",
      "at [6 4 3]\n",
      "2's top 3 weights were [4.40532422e-07 3.50268314e-07 2.84891720e-07]\n",
      "at [114 152 295]\n",
      "3's top 3 weights were [4.23230416e-17 4.16846345e-17 3.46426546e-17]\n",
      "at [2559 2840 2866]\n",
      "4's top 3 weights were [4.01271586e-28 3.31924667e-28 2.93815397e-28]\n",
      "at [18091 20401 20402]\n"
     ]
    },
    {
     "data": {
      "image/png": "[encoded data removed]",
      "text/plain": [
       "<Figure size 432x288 with 1 Axes>"
      ]
     },
     "metadata": {
      "needs_background": "light"
     },
     "output_type": "display_data"
    },
    {
     "name": "stdout",
     "output_type": "stream",
     "text": [
      "MSEs: [0.2937304810515872, 0.2937304810515872, 0.2937304810515872, 0.2937304810515872]\n",
      "RMSEs: [0.5419690775787741, 0.5419690775787741, 0.5419690775787741, 0.5419690775787741]\n",
      "\n"
     ]
    },
    {
     "data": {
      "image/png": "[encoded data removed]",
      "text/plain": [
       "<Figure size 432x288 with 1 Axes>"
      ]
     },
     "metadata": {
      "needs_background": "light"
     },
     "output_type": "display_data"
    },
    {
     "name": "stdout",
     "output_type": "stream",
     "text": [
      "MSEs: [1.4220358490780565, 58.02011977818925, 4.485081080447586, 128.2409221968719]\n",
      "RMSEs: [1.1924914461236427, 7.61709391948066, 2.1178010011442496, 11.32435085101446]\n",
      "\n",
      "1's top 3 weights were [0.86771284 0.48261707 0.2627808 ]\n",
      "at [22 19  5]\n",
      "2's top 3 weights were [0.885316   0.87828093 0.64799924]\n",
      "at [175 181 187]\n",
      "3's top 3 weights were [0.16607118 0.15003522 0.13306687]\n",
      "at [313 181  40]\n",
      "4's top 3 weights were [0.08830768 0.08102267 0.07336293]\n",
      "at [  2 181 180]\n"
     ]
    },
    {
     "data": {
      "image/png": "[encoded data removed]",
      "text/plain": [
       "<Figure size 432x288 with 1 Axes>"
      ]
     },
     "metadata": {
      "needs_background": "light"
     },
     "output_type": "display_data"
    },
    {
     "name": "stdout",
     "output_type": "stream",
     "text": [
      "MSEs: [0.2937304810515872, 0.2937304810515872, 0.2937304810515872, 0.2937304810515872]\n",
      "RMSEs: [0.5419690775787741, 0.5419690775787741, 0.5419690775787741, 0.5419690775787741]\n",
      "\n"
     ]
    }
   ],
   "source": [
    "def plotResults(results, title):\n",
    "    plt.title(title)\n",
    "    plt.plot(results['x'], results['mse'], label = \"MSE\")\n",
    "    plt.plot(results['x'], results['rmse'], label = \"RMSE\")\n",
    "    plt.legend()\n",
    "    plt.show()\n",
    "    print(\"MSEs: {}\".format(results['mse']))\n",
    "    print(\"RMSEs: {}\".format(results['rmse']))\n",
    "    print()\n",
    "    for x, clf in zip(results['x'], results['clf']):\n",
    "        coef = clf.coef_.ravel()\n",
    "        max_3_idx = coef.argsort()[-3:][::-1]\n",
    "        print(\"{}'s top 3 weights were {}\".format(x, coef[max_3_idx]))\n",
    "        print(\"at {}\".format(max_3_idx))\n",
    "\n",
    "plotResults(trueBaseResults, \"Model Results w/o PCA\")\n",
    "plotResults(baselineBaseResults, \"Baseline Results w/o PCA\")\n",
    "plotResults(truePcResults, \"Model Results w/ PCA\")\n",
    "plotResults(baselinePcResults,\"Baseline Results w/ PCA\")\n"
   ]
  },
  {
   "cell_type": "markdown",
   "metadata": {},
   "source": [
    "## Train Neural Net Model"
   ]
  },
  {
   "cell_type": "code",
   "execution_count": 499,
   "metadata": {},
   "outputs": [
    {
     "name": "stdout",
     "output_type": "stream",
     "text": [
      "X Shape = \n",
      "(106, 24)\n",
      "X Shape = \n",
      "(106, 23)\n"
     ]
    }
   ],
   "source": [
    "from sklearn.neural_network import MLPRegressor\n",
    "from sklearn.datasets import make_regression\n",
    "\n",
    "import NNModels\n",
    "imp.reload(NNModels)\n",
    "from NNModels import NeuralNetRegressionModel as NNRegModel\n",
    "\n",
    "trueBaseResultsNN = NNRegModel.trainAndGetResults(X, Y, Y_baseline)\n",
    "baselineBaseResultsNN = NNRegModel.trainAndGetResults(X, Y, Y_baseline, baseline=True)\n",
    "truePcResultsNN = NNRegModel.trainAndGetResults(X_pc, Y, Y_baseline)\n",
    "baselinePcResultsNN = NNRegModel.trainAndGetResults(X_pc, Y, Y_baseline, baseline=True)"
   ]
  },
  {
   "cell_type": "code",
   "execution_count": 500,
   "metadata": {},
   "outputs": [
    {
     "name": "stdout",
     "output_type": "stream",
     "text": [
      "X Shape = \n",
      "(106, 24)\n",
      "{'alpha': 0.1, 'epsilon': 1e-08, 'hidden_layer_sizes': (20, 20), 'learning_rate_init': 0.05}\n",
      "X Shape = \n",
      "(106, 23)\n",
      "{'alpha': 0.01, 'epsilon': 1e-08, 'hidden_layer_sizes': (20, 5), 'learning_rate_init': 0.05}\n"
     ]
    }
   ],
   "source": [
    "import NNModels\n",
    "imp.reload(NNModels)\n",
    "from NNModels import NeuralNetClassificationModel as NNClfModel\n",
    "\n",
    "Y_clf = NNClfModel.getYClassificationFromMerged(merged)\n",
    "Y_clf_baseline = NNClfModel.getYBaselineClassificationFromMerged(merged)\n",
    "\n",
    "# print(merged)\n",
    "\n",
    "trueBaseResultsNNClf = NNClfModel.trainAndGetResults(X, Y_clf, Y_clf_baseline)\n",
    "baselineBaseResultsNNClf = NNClfModel.trainAndGetResults(X, Y_clf, Y_clf_baseline, baseline=True)\n",
    "truePcResultsNNClf = NNClfModel.trainAndGetResults(X_pc, Y_clf, Y_clf_baseline)\n",
    "baselinePcResultsNNClf = NNClfModel.trainAndGetResults(X_pc, Y_clf, Y_clf_baseline, baseline=True)"
   ]
  },
  {
   "cell_type": "markdown",
   "metadata": {},
   "source": [
    "## Plot Neural Net Model"
   ]
  },
  {
   "cell_type": "code",
   "execution_count": 501,
   "metadata": {},
   "outputs": [
    {
     "name": "stdout",
     "output_type": "stream",
     "text": [
      "NN Reg Model Results w/o PCA\n",
      "MSEs: [22832237057.2197]\n",
      "RMSEs: [151103.39856277124]\n",
      "\n",
      "Baseline Results w/o PCA\n",
      "MSEs: [0.2937304810515872]\n",
      "RMSEs: [0.5419690775787741]\n",
      "\n",
      "NN Reg Model Results w/ PCA\n",
      "MSEs: [0.19204316554054385]\n",
      "RMSEs: [0.43822729894490126]\n",
      "\n",
      "Baseline Results w/ PCA\n",
      "MSEs: [0.2937304810515872]\n",
      "RMSEs: [0.5419690775787741]\n",
      "\n"
     ]
    }
   ],
   "source": [
    "def plotResultsNN(results, title):\n",
    "    plt.title(title)\n",
    "    plt.plot(results['x'], results['mse'], label = \"MSE\")\n",
    "    plt.plot(results['x'], results['rmse'], label = \"RMSE\")\n",
    "    plt.legend()\n",
    "    plt.show()\n",
    "    print(\"MSEs: {}\".format(results['mse']))\n",
    "    print(\"RMSEs: {}\".format(results['rmse']))\n",
    "    print()\n",
    "\n",
    "NNRegModel.plotResults(trueBaseResultsNN, \"NN Reg Model Results w/o PCA\")\n",
    "NNRegModel.plotResults(baselineBaseResultsNN, \"Baseline Results w/o PCA\")\n",
    "NNRegModel.plotResults(truePcResultsNN, \"NN Reg Model Results w/ PCA\")\n",
    "NNRegModel.plotResults(baselinePcResultsNN,\"Baseline Results w/ PCA\")"
   ]
  },
  {
   "cell_type": "code",
   "execution_count": 502,
   "metadata": {
    "scrolled": true
   },
   "outputs": [
    {
     "data": {
      "image/png": "[encoded data removed]",
      "text/plain": [
       "<Figure size 432x288 with 1 Axes>"
      ]
     },
     "metadata": {
      "needs_background": "light"
     },
     "output_type": "display_data"
    },
    {
     "name": "stdout",
     "output_type": "stream",
     "text": [
      "NN Clf Model Results w/o PCA\n",
      "MSEs: [1.9714285714285715]\n",
      "RMSEs: [1.4040757000349275]\n",
      "\n"
     ]
    },
    {
     "data": {
      "image/png": "[encoded data removed]",
      "text/plain": [
       "<Figure size 432x288 with 1 Axes>"
      ]
     },
     "metadata": {
      "needs_background": "light"
     },
     "output_type": "display_data"
    },
    {
     "name": "stdout",
     "output_type": "stream",
     "text": [
      "Clf Baseline Results w/o PCA\n",
      "MSEs: [1.330188679245283]\n",
      "RMSEs: [1.153338059393378]\n",
      "\n"
     ]
    },
    {
     "data": {
      "image/png": "[encoded data removed]",
      "text/plain": [
       "<Figure size 432x288 with 1 Axes>"
      ]
     },
     "metadata": {
      "needs_background": "light"
     },
     "output_type": "display_data"
    },
    {
     "name": "stdout",
     "output_type": "stream",
     "text": [
      "NN Clf Model Results w/ PCA\n",
      "MSEs: [1.0571428571428572]\n",
      "RMSEs: [1.0281745265969475]\n",
      "\n"
     ]
    },
    {
     "data": {
      "image/png": "[encoded data removed]",
      "text/plain": [
       "<Figure size 432x288 with 1 Axes>"
      ]
     },
     "metadata": {
      "needs_background": "light"
     },
     "output_type": "display_data"
    },
    {
     "name": "stdout",
     "output_type": "stream",
     "text": [
      "Clf Baseline Results w/ PCA\n",
      "MSEs: [1.330188679245283]\n",
      "RMSEs: [1.153338059393378]\n",
      "\n"
     ]
    }
   ],
   "source": [
    "# plot classification model results\n",
    "NNClfModel.plotResults(trueBaseResultsNNClf, \"NN Clf Model Results w/o PCA\")\n",
    "NNClfModel.plotResults(baselineBaseResultsNNClf, \"Clf Baseline Results w/o PCA\")\n",
    "NNClfModel.plotResults(truePcResultsNNClf, \"NN Clf Model Results w/ PCA\")\n",
    "NNClfModel.plotResults(baselinePcResultsNNClf,\"Clf Baseline Results w/ PCA\")"
   ]
  },
  {
   "cell_type": "markdown",
   "metadata": {},
   "source": [
    "## Real-World Results"
   ]
  },
  {
   "cell_type": "code",
   "execution_count": 503,
   "metadata": {},
   "outputs": [
    {
     "name": "stdout",
     "output_type": "stream",
     "text": [
      "components = 23\n",
      "\n",
      "Getting X data...\n",
      "Making API call request...\n",
      "Making API call request...\n",
      "Making API call request...\n",
      "Making API call request...\n",
      "Making API call request...\n",
      "Making API call request...\n",
      "Making API call request...\n",
      "Making API call request...\n",
      "Making API call request...\n",
      "Making API call request...\n",
      "Making API call request...\n",
      "Making API call request...\n",
      "Ticker didn't have enough data.\n",
      "Making API call request...\n",
      "Making API call request...\n",
      "Making API call request...\n",
      "Making API call request...\n",
      "Making API call request...\n",
      "Making API call request...\n",
      "Ticker didn't have enough data.\n",
      "Making API call request...\n",
      "Making API call request...\n",
      "Making API call request...\n",
      "Making API call request...\n",
      "Making API call request...\n",
      "Making API call request...\n",
      "\n",
      "Getting Y data...\n",
      "Making API call request...\n",
      "Date 1995-03-31 not found for AAPL\n",
      "Date 1990-06-30 not found for AAPL\n",
      "Date 2016-06-25 not found for AAPL\n",
      "Date 2001-12-29 not found for AAPL\n",
      "Date 1997-03-28 not found for AAPL\n",
      "Date 1989-12-31 not found for AAPL\n",
      "Date found for AAPL\n",
      "Date 2016-03-26 not found for AAPL\n",
      "Date 2001-09-29 not found for AAPL\n",
      "Date 2005-03-26 not found for AAPL\n",
      "Date 1998-09-25 not found for AAPL\n",
      "Date found for AAPL\n",
      "Date 2003-06-28 not found for AAPL\n",
      "Date 2018-06-30 not found for AAPL\n",
      "Date 2007-06-30 not found for AAPL\n",
      "Date 2000-12-30 not found for AAPL\n",
      "Date 2007-03-31 not found for AAPL\n",
      "Date 2006-04-01 not found for AAPL\n",
      "Date 2015-06-27 not found for AAPL\n",
      "Date 2012-09-29 not found for AAPL\n",
      "Date 2005-06-25 not found for AAPL\n",
      "Date 2003-03-29 not found for AAPL\n",
      "Date 2012-03-31 not found for AAPL\n",
      "Date 2007-09-29 not found for AAPL\n",
      "Date 2015-03-28 not found for AAPL\n",
      "Date 1996-12-27 not found for AAPL\n",
      "Date 2014-09-27 not found for AAPL\n",
      "Date 2009-03-28 not found for AAPL\n",
      "Date 2001-03-31 not found for AAPL\n",
      "Date 2003-09-27 not found for AAPL\n",
      "Date 2000-09-30 not found for AAPL\n",
      "Date 2017-04-01 not found for AAPL\n",
      "Date 2006-12-30 not found for AAPL\n",
      "Date 1998-06-26 not found for AAPL\n",
      "Date 2002-03-30 not found for AAPL\n",
      "Date 2008-03-29 not found for AAPL\n",
      "Date 2018-12-29 not found for AAPL\n",
      "Date 2008-12-27 not found for AAPL\n",
      "Date 2011-06-25 not found for AAPL\n",
      "Date 2009-09-26 not found for AAPL\n",
      "Date 2013-06-29 not found for AAPL\n",
      "Date found for AAPL\n",
      "Date 2015-12-26 not found for AAPL\n",
      "Date 1994-12-30 not found for AAPL\n",
      "Date 2010-03-27 not found for AAPL\n",
      "Date 2013-12-28 not found for AAPL\n",
      "Date 2018-09-29 not found for AAPL\n",
      "Date 2002-12-28 not found for AAPL\n",
      "Date 2019-09-28 not found for AAPL\n",
      "Date 2011-03-26 not found for AAPL\n",
      "(3, 5)\n",
      "Making API call request...\n",
      "Date 2011-03-31 not found for AMZN\n",
      "Date found for AMZN\n",
      "Date found for AMZN\n",
      "Date found for AMZN\n",
      "Date found for AMZN\n",
      "Date found for AMZN\n",
      "Date found for AMZN\n",
      "Date found for AMZN\n",
      "Date found for AMZN\n",
      "Date 2018-03-31 not found for AMZN\n",
      "Date 2011-12-31 not found for AMZN\n",
      "Date found for AMZN\n",
      "Date 2017-09-30 not found for AMZN\n",
      "Date found for AMZN\n",
      "Date 2013-03-31 not found for AMZN\n",
      "Date 2000-03-31 not found for AMZN\n",
      "Date found for AMZN\n",
      "Date found for AMZN\n",
      "Date found for AMZN\n",
      "Date 2007-03-31 not found for AMZN\n",
      "Date 2019-06-30 not found for AMZN\n",
      "Date found for AMZN\n",
      "Date 2002-06-30 not found for AMZN\n",
      "Date 1999-09-30 not found for AMZN\n",
      "Date 2006-06-30 not found for AMZN\n",
      "Date found for AMZN\n",
      "Date 2006-09-30 not found for AMZN\n",
      "Date 2007-09-30 not found for AMZN\n",
      "Date found for AMZN\n",
      "Date 2012-03-31 not found for AMZN\n",
      "Date found for AMZN\n",
      "Date 2004-12-31 not found for AMZN\n",
      "Date 2005-12-31 not found for AMZN\n",
      "Date 2006-03-31 not found for AMZN\n",
      "Date 2012-09-30 not found for AMZN\n",
      "Date found for AMZN\n",
      "Date 2017-12-31 not found for AMZN\n",
      "Date found for AMZN\n",
      "Date found for AMZN\n",
      "Date found for AMZN\n",
      "Date 2001-03-31 not found for AMZN\n",
      "Date 2001-09-30 not found for AMZN\n",
      "Date 2007-06-30 not found for AMZN\n",
      "Date 2010-12-31 not found for AMZN\n",
      "Date found for AMZN\n",
      "Date 2016-09-30 not found for AMZN\n",
      "Date 2011-09-30 not found for AMZN\n",
      "Date found for AMZN\n",
      "Date found for AMZN\n",
      "Date found for AMZN\n",
      "(25, 5)\n",
      "Making API call request...\n",
      "Date found for GOOGL\n",
      "Date 2013-03-31 not found for GOOGL\n",
      "Date found for GOOGL\n",
      "Date 2007-06-30 not found for GOOGL\n",
      "Date 2004-12-31 not found for GOOGL\n",
      "Date 2006-06-30 not found for GOOGL\n",
      "Date 2011-06-30 not found for GOOGL\n",
      "Date found for GOOGL\n",
      "Date 2005-12-31 not found for GOOGL\n",
      "Date found for GOOGL\n",
      "Date 2019-06-30 not found for GOOGL\n",
      "Date 2015-12-31 not found for GOOGL\n",
      "Date found for GOOGL\n",
      "Date found for GOOGL\n",
      "Date found for GOOGL\n",
      "Date found for GOOGL\n",
      "Date 2012-09-30 not found for GOOGL\n",
      "Date 2018-03-31 not found for GOOGL\n",
      "Date 2018-06-30 not found for GOOGL\n",
      "Date 2017-09-30 not found for GOOGL\n",
      "Date found for GOOGL\n",
      "Date found for GOOGL\n",
      "Date found for GOOGL\n",
      "Date found for GOOGL\n",
      "Date found for GOOGL\n",
      "Date found for GOOGL\n",
      "Date 2006-12-31 not found for GOOGL\n",
      "Date 2017-12-31 not found for GOOGL\n",
      "Date 2010-12-31 not found for GOOGL\n",
      "Date found for GOOGL\n",
      "Date 2005-09-30 not found for GOOGL\n",
      "Date 2016-09-30 not found for GOOGL\n",
      "Date found for GOOGL\n",
      "Date found for GOOGL\n",
      "Date 2011-12-31 not found for GOOGL\n",
      "Date found for GOOGL\n",
      "Date found for GOOGL\n",
      "Date found for GOOGL\n",
      "Date 2017-03-31 not found for GOOGL\n",
      "Date 2007-03-31 not found for GOOGL\n",
      "Date found for GOOGL\n",
      "Date found for GOOGL\n",
      "Date 2013-06-30 not found for GOOGL\n",
      "Date 2017-06-30 not found for GOOGL\n",
      "Date 2016-12-31 not found for GOOGL\n",
      "Date 2019-03-31 not found for GOOGL\n",
      "Date found for GOOGL\n",
      "Date 2012-03-31 not found for GOOGL\n",
      "Date 2011-09-30 not found for GOOGL\n",
      "Date 2012-06-30 not found for GOOGL\n",
      "(23, 5)\n",
      "Making API call request...\n",
      "Date 2014-06-29 not found for JNJ\n",
      "Date 2006-04-02 not found for JNJ\n",
      "Date 2007-04-01 not found for JNJ\n",
      "Date 2016-01-03 not found for JNJ\n",
      "Date 1999-07-04 not found for JNJ\n",
      "Date 2000-12-31 not found for JNJ\n",
      "Date found for JNJ\n",
      "Date 2003-03-30 not found for JNJ\n",
      "Date 2018-04-01 not found for JNJ\n",
      "Date 2011-01-02 not found for JNJ\n",
      "Date 1995-07-02 not found for JNJ\n",
      "Date 1996-12-29 not found for JNJ\n",
      "Date 2013-12-29 not found for JNJ\n",
      "Date 2004-06-27 not found for JNJ\n",
      "Date 2015-09-27 not found for JNJ\n",
      "Date 2006-12-31 not found for JNJ\n",
      "Date 1995-04-02 not found for JNJ\n",
      "Date 2011-07-03 not found for JNJ\n",
      "Date 2018-07-01 not found for JNJ\n",
      "Date 1998-09-27 not found for JNJ\n",
      "Date 1997-03-30 not found for JNJ\n",
      "Date 2013-06-30 not found for JNJ\n",
      "Date 1999-01-03 not found for JNJ\n",
      "Date 2005-07-03 not found for JNJ\n",
      "Date 2008-12-28 not found for JNJ\n",
      "Date 1999-04-04 not found for JNJ\n",
      "Date 1995-01-01 not found for JNJ\n",
      "Date 2016-07-03 not found for JNJ\n",
      "Date 2006-01-01 not found for JNJ\n",
      "Date 2010-04-04 not found for JNJ\n",
      "Date 2012-12-30 not found for JNJ\n",
      "Date 2019-09-29 not found for JNJ\n",
      "Date 2005-04-03 not found for JNJ\n",
      "Date 1999-10-03 not found for JNJ\n",
      "Date 1995-10-01 not found for JNJ\n",
      "Date 2001-07-01 not found for JNJ\n",
      "Date found for JNJ\n",
      "Date 2000-07-02 not found for JNJ\n",
      "Date 2019-03-31 not found for JNJ\n",
      "Date 1994-10-02 not found for JNJ\n",
      "Date 1996-03-31 not found for JNJ\n",
      "Date 2017-12-31 not found for JNJ\n",
      "Date 2014-03-30 not found for JNJ\n",
      "Date 2003-09-28 not found for JNJ\n",
      "Date 2016-10-02 not found for JNJ\n",
      "Date 2012-07-01 not found for JNJ\n",
      "Date 2018-09-30 not found for JNJ\n",
      "Date 1997-09-28 not found for JNJ\n",
      "Date 2018-12-30 not found for JNJ\n",
      "Date 2012-04-01 not found for JNJ\n",
      "(2, 5)\n",
      "Making API call request...\n",
      "Date 2000-09-30 not found for JPM\n",
      "Date found for JPM\n",
      "Date found for JPM\n",
      "Date 2006-12-31 not found for JPM\n",
      "Date 2006-06-30 not found for JPM\n",
      "Date 2001-06-30 not found for JPM\n",
      "Date found for JPM\n",
      "Date found for JPM\n",
      "Date 1996-03-31 not found for JPM\n",
      "Date 1995-12-31 not found for JPM\n",
      "Date found for JPM\n",
      "Date found for JPM\n",
      "Date 2006-03-31 not found for JPM\n",
      "Date found for JPM\n",
      "Date found for JPM\n",
      "Date 2011-09-30 not found for JPM\n",
      "Date found for JPM\n",
      "Date found for JPM\n",
      "Date found for JPM\n",
      "Date found for JPM\n",
      "Date found for JPM\n",
      "Date found for JPM\n",
      "Date found for JPM\n",
      "Date found for JPM\n",
      "Date 2000-12-31 not found for JPM\n",
      "Date 2007-09-30 not found for JPM\n",
      "Date 2018-09-30 not found for JPM\n",
      "Date 2017-03-31 not found for JPM\n",
      "Date 2000-06-30 not found for JPM\n",
      "Date 1995-06-30 not found for JPM\n",
      "Date found for JPM\n",
      "Date 2017-06-30 not found for JPM\n",
      "Date 2019-03-31 not found for JPM\n",
      "Date 1996-06-30 not found for JPM\n",
      "Date 2002-06-30 not found for JPM\n",
      "Date 2015-12-31 not found for JPM\n",
      "Date 2012-09-30 not found for JPM\n",
      "Date 2001-03-31 not found for JPM\n",
      "Date 2010-12-31 not found for JPM\n",
      "Date 2017-12-31 not found for JPM\n",
      "Date 2007-06-30 not found for JPM\n",
      "Date found for JPM\n",
      "Date found for JPM\n",
      "Date 2018-03-31 not found for JPM\n",
      "Date 2006-09-30 not found for JPM\n",
      "Date found for JPM\n",
      "Date found for JPM\n",
      "Date 2017-09-30 not found for JPM\n",
      "Date 2001-09-30 not found for JPM\n",
      "Date found for JPM\n",
      "(22, 5)\n",
      "Making API call request...\n"
     ]
    },
    {
     "name": "stdout",
     "output_type": "stream",
     "text": [
      "Date 2007-09-30 not found for MSFT\n",
      "Date 2000-12-31 not found for MSFT\n",
      "Date 1994-09-30 not found for MSFT\n",
      "Date 2017-12-31 not found for MSFT\n",
      "Date found for MSFT\n",
      "Date found for MSFT\n",
      "Date 2019-03-31 not found for MSFT\n",
      "Date 2019-06-30 not found for MSFT\n",
      "Date 2004-12-31 not found for MSFT\n",
      "Date found for MSFT\n",
      "Date found for MSFT\n",
      "Date 2000-06-30 not found for MSFT\n",
      "Date 2016-12-31 not found for MSFT\n",
      "Date found for MSFT\n",
      "Date 1999-09-30 not found for MSFT\n",
      "Date 2000-03-31 not found for MSFT\n",
      "Date 2005-12-31 not found for MSFT\n",
      "Date found for MSFT\n",
      "Date 2006-06-30 not found for MSFT\n",
      "Date 1990-09-30 not found for MSFT\n",
      "Date found for MSFT\n",
      "Date 2010-12-31 not found for MSFT\n",
      "Date found for MSFT\n",
      "Date 1995-03-31 not found for MSFT\n",
      "Date found for MSFT\n",
      "Date found for MSFT\n",
      "Date 2007-06-30 not found for MSFT\n",
      "Date found for MSFT\n",
      "Date 2006-09-30 not found for MSFT\n",
      "Date 2018-06-30 not found for MSFT\n",
      "Date found for MSFT\n",
      "Date found for MSFT\n",
      "Date 1995-12-31 not found for MSFT\n",
      "Date found for MSFT\n",
      "Date 2012-09-30 not found for MSFT\n",
      "Date 2012-06-30 not found for MSFT\n",
      "Date found for MSFT\n",
      "Date found for MSFT\n",
      "Date found for MSFT\n",
      "Date 2018-03-31 not found for MSFT\n",
      "Date found for MSFT\n",
      "Date found for MSFT\n",
      "Date found for MSFT\n",
      "Date 1994-12-31 not found for MSFT\n",
      "Date found for MSFT\n",
      "Date 2011-12-31 not found for MSFT\n",
      "Date found for MSFT\n",
      "Date 1989-06-30 not found for MSFT\n",
      "Date found for MSFT\n",
      "Date 1989-12-31 not found for MSFT\n",
      "(23, 5)\n"
     ]
    }
   ],
   "source": [
    "# Collect data from 10 different stocks\n",
    "final_tickers = ['AAPL', 'MSFT', 'AMZN', 'FB', 'GOOGL', 'TSLA', 'JPM', 'JNJ']\n",
    "#- final_pca = PCA(n_components=21)\n",
    "# final_pca = PCA(n_components='mle')\n",
    "print(\"components = \" + str(pca.n_components_))\n",
    "final_pca = PCA(n_components=pca.n_components_)\n",
    "final_poly = PolynomialFeatures(degree=1)\n",
    "\n",
    "spy_X = api.getSamplesFromTickers(final_tickers, samplesPerTicker=50, maxTickers=10)\n",
    "spy_Y = api.getYFromDF(spy_X)"
   ]
  },
  {
   "cell_type": "code",
   "execution_count": 504,
   "metadata": {},
   "outputs": [
    {
     "name": "stdout",
     "output_type": "stream",
     "text": [
      "143\n"
     ]
    }
   ],
   "source": [
    "print(api.getNumApiCalls())"
   ]
  },
  {
   "cell_type": "code",
   "execution_count": 505,
   "metadata": {},
   "outputs": [],
   "source": [
    "spy_merged = pd.merge(spy_X, spy_Y, how='inner', left_on=[\"date\", \"symbol\"], right_on=[\"date\", \"symbol\"]).dropna()\n",
    "spy_X = spy_merged.drop(['date', 'symbol', 'futureDate', 'futureClose', 'percentage'], axis=1)\n",
    "spy_Y = spy_merged[['percentage']]\n",
    "\n",
    "spy_X_scaled = pd.DataFrame(ss.fit_transform(spy_X), columns = spy_X.columns)\n",
    "spy_X_pc = final_pca.fit_transform(spy_X_scaled)\n",
    "spy_X_poly = final_poly.fit_transform(spy_X_scaled)\n",
    "spy_X_pc_poly = final_poly.fit_transform(spy_X_pc)"
   ]
  },
  {
   "cell_type": "code",
   "execution_count": 506,
   "metadata": {},
   "outputs": [],
   "source": [
    "# get classification test data\n",
    "spy_Y_clf = NNClfModel.getYClassificationFromMerged(spy_merged)\n",
    "spy_Y_clf_baseline = NNClfModel.getYBaselineClassificationFromMerged(spy_merged)\n",
    "\n",
    "# print(spy_merged)\n",
    "# print(spy_X.shape)\n",
    "# print(spy_Y.shape)"
   ]
  },
  {
   "cell_type": "code",
   "execution_count": 507,
   "metadata": {},
   "outputs": [
    {
     "data": {
      "text/html": [
       "<div>\n",
       "<style scoped>\n",
       "    .dataframe tbody tr th:only-of-type {\n",
       "        vertical-align: middle;\n",
       "    }\n",
       "\n",
       "    .dataframe tbody tr th {\n",
       "        vertical-align: top;\n",
       "    }\n",
       "\n",
       "    .dataframe thead th {\n",
       "        text-align: right;\n",
       "    }\n",
       "</style>\n",
       "<table border=\"1\" class=\"dataframe\">\n",
       "  <thead>\n",
       "    <tr style=\"text-align: right;\">\n",
       "      <th></th>\n",
       "      <th>currentRatio</th>\n",
       "      <th>quickRatio</th>\n",
       "      <th>grossProfitMargin</th>\n",
       "      <th>operatingProfitMargin</th>\n",
       "      <th>returnOnAssets</th>\n",
       "      <th>returnOnEquity</th>\n",
       "      <th>returnOnCapitalEmployed</th>\n",
       "      <th>debtEquityRatio</th>\n",
       "      <th>priceToBookRatio</th>\n",
       "      <th>priceToSalesRatio</th>\n",
       "      <th>...</th>\n",
       "      <th>growthCostOfRevenue</th>\n",
       "      <th>growthGrossProfit</th>\n",
       "      <th>growthGrossProfitRatio</th>\n",
       "      <th>growthOperatingExpenses</th>\n",
       "      <th>growthEBITDA</th>\n",
       "      <th>growthOperatingIncome</th>\n",
       "      <th>growthNetIncome</th>\n",
       "      <th>growthEPS</th>\n",
       "      <th>marketCapitalization</th>\n",
       "      <th>enterpriseValue</th>\n",
       "    </tr>\n",
       "  </thead>\n",
       "  <tbody>\n",
       "    <tr>\n",
       "      <th>0</th>\n",
       "      <td>2.408181</td>\n",
       "      <td>1.159514</td>\n",
       "      <td>0.425086</td>\n",
       "      <td>0.120382</td>\n",
       "      <td>0.035888</td>\n",
       "      <td>0.070659</td>\n",
       "      <td>0.081439</td>\n",
       "      <td>0.968898</td>\n",
       "      <td>3.150645</td>\n",
       "      <td>3.595607</td>\n",
       "      <td>...</td>\n",
       "      <td>0.001648</td>\n",
       "      <td>0.028171</td>\n",
       "      <td>0.013873</td>\n",
       "      <td>0.053745</td>\n",
       "      <td>-0.008826</td>\n",
       "      <td>-0.044202</td>\n",
       "      <td>-0.025167</td>\n",
       "      <td>-0.018124</td>\n",
       "      <td>7.192293e+09</td>\n",
       "      <td>6.798493e+09</td>\n",
       "    </tr>\n",
       "    <tr>\n",
       "      <th>1</th>\n",
       "      <td>2.521323</td>\n",
       "      <td>1.243205</td>\n",
       "      <td>0.476095</td>\n",
       "      <td>0.115561</td>\n",
       "      <td>0.031957</td>\n",
       "      <td>0.062082</td>\n",
       "      <td>0.072770</td>\n",
       "      <td>0.942679</td>\n",
       "      <td>2.759181</td>\n",
       "      <td>3.363595</td>\n",
       "      <td>...</td>\n",
       "      <td>0.289973</td>\n",
       "      <td>0.145018</td>\n",
       "      <td>-0.060306</td>\n",
       "      <td>-0.287359</td>\n",
       "      <td>-9.849858</td>\n",
       "      <td>-3.957207</td>\n",
       "      <td>-4.126177</td>\n",
       "      <td>-4.090608</td>\n",
       "      <td>5.853327e+09</td>\n",
       "      <td>5.302227e+09</td>\n",
       "    </tr>\n",
       "    <tr>\n",
       "      <th>2</th>\n",
       "      <td>2.486968</td>\n",
       "      <td>1.256414</td>\n",
       "      <td>0.406252</td>\n",
       "      <td>0.085668</td>\n",
       "      <td>0.024809</td>\n",
       "      <td>0.048508</td>\n",
       "      <td>0.056355</td>\n",
       "      <td>0.955253</td>\n",
       "      <td>2.715416</td>\n",
       "      <td>3.145034</td>\n",
       "      <td>...</td>\n",
       "      <td>0.261380</td>\n",
       "      <td>0.026313</td>\n",
       "      <td>-0.107139</td>\n",
       "      <td>-0.028530</td>\n",
       "      <td>0.084785</td>\n",
       "      <td>0.197414</td>\n",
       "      <td>0.224753</td>\n",
       "      <td>0.240693</td>\n",
       "      <td>6.207983e+09</td>\n",
       "      <td>5.707283e+09</td>\n",
       "    </tr>\n",
       "    <tr>\n",
       "      <th>3</th>\n",
       "      <td>1.446898</td>\n",
       "      <td>1.246436</td>\n",
       "      <td>0.819031</td>\n",
       "      <td>0.358906</td>\n",
       "      <td>0.059030</td>\n",
       "      <td>0.118420</td>\n",
       "      <td>0.132473</td>\n",
       "      <td>1.006091</td>\n",
       "      <td>6.886977</td>\n",
       "      <td>15.779557</td>\n",
       "      <td>...</td>\n",
       "      <td>0.140016</td>\n",
       "      <td>0.086348</td>\n",
       "      <td>-0.008519</td>\n",
       "      <td>-0.032399</td>\n",
       "      <td>0.273426</td>\n",
       "      <td>0.289181</td>\n",
       "      <td>-0.020738</td>\n",
       "      <td>0.003301</td>\n",
       "      <td>2.499008e+11</td>\n",
       "      <td>2.395618e+11</td>\n",
       "    </tr>\n",
       "    <tr>\n",
       "      <th>4</th>\n",
       "      <td>4.083458</td>\n",
       "      <td>3.837838</td>\n",
       "      <td>0.846213</td>\n",
       "      <td>0.139292</td>\n",
       "      <td>0.014649</td>\n",
       "      <td>0.018631</td>\n",
       "      <td>0.017321</td>\n",
       "      <td>0.271848</td>\n",
       "      <td>3.809437</td>\n",
       "      <td>29.304638</td>\n",
       "      <td>...</td>\n",
       "      <td>-0.398038</td>\n",
       "      <td>-0.005763</td>\n",
       "      <td>0.100217</td>\n",
       "      <td>0.023997</td>\n",
       "      <td>-0.139718</td>\n",
       "      <td>-0.133559</td>\n",
       "      <td>-0.151065</td>\n",
       "      <td>-0.149097</td>\n",
       "      <td>2.688700e+11</td>\n",
       "      <td>2.595220e+11</td>\n",
       "    </tr>\n",
       "  </tbody>\n",
       "</table>\n",
       "<p>5 rows × 24 columns</p>\n",
       "</div>"
      ],
      "text/plain": [
       "   currentRatio  quickRatio  grossProfitMargin  operatingProfitMargin  \\\n",
       "0      2.408181    1.159514           0.425086               0.120382   \n",
       "1      2.521323    1.243205           0.476095               0.115561   \n",
       "2      2.486968    1.256414           0.406252               0.085668   \n",
       "3      1.446898    1.246436           0.819031               0.358906   \n",
       "4      4.083458    3.837838           0.846213               0.139292   \n",
       "\n",
       "   returnOnAssets  returnOnEquity  returnOnCapitalEmployed  debtEquityRatio  \\\n",
       "0        0.035888        0.070659                 0.081439         0.968898   \n",
       "1        0.031957        0.062082                 0.072770         0.942679   \n",
       "2        0.024809        0.048508                 0.056355         0.955253   \n",
       "3        0.059030        0.118420                 0.132473         1.006091   \n",
       "4        0.014649        0.018631                 0.017321         0.271848   \n",
       "\n",
       "   priceToBookRatio  priceToSalesRatio  ...  growthCostOfRevenue  \\\n",
       "0          3.150645           3.595607  ...             0.001648   \n",
       "1          2.759181           3.363595  ...             0.289973   \n",
       "2          2.715416           3.145034  ...             0.261380   \n",
       "3          6.886977          15.779557  ...             0.140016   \n",
       "4          3.809437          29.304638  ...            -0.398038   \n",
       "\n",
       "   growthGrossProfit  growthGrossProfitRatio  growthOperatingExpenses  \\\n",
       "0           0.028171                0.013873                 0.053745   \n",
       "1           0.145018               -0.060306                -0.287359   \n",
       "2           0.026313               -0.107139                -0.028530   \n",
       "3           0.086348               -0.008519                -0.032399   \n",
       "4          -0.005763                0.100217                 0.023997   \n",
       "\n",
       "   growthEBITDA  growthOperatingIncome  growthNetIncome  growthEPS  \\\n",
       "0     -0.008826              -0.044202        -0.025167  -0.018124   \n",
       "1     -9.849858              -3.957207        -4.126177  -4.090608   \n",
       "2      0.084785               0.197414         0.224753   0.240693   \n",
       "3      0.273426               0.289181        -0.020738   0.003301   \n",
       "4     -0.139718              -0.133559        -0.151065  -0.149097   \n",
       "\n",
       "   marketCapitalization  enterpriseValue  \n",
       "0          7.192293e+09     6.798493e+09  \n",
       "1          5.853327e+09     5.302227e+09  \n",
       "2          6.207983e+09     5.707283e+09  \n",
       "3          2.499008e+11     2.395618e+11  \n",
       "4          2.688700e+11     2.595220e+11  \n",
       "\n",
       "[5 rows x 24 columns]"
      ]
     },
     "metadata": {},
     "output_type": "display_data"
    },
    {
     "name": "stdout",
     "output_type": "stream",
     "text": [
      "(98, 24)\n",
      "(98, 1)\n"
     ]
    }
   ],
   "source": [
    "display(spy_X.head())\n",
    "\n",
    "print(spy_X.shape)\n",
    "print(spy_Y.shape)"
   ]
  },
  {
   "cell_type": "code",
   "execution_count": 508,
   "metadata": {},
   "outputs": [
    {
     "name": "stdout",
     "output_type": "stream",
     "text": [
      "(98, 25)\n",
      "(98, 24)\n"
     ]
    }
   ],
   "source": [
    "# print(truePcResults['clf'][0])\n",
    "print(spy_X_poly.shape)\n",
    "print(spy_X_pc_poly.shape)"
   ]
  },
  {
   "cell_type": "code",
   "execution_count": 509,
   "metadata": {},
   "outputs": [
    {
     "name": "stdout",
     "output_type": "stream",
     "text": [
      "80.61898225394673\n",
      "0.7722208891498075\n",
      "0.4757696818652153\n"
     ]
    }
   ],
   "source": [
    "r1 = trueBaseResults['clf'][0].predict(spy_X_poly)\n",
    "r2 = truePcResults['clf'][0].predict(spy_X_pc_poly)\n",
    "\n",
    "r1MSE = mean_squared_error(spy_Y, r1)\n",
    "r2MSE = mean_squared_error(spy_Y, r2)\n",
    "baseMSE = mean_squared_error(spy_Y, np.full((spy_X.shape[0]), .06))\n",
    "\n",
    "print(r1MSE)\n",
    "print(r2MSE)\n",
    "print(baseMSE)"
   ]
  },
  {
   "cell_type": "code",
   "execution_count": 510,
   "metadata": {},
   "outputs": [
    {
     "name": "stdout",
     "output_type": "stream",
     "text": [
      "2.3161286894470745\n",
      "0.5081017061377485\n",
      "0.4757696818652153\n"
     ]
    }
   ],
   "source": [
    "# test neural net results for regression model\n",
    "\n",
    "r1 = trueBaseResultsNN['clf'][0].predict(spy_X_poly)\n",
    "# r2 = truePcResultsNN['clf'][0].predict(spy_X_pc_poly)\n",
    "r2 = truePcResultsNN['clf'][-1].predict(spy_X_pc_poly)\n",
    "\n",
    "r1MSE_NN = mean_squared_error(spy_Y, r1)\n",
    "r2MSE_NN = mean_squared_error(spy_Y, r2)\n",
    "baseMSE = mean_squared_error(spy_Y, np.full((spy_X.shape[0]), .06))\n",
    "\n",
    "print(r1MSE_NN)\n",
    "print(r2MSE_NN)\n",
    "print(baseMSE)"
   ]
  },
  {
   "cell_type": "code",
   "execution_count": 511,
   "metadata": {},
   "outputs": [
    {
     "name": "stdout",
     "output_type": "stream",
     "text": [
      "1.1428571428571428\n",
      "1.7959183673469388\n",
      "1.1428571428571428\n"
     ]
    }
   ],
   "source": [
    "# test neural net results for classification model\n",
    "\n",
    "import NNModels\n",
    "imp.reload(NNModels)\n",
    "from NNModels import NeuralNetClassificationModel as NNClfModel\n",
    "\n",
    "# print(spy_Y_clf)\n",
    "# print(spy_Y_clf_baseline)\n",
    "\n",
    "r1 = trueBaseResultsNNClf['clf'][0].predict(spy_X_poly)\n",
    "r2 = truePcResultsNNClf['clf'][-1].predict(spy_X_pc_poly)\n",
    "\n",
    "r1MSE_NN = mean_squared_error(spy_Y_clf, r1)\n",
    "r2MSE_NN = mean_squared_error(spy_Y_clf, r2)\n",
    "baseMSE = mean_squared_error(spy_Y_clf, spy_Y_clf_baseline)\n",
    "\n",
    "print(r1MSE_NN)\n",
    "print(r2MSE_NN)\n",
    "print(baseMSE)"
   ]
  },
  {
   "cell_type": "code",
   "execution_count": 512,
   "metadata": {},
   "outputs": [
    {
     "name": "stdout",
     "output_type": "stream",
     "text": [
      "0.4757696818652153\n",
      "0.48954825833277005\n",
      "0.4757696818652153\n"
     ]
    }
   ],
   "source": [
    "# test neural net results for classification model Pt. 2 \n",
    "# this is just a little experiment to see if we can use a binary classifier to\n",
    "# predict the price change percentage\n",
    "\n",
    "import NNModels\n",
    "imp.reload(NNModels)\n",
    "from NNModels import NeuralNetClassificationModel as NNClfModel\n",
    "\n",
    "r1 = NNClfModel.predict(trueBaseResultsNNClf['clf'][0], spy_X_poly)\n",
    "r2 = NNClfModel.predict(truePcResultsNNClf['clf'][-1], spy_X_pc_poly)\n",
    "\n",
    "r1MSE_NN = mean_squared_error(spy_Y, r1)\n",
    "r2MSE_NN = mean_squared_error(spy_Y, r2)\n",
    "baseMSE = mean_squared_error(spy_Y, np.full((spy_X.shape[0]), .06))\n",
    "\n",
    "print(r1MSE_NN)\n",
    "print(r2MSE_NN)\n",
    "print(baseMSE)"
   ]
  },
  {
   "cell_type": "code",
   "execution_count": null,
   "metadata": {},
   "outputs": [],
   "source": []
  },
  {
   "cell_type": "code",
   "execution_count": null,
   "metadata": {},
   "outputs": [],
   "source": []
  },
  {
   "cell_type": "code",
   "execution_count": null,
   "metadata": {},
   "outputs": [],
   "source": []
  }
 ],
 "metadata": {
  "kernelspec": {
   "display_name": "Python 3",
   "language": "python",
   "name": "python3"
  },
  "language_info": {
   "codemirror_mode": {
    "name": "ipython",
    "version": 3
   },
   "file_extension": ".py",
   "mimetype": "text/x-python",
   "name": "python",
   "nbconvert_exporter": "python",
   "pygments_lexer": "ipython3",
   "version": "3.8.5"
  }
 },
 "nbformat": 4,
 "nbformat_minor": 2
}
