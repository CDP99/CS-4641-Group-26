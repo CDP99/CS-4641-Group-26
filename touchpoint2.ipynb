{
 "metadata": {
  "language_info": {
   "codemirror_mode": {
    "name": "ipython",
    "version": 3
   },
   "file_extension": ".py",
   "mimetype": "text/x-python",
   "name": "python",
   "nbconvert_exporter": "python",
   "pygments_lexer": "ipython3",
   "version": "3.8.5-final"
  },
  "orig_nbformat": 2,
  "kernelspec": {
   "name": "python38564bit61a9e442bc4944c290ba5a66d5b8071a",
   "display_name": "Python 3.8.5 64-bit",
   "language": "python"
  }
 },
 "nbformat": 4,
 "nbformat_minor": 2,
 "cells": [
  {
   "cell_type": "code",
   "execution_count": 1,
   "metadata": {},
   "outputs": [
    {
     "output_type": "display_data",
     "data": {
      "text/plain": "  symbol        date  currentRatio  quickRatio  grossProfitMargin  \\\n0   TSLA  2016-12-31      1.074273    0.667986           0.228461   \n1   TSLA  2017-12-31      0.856131    0.505989           0.189007   \n2   TSLA  2018-12-31      0.831285    0.463829           0.188340   \n3   TSLA  2019-12-31      1.134621    0.711728           0.165555   \n4   TSLA  2020-12-31      1.875140    1.492841           0.210236   \n\n   operatingProfitMargin  returnOnAssets  returnOnEquity  \\\n0              -0.095332       -0.029779       -0.142000   \n1              -0.138798       -0.068448       -0.462895   \n2              -0.011781       -0.032821       -0.198262   \n3               0.003255       -0.025125       -0.130251   \n4               0.063229        0.013232        0.031046   \n\n   returnOnCapitalEmployed  debtEquityRatio  ...  growthGrossProfitRatio  \\\n0                -0.044328         3.603263  ...                0.000927   \n1                -0.105289         5.527365  ...               -0.172694   \n2                -0.050880         4.871174  ...               -0.003528   \n3                -0.028128         4.055908  ...               -0.120982   \n4                 0.030449         1.308121  ...                0.269889   \n\n   growthOperatingExpenses  growthEBITDA  growthOperatingIncome  \\\n0                 0.381960     -2.195635              -0.068779   \n1                 0.700599     -1.254705               1.445659   \n2                 0.114225    -17.651361              -0.845082   \n3                -0.071216      0.370818              -1.316406   \n4                 0.162196      0.857942              23.925000   \n\n   growthNetIncome growthEPS symbol        date  marketCapitalization  \\\n0        -0.240529 -0.324675   TSLA  2016-12-31          3.614385e+10   \n1         1.906148  1.527778   TSLA  2017-12-31          5.732243e+10   \n2        -0.502350 -0.516484   TSLA  2018-12-31          5.265301e+10   \n3        -0.116886 -0.139860   TSLA  2019-12-31          1.134234e+11   \n4        -2.000000 -2.269589   TSLA  2020-12-31          7.403635e+11   \n\n   enterpriseValue  \n0     3.987907e+10  \n1     6.426946e+10  \n2     6.093876e+10  \n3     1.205744e+11  \n4     7.327185e+11  \n\n[5 rows x 30 columns]",
      "text/html": "<div>\n<style scoped>\n    .dataframe tbody tr th:only-of-type {\n        vertical-align: middle;\n    }\n\n    .dataframe tbody tr th {\n        vertical-align: top;\n    }\n\n    .dataframe thead th {\n        text-align: right;\n    }\n</style>\n<table border=\"1\" class=\"dataframe\">\n  <thead>\n    <tr style=\"text-align: right;\">\n      <th></th>\n      <th>symbol</th>\n      <th>date</th>\n      <th>currentRatio</th>\n      <th>quickRatio</th>\n      <th>grossProfitMargin</th>\n      <th>operatingProfitMargin</th>\n      <th>returnOnAssets</th>\n      <th>returnOnEquity</th>\n      <th>returnOnCapitalEmployed</th>\n      <th>debtEquityRatio</th>\n      <th>...</th>\n      <th>growthGrossProfitRatio</th>\n      <th>growthOperatingExpenses</th>\n      <th>growthEBITDA</th>\n      <th>growthOperatingIncome</th>\n      <th>growthNetIncome</th>\n      <th>growthEPS</th>\n      <th>symbol</th>\n      <th>date</th>\n      <th>marketCapitalization</th>\n      <th>enterpriseValue</th>\n    </tr>\n  </thead>\n  <tbody>\n    <tr>\n      <th>0</th>\n      <td>TSLA</td>\n      <td>2016-12-31</td>\n      <td>1.074273</td>\n      <td>0.667986</td>\n      <td>0.228461</td>\n      <td>-0.095332</td>\n      <td>-0.029779</td>\n      <td>-0.142000</td>\n      <td>-0.044328</td>\n      <td>3.603263</td>\n      <td>...</td>\n      <td>0.000927</td>\n      <td>0.381960</td>\n      <td>-2.195635</td>\n      <td>-0.068779</td>\n      <td>-0.240529</td>\n      <td>-0.324675</td>\n      <td>TSLA</td>\n      <td>2016-12-31</td>\n      <td>3.614385e+10</td>\n      <td>3.987907e+10</td>\n    </tr>\n    <tr>\n      <th>1</th>\n      <td>TSLA</td>\n      <td>2017-12-31</td>\n      <td>0.856131</td>\n      <td>0.505989</td>\n      <td>0.189007</td>\n      <td>-0.138798</td>\n      <td>-0.068448</td>\n      <td>-0.462895</td>\n      <td>-0.105289</td>\n      <td>5.527365</td>\n      <td>...</td>\n      <td>-0.172694</td>\n      <td>0.700599</td>\n      <td>-1.254705</td>\n      <td>1.445659</td>\n      <td>1.906148</td>\n      <td>1.527778</td>\n      <td>TSLA</td>\n      <td>2017-12-31</td>\n      <td>5.732243e+10</td>\n      <td>6.426946e+10</td>\n    </tr>\n    <tr>\n      <th>2</th>\n      <td>TSLA</td>\n      <td>2018-12-31</td>\n      <td>0.831285</td>\n      <td>0.463829</td>\n      <td>0.188340</td>\n      <td>-0.011781</td>\n      <td>-0.032821</td>\n      <td>-0.198262</td>\n      <td>-0.050880</td>\n      <td>4.871174</td>\n      <td>...</td>\n      <td>-0.003528</td>\n      <td>0.114225</td>\n      <td>-17.651361</td>\n      <td>-0.845082</td>\n      <td>-0.502350</td>\n      <td>-0.516484</td>\n      <td>TSLA</td>\n      <td>2018-12-31</td>\n      <td>5.265301e+10</td>\n      <td>6.093876e+10</td>\n    </tr>\n    <tr>\n      <th>3</th>\n      <td>TSLA</td>\n      <td>2019-12-31</td>\n      <td>1.134621</td>\n      <td>0.711728</td>\n      <td>0.165555</td>\n      <td>0.003255</td>\n      <td>-0.025125</td>\n      <td>-0.130251</td>\n      <td>-0.028128</td>\n      <td>4.055908</td>\n      <td>...</td>\n      <td>-0.120982</td>\n      <td>-0.071216</td>\n      <td>0.370818</td>\n      <td>-1.316406</td>\n      <td>-0.116886</td>\n      <td>-0.139860</td>\n      <td>TSLA</td>\n      <td>2019-12-31</td>\n      <td>1.134234e+11</td>\n      <td>1.205744e+11</td>\n    </tr>\n    <tr>\n      <th>4</th>\n      <td>TSLA</td>\n      <td>2020-12-31</td>\n      <td>1.875140</td>\n      <td>1.492841</td>\n      <td>0.210236</td>\n      <td>0.063229</td>\n      <td>0.013232</td>\n      <td>0.031046</td>\n      <td>0.030449</td>\n      <td>1.308121</td>\n      <td>...</td>\n      <td>0.269889</td>\n      <td>0.162196</td>\n      <td>0.857942</td>\n      <td>23.925000</td>\n      <td>-2.000000</td>\n      <td>-2.269589</td>\n      <td>TSLA</td>\n      <td>2020-12-31</td>\n      <td>7.403635e+11</td>\n      <td>7.327185e+11</td>\n    </tr>\n  </tbody>\n</table>\n<p>5 rows × 30 columns</p>\n</div>"
     },
     "metadata": {}
    },
    {
     "output_type": "stream",
     "name": "stdout",
     "text": [
      "symbol                             object\ndate                               object\ncurrentRatio                      float64\nquickRatio                        float64\ngrossProfitMargin                 float64\noperatingProfitMargin             float64\nreturnOnAssets                    float64\nreturnOnEquity                    float64\nreturnOnCapitalEmployed           float64\ndebtEquityRatio                   float64\npriceToBookRatio                  float64\npriceToSalesRatio                 float64\npriceEarningsRatio                float64\npriceEarningsToGrowthRatio        float64\npriceToOperatingCashFlowsRatio    float64\nsymbol                             object\ndate                               object\ngrowthRevenue                     float64\ngrowthCostOfRevenue               float64\ngrowthGrossProfit                 float64\ngrowthGrossProfitRatio            float64\ngrowthOperatingExpenses           float64\ngrowthEBITDA                      float64\ngrowthOperatingIncome             float64\ngrowthNetIncome                   float64\ngrowthEPS                         float64\nsymbol                             object\ndate                               object\nmarketCapitalization              float64\nenterpriseValue                   float64\ndtype: object\n5\n"
     ]
    }
   ],
   "source": [
    "import os\n",
    "import requests\n",
    "import numpy as np\n",
    "import pandas as pd\n",
    "\n",
    "from api_keys import fmp_api_key as api_key\n",
    "from API import API\n",
    "\n",
    "api = API(api_key)\n",
    "X = api.getSamples(\"TSLA\")\n",
    "\n",
    "display(X)\n",
    "print(X.dtypes)\n",
    "print(len(X))"
   ]
  },
  {
   "cell_type": "code",
   "execution_count": null,
   "metadata": {},
   "outputs": [],
   "source": []
  }
 ]
}