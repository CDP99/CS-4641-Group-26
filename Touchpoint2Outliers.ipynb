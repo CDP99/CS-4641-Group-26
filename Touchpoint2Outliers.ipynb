{
  "nbformat": 4,
  "nbformat_minor": 0,
  "metadata": {
    "colab": {
      "name": "Touchpoint2Outliers.ipynb",
      "provenance": [],
      "collapsed_sections": []
    },
    "kernelspec": {
      "display_name": "Python 3",
      "language": "python",
      "name": "python3"
    },
    "language_info": {
      "codemirror_mode": {
        "name": "ipython",
        "version": 3
      },
      "file_extension": ".py",
      "mimetype": "text/x-python",
      "name": "python",
      "nbconvert_exporter": "python",
      "pygments_lexer": "ipython3",
      "version": "3.8.5"
    }
  },
  "cells": [
    {
      "cell_type": "markdown",
      "metadata": {
        "id": "uCozb_X6YGhI"
      },
      "source": [
        "## //TODO: Get Y Labels\n",
        "#### You should probably do this in API.py, so that there can be a different method you call from this cell which chooses tickers, calls getSamples to retrieve the requested X data, selects the samples we want from the X data, and then calculates Y using the <date> in X"
      ]
    },
    {
      "cell_type": "code",
      "metadata": {
        "id": "EXrLfPhEYdg8"
      },
      "source": [
        "import requests\n",
        "import pandas as pd\n",
        "import random\n",
        "from datetime import datetime\n",
        "from dateutil.relativedelta import relativedelta\n",
        "import sys\n",
        "\n",
        "import time\n",
        "\n",
        "class API:\n",
        "    def __init__(self, key, period='annual', limit=5):\n",
        "        self.base_url = 'https://financialmodelingprep.com/'\n",
        "        self.params = {\n",
        "            'apikey': key,\n",
        "            'period': period,\n",
        "            'limit': limit,\n",
        "        }\n",
        "        self.alwaysCols = [\"symbol\", \"date\"]\n",
        "\n",
        "        # keeps tracks of the time each api call was made (so that we know whether we go over the api call limit)\n",
        "        self.apiCalls = []\n",
        "\n",
        "        if limit == None:\n",
        "            del self.params['limit']\n",
        "\n",
        "    def overApiCallLimit(self):\n",
        "        API_CALL_LIMIT = 299 # call limit per minute\n",
        "        calls = self.apiCalls\n",
        "        length = len(calls)\n",
        "        if length < API_CALL_LIMIT:\n",
        "            return False\n",
        "\n",
        "        lastTimeIndex = length - API_CALL_LIMIT\n",
        "        lastTime = calls[lastTimeIndex]\n",
        "\n",
        "        oneMinuteAgo = datetime.now() - relativedelta(seconds = 65) # datetime.now()\n",
        "        # if the last time is more recent than one minute ago\n",
        "        return lastTime >= oneMinuteAgo\n",
        "\n",
        "    def waitForMoreApiCalls(self):\n",
        "        if self.overApiCallLimit():\n",
        "            print(\"Waiting for more API calls to be available...\")\n",
        "            time.sleep(65)\n",
        "\n",
        "    def getNumApiCalls(self):\n",
        "        return len(self.apiCalls)\n",
        "\n",
        "    def request(self, url):\n",
        "        print(\"Making API call request...\")\n",
        "        self.waitForMoreApiCalls()\n",
        "        r = requests.get(url, params=self.params)\n",
        "\n",
        "        if r.status_code != 200:\n",
        "            raise Exception('API did not return a valid response')\n",
        "        else:\n",
        "            self.apiCalls.append(datetime.now())\n",
        "\n",
        "        return r\n",
        "\n",
        "    def getDataFrameUnordered(self, endpoint): # makes api calls (helper method)\n",
        "        r = self.request(endpoint)\n",
        "\n",
        "        print(\"Request result: \")\n",
        "        print(r)\n",
        "\n",
        "        try:\n",
        "            df = pd.json_normalize(r.json())\n",
        "        except ValueError:\n",
        "            raise Exception(\"Bad URL or API Key!\")\n",
        "\n",
        "        return df\n",
        "\n",
        "    def getDataFrame(self, endpoint): # makes api calls (helper method)\n",
        "        df = self.getDataFrameUnordered(endpoint)\n",
        "\n",
        "        if df.empty:\n",
        "            raise ValueError(\"Error, empty dataframe\")\n",
        "\n",
        "        # df = df.reindex(index=df.index[::-1])\n",
        "        df.sort_values(by=['date'], inplace=True, ascending=True)\n",
        "        df.reset_index(drop=True, inplace=True)\n",
        "        return df\n",
        "\n",
        "    def getRatios(self, ticker):\n",
        "        endpoint = self.base_url + 'api/v3/ratios/' + ticker\n",
        "        wantedCols = [\n",
        "            \"currentRatio\", \"quickRatio\", \"grossProfitMargin\", \"operatingProfitMargin\", \"returnOnAssets\",\n",
        "            \"returnOnEquity\", \"returnOnCapitalEmployed\", \"debtEquityRatio\", \"priceToBookRatio\", \"priceToSalesRatio\",\n",
        "            \"priceEarningsRatio\", \"priceEarningsToGrowthRatio\", \"priceToOperatingCashFlowsRatio\"\n",
        "        ]\n",
        "        df = self.getDataFrame(endpoint)\n",
        "        df = df[self.alwaysCols + wantedCols]\n",
        "        return df\n",
        "\n",
        "    def getGrowths(self, ticker): # makes api call\n",
        "        endpoint = self.base_url + 'api/v3/income-statement-growth/' + ticker\n",
        "        wantedCols = [\n",
        "            \"growthRevenue\", \"growthCostOfRevenue\", \"growthGrossProfit\", \"growthGrossProfitRatio\",\n",
        "            \"growthOperatingExpenses\", \"growthEBITDA\", \"growthOperatingIncome\", \"growthNetIncome\",\n",
        "            \"growthEPS\"\n",
        "        ]\n",
        "        df = self.getDataFrame(endpoint)\n",
        "        df = df[self.alwaysCols + wantedCols]\n",
        "        return df\n",
        "\n",
        "    def getValues(self, ticker): # makes API call\n",
        "        endpoint = self.base_url + 'api/v3/enterprise-values/' + ticker\n",
        "        wantedCols = [\n",
        "            \"marketCapitalization\", \"enterpriseValue\"\n",
        "        ]\n",
        "        df = self.getDataFrame(endpoint)\n",
        "        df = df[self.alwaysCols + wantedCols]\n",
        "        return df\n",
        "\n",
        "    def getFinStat(self, ticker, limit): # makes API call\n",
        "        self.params['limit'] = limit\n",
        "        self.params['period'] = 'quarter'\n",
        "        endpoint = self.base_url + 'api/v3/income-statement/' + ticker\n",
        "        return self.getDataFrame(endpoint)\n",
        "\n",
        "    def getSamples(self, ticker): # makes API calls\n",
        "        ratios = self.getRatios(ticker)\n",
        "        growths = self.getGrowths(ticker)\n",
        "        values = self.getValues(ticker)\n",
        "\n",
        "        merge = pd.merge(ratios, growths, how='inner', left_on=[\"date\", \"symbol\"], right_on=[\"date\", \"symbol\"])\n",
        "        merge = pd.merge(merge, values, how='inner', left_on=[\"date\", \"symbol\"], right_on=[\"date\", \"symbol\"])\n",
        "\n",
        "        return merge\n",
        "\n",
        "    def getRandTickers(self, num): # makes api calls\n",
        "        endpoint = self.base_url + 'api/v3/available-traded/list'\n",
        "        tickers = pd.DataFrame(self.request(endpoint).json())\n",
        "        rowIdx = random.sample(range(0, len(tickers)), num)\n",
        "\n",
        "        return list(tickers.iloc[rowIdx]['symbol'])\n",
        "\n",
        "    def getSamplesFromTickers(self, tickers, samplesPerTicker=5, maxTickers=10): # makes API calls\n",
        "        '''\n",
        "        tickers: list Creates dataframe of samples from list of tickers\n",
        "        samplesPerTicker: int Number of rows of data to get per ticker\n",
        "        '''\n",
        "        result = pd.DataFrame()\n",
        "        i = 0\n",
        "\n",
        "        for t in tickers:\n",
        "            if i >= maxTickers:\n",
        "                break\n",
        "\n",
        "            try:\n",
        "                oneYearAgo = (datetime.today() - relativedelta(years=1, months=6)).strftime('%Y-%m-%d')\n",
        "                df = self.getSamples(t)\n",
        "                df = df[df['date'] < oneYearAgo]\n",
        "                rowIdx = random.sample(range(0, len(df)), samplesPerTicker)\n",
        "            except ValueError:\n",
        "                # Ticker didn't have enough data\n",
        "                continue\n",
        "\n",
        "            samples = df.iloc[rowIdx]\n",
        "            result = result.append(pd.DataFrame(samples))\n",
        "            i += 1\n",
        "\n",
        "        return result\n",
        "\n",
        "    def getYFromDF(self, X):\n",
        "        groups = X.groupby(['symbol'])\n",
        "        result = pd.DataFrame()\n",
        "\n",
        "        for state, frame in groups:\n",
        "            dates = list(frame['date'])\n",
        "            try:\n",
        "                priceChange = self.getPriceChange(state, dates)\n",
        "            except ValueError:\n",
        "                # No price data for stock\n",
        "                print(\"Ticker {} didn't have price data\".format(state))\n",
        "                continue\n",
        "\n",
        "            result = result.append(priceChange)\n",
        "\n",
        "        return result\n",
        "\n",
        "    def getPriceChange(self, ticker, dates):\n",
        "\n",
        "        #Currently returns price in dollars instead of percentage\n",
        "\n",
        "        endpoint = self.base_url + 'api/v3/historical-price-full/' + ticker\n",
        "        self.params['serietype'] = 'line'\n",
        "        r = self.request(endpoint)\n",
        "        del self.params['serietype']\n",
        "\n",
        "        if not r.json():\n",
        "            raise ValueError(\"No price data for stock\")\n",
        "\n",
        "        addOneYear = lambda d: (datetime.strptime(d, \"%Y-%m-%d\") + relativedelta(years=1)).strftime('%Y-%m-%d')\n",
        "        subOneYear = lambda d: (datetime.strptime(d, \"%Y-%m-%d\") - relativedelta(years=1)).strftime('%Y-%m-%d')\n",
        "\n",
        "        futureDates = [addOneYear(d) for d in dates]\n",
        "\n",
        "        priceDataPresent = [o for o in r.json()['historical'] if o['date'] in dates]\n",
        "        priceDataFuture = [o for o in r.json()['historical'] if o['date'] in futureDates]\n",
        "\n",
        "        combinedPriceData = {}\n",
        "        for o in (priceDataPresent + priceDataFuture):\n",
        "            try:\n",
        "                combinedPriceData[o['date']] = o['close']\n",
        "            except Exception as e:\n",
        "                print(\"Bad object was:\")\n",
        "                print(o)\n",
        "                print('From:')\n",
        "                print(priceDataPresent + priceDataFuture)\n",
        "                print(e)\n",
        "                continue\n",
        "\n",
        "        endData = {'symbol': [], 'date': [], 'futureDate': [], 'futureClose': [], 'percentage': []}\n",
        "\n",
        "        for i, date in enumerate(dates):\n",
        "\n",
        "            futureDate = addOneYear(date)\n",
        "\n",
        "            if date not in combinedPriceData or futureDate not in combinedPriceData:\n",
        "                print('Date {} not found for {}'.format(date, ticker))\n",
        "                continue\n",
        "\n",
        "            endData['date'].append(date)\n",
        "            endData['futureDate'].append(futureDate)\n",
        "            endData['futureClose'].append(combinedPriceData[futureDate])\n",
        "            endData['symbol'].append(ticker)\n",
        "\n",
        "            percentageChange = (combinedPriceData[futureDate] - combinedPriceData[date]) / combinedPriceData[date]\n",
        "            endData['percentage'].append(percentageChange)\n",
        "\n",
        "        return pd.DataFrame(endData)"
      ],
      "execution_count": 16,
      "outputs": []
    },
    {
      "cell_type": "code",
      "metadata": {
        "colab": {
          "base_uri": "https://localhost:8080/"
        },
        "id": "YFTt_12JYGhT",
        "outputId": "0316a1a0-762a-44da-de36-9c8a8f535e91"
      },
      "source": [
        "import os\n",
        "import requests\n",
        "import numpy as np\n",
        "import pandas as pd\n",
        "import imp\n",
        "\n",
        "from sklearn.decomposition import PCA, FastICA\n",
        "from sklearn.preprocessing import StandardScaler, scale, MinMaxScaler\n",
        "\n",
        "import statsmodels.tsa.api as tsa\n",
        "from scipy import stats\n",
        "from scipy.stats import probplot, moment\n",
        "\n",
        "import matplotlib.pyplot as plt\n",
        "import seaborn as sns\n",
        "\n",
        "api_key = 'b903b84d1ce1092d3e9fca34e25bf408'\n",
        "#from api_keys import fmp_api_key as api_key\n",
        "# from API import API\n",
        "#import API\n",
        "#imp.reload(API)\n",
        "#from API import API\n",
        "\n",
        "\n",
        "api = API(api_key, period='quarter', limit=None)\n",
        "tickers = api.getRandTickers(50)\n",
        "# tickers = ['AAPL', 'MSFT', 'AMZN', 'FB', 'GOOGL', 'TSLA', 'JPM', 'JNJ']\n",
        "\n",
        "X = api.getSamplesFromTickers(tickers, samplesPerTicker=100, maxTickers=50)\n",
        "Y = api.getYFromDF(X)\n"
      ],
      "execution_count": 17,
      "outputs": [
        {
          "output_type": "stream",
          "text": [
            "Making API call request...\n",
            "Making API call request...\n",
            "Request result: \n",
            "<Response [200]>\n",
            "Making API call request...\n",
            "Request result: \n",
            "<Response [200]>\n",
            "Making API call request...\n",
            "Request result: \n",
            "<Response [200]>\n",
            "Making API call request...\n",
            "Request result: \n",
            "<Response [200]>\n",
            "Making API call request...\n",
            "Request result: \n",
            "<Response [200]>\n",
            "Making API call request...\n",
            "Request result: \n",
            "<Response [200]>\n",
            "Making API call request...\n",
            "Request result: \n",
            "<Response [200]>\n",
            "Making API call request...\n",
            "Request result: \n",
            "<Response [200]>\n",
            "Making API call request...\n",
            "Request result: \n",
            "<Response [200]>\n",
            "Making API call request...\n",
            "Request result: \n",
            "<Response [200]>\n",
            "Making API call request...\n",
            "Request result: \n",
            "<Response [200]>\n",
            "Making API call request...\n",
            "Request result: \n",
            "<Response [200]>\n",
            "Making API call request...\n",
            "Request result: \n",
            "<Response [200]>\n",
            "Making API call request...\n",
            "Request result: \n",
            "<Response [200]>\n",
            "Making API call request...\n",
            "Request result: \n",
            "<Response [200]>\n",
            "Making API call request...\n",
            "Request result: \n",
            "<Response [200]>\n",
            "Making API call request...\n",
            "Request result: \n",
            "<Response [200]>\n",
            "Making API call request...\n",
            "Request result: \n",
            "<Response [200]>\n",
            "Making API call request...\n",
            "Request result: \n",
            "<Response [200]>\n",
            "Making API call request...\n",
            "Request result: \n",
            "<Response [200]>\n",
            "Making API call request...\n",
            "Request result: \n",
            "<Response [200]>\n",
            "Making API call request...\n",
            "Request result: \n",
            "<Response [200]>\n",
            "Making API call request...\n",
            "Request result: \n",
            "<Response [200]>\n",
            "Making API call request...\n",
            "Request result: \n",
            "<Response [200]>\n",
            "Making API call request...\n",
            "Request result: \n",
            "<Response [200]>\n",
            "Making API call request...\n",
            "Request result: \n",
            "<Response [200]>\n",
            "Making API call request...\n",
            "Request result: \n",
            "<Response [200]>\n",
            "Making API call request...\n",
            "Request result: \n",
            "<Response [200]>\n",
            "Making API call request...\n",
            "Request result: \n",
            "<Response [200]>\n",
            "Making API call request...\n",
            "Request result: \n",
            "<Response [200]>\n",
            "Making API call request...\n",
            "Request result: \n",
            "<Response [200]>\n",
            "Making API call request...\n",
            "Request result: \n",
            "<Response [200]>\n",
            "Making API call request...\n",
            "Request result: \n",
            "<Response [200]>\n",
            "Making API call request...\n",
            "Request result: \n",
            "<Response [200]>\n",
            "Making API call request...\n",
            "Request result: \n",
            "<Response [200]>\n",
            "Making API call request...\n",
            "Request result: \n",
            "<Response [200]>\n",
            "Making API call request...\n",
            "Request result: \n",
            "<Response [200]>\n",
            "Making API call request...\n",
            "Request result: \n",
            "<Response [200]>\n",
            "Making API call request...\n",
            "Request result: \n",
            "<Response [200]>\n",
            "Making API call request...\n",
            "Request result: \n",
            "<Response [200]>\n",
            "Making API call request...\n",
            "Request result: \n",
            "<Response [200]>\n",
            "Making API call request...\n",
            "Request result: \n",
            "<Response [200]>\n",
            "Making API call request...\n",
            "Request result: \n",
            "<Response [200]>\n",
            "Making API call request...\n",
            "Request result: \n",
            "<Response [200]>\n",
            "Making API call request...\n",
            "Request result: \n",
            "<Response [200]>\n",
            "Making API call request...\n",
            "Request result: \n",
            "<Response [200]>\n",
            "Making API call request...\n",
            "Request result: \n",
            "<Response [200]>\n",
            "Making API call request...\n",
            "Request result: \n",
            "<Response [200]>\n",
            "Making API call request...\n",
            "Request result: \n",
            "<Response [200]>\n",
            "Making API call request...\n",
            "Request result: \n",
            "<Response [200]>\n",
            "Making API call request...\n",
            "Request result: \n",
            "<Response [200]>\n",
            "Making API call request...\n",
            "Request result: \n",
            "<Response [200]>\n",
            "Making API call request...\n",
            "Request result: \n",
            "<Response [200]>\n",
            "Making API call request...\n",
            "Request result: \n",
            "<Response [200]>\n",
            "Making API call request...\n",
            "Request result: \n",
            "<Response [200]>\n",
            "Making API call request...\n",
            "Request result: \n",
            "<Response [200]>\n",
            "Making API call request...\n",
            "Request result: \n",
            "<Response [200]>\n",
            "Making API call request...\n",
            "Request result: \n",
            "<Response [200]>\n",
            "Making API call request...\n",
            "Request result: \n",
            "<Response [200]>\n",
            "Making API call request...\n",
            "Request result: \n",
            "<Response [200]>\n",
            "Making API call request...\n",
            "Request result: \n",
            "<Response [200]>\n",
            "Making API call request...\n",
            "Request result: \n",
            "<Response [200]>\n",
            "Making API call request...\n",
            "Request result: \n",
            "<Response [200]>\n",
            "Making API call request...\n",
            "Request result: \n",
            "<Response [200]>\n",
            "Making API call request...\n",
            "Request result: \n",
            "<Response [200]>\n",
            "Making API call request...\n",
            "Request result: \n",
            "<Response [200]>\n",
            "Making API call request...\n",
            "Request result: \n",
            "<Response [200]>\n",
            "Making API call request...\n",
            "Request result: \n",
            "<Response [200]>\n",
            "Making API call request...\n",
            "Request result: \n",
            "<Response [200]>\n",
            "Making API call request...\n",
            "Request result: \n",
            "<Response [200]>\n",
            "Making API call request...\n",
            "Request result: \n",
            "<Response [200]>\n",
            "Making API call request...\n",
            "Request result: \n",
            "<Response [200]>\n",
            "Making API call request...\n",
            "Request result: \n",
            "<Response [200]>\n",
            "Making API call request...\n",
            "Request result: \n",
            "<Response [200]>\n",
            "Making API call request...\n",
            "Request result: \n",
            "<Response [200]>\n",
            "Making API call request...\n",
            "Request result: \n",
            "<Response [200]>\n",
            "Making API call request...\n",
            "Request result: \n",
            "<Response [200]>\n",
            "Making API call request...\n",
            "Request result: \n",
            "<Response [200]>\n",
            "Making API call request...\n",
            "Request result: \n",
            "<Response [200]>\n",
            "Making API call request...\n",
            "Request result: \n",
            "<Response [200]>\n",
            "Making API call request...\n",
            "Request result: \n",
            "<Response [200]>\n",
            "Making API call request...\n",
            "Request result: \n",
            "<Response [200]>\n",
            "Making API call request...\n",
            "Request result: \n",
            "<Response [200]>\n",
            "Making API call request...\n",
            "Request result: \n",
            "<Response [200]>\n",
            "Making API call request...\n",
            "Request result: \n",
            "<Response [200]>\n",
            "Making API call request...\n",
            "Request result: \n",
            "<Response [200]>\n",
            "Making API call request...\n",
            "Request result: \n",
            "<Response [200]>\n",
            "Making API call request...\n",
            "Request result: \n",
            "<Response [200]>\n",
            "Making API call request...\n",
            "Request result: \n",
            "<Response [200]>\n",
            "Making API call request...\n",
            "Request result: \n",
            "<Response [200]>\n",
            "Making API call request...\n",
            "Request result: \n",
            "<Response [200]>\n",
            "Making API call request...\n",
            "Request result: \n",
            "<Response [200]>\n",
            "Making API call request...\n",
            "Request result: \n",
            "<Response [200]>\n",
            "Making API call request...\n",
            "Request result: \n",
            "<Response [200]>\n",
            "Making API call request...\n",
            "Request result: \n",
            "<Response [200]>\n",
            "Making API call request...\n",
            "Request result: \n",
            "<Response [200]>\n",
            "Making API call request...\n",
            "Request result: \n",
            "<Response [200]>\n",
            "Making API call request...\n",
            "Request result: \n",
            "<Response [200]>\n",
            "Making API call request...\n",
            "Request result: \n",
            "<Response [200]>\n",
            "Making API call request...\n",
            "Request result: \n",
            "<Response [200]>\n",
            "Making API call request...\n",
            "Request result: \n",
            "<Response [200]>\n",
            "Making API call request...\n",
            "Request result: \n",
            "<Response [200]>\n",
            "Making API call request...\n",
            "Request result: \n",
            "<Response [200]>\n",
            "Making API call request...\n",
            "Request result: \n",
            "<Response [200]>\n",
            "Making API call request...\n",
            "Date 1994-12-31 not found for BOH\n",
            "Date 2005-09-30 not found for BOH\n",
            "Date 2006-06-30 not found for BOH\n",
            "Date 2002-06-30 not found for BOH\n",
            "Date 2001-09-30 not found for BOH\n",
            "Date 1995-09-30 not found for BOH\n",
            "Date 1991-03-31 not found for BOH\n",
            "Date 2006-09-30 not found for BOH\n",
            "Date 2015-12-31 not found for BOH\n",
            "Date 2013-03-31 not found for BOH\n",
            "Date 1995-06-30 not found for BOH\n",
            "Date 2000-06-30 not found for BOH\n",
            "Date 1999-09-30 not found for BOH\n",
            "Date 2017-12-31 not found for BOH\n",
            "Date 2000-03-31 not found for BOH\n",
            "Date 2012-03-31 not found for BOH\n",
            "Date 1994-09-30 not found for BOH\n",
            "Date 2019-06-30 not found for BOH\n",
            "Date 2006-12-31 not found for BOH\n",
            "Date 2000-09-30 not found for BOH\n",
            "Date 1996-06-30 not found for BOH\n",
            "Date 1989-03-31 not found for BOH\n",
            "Date 2011-03-31 not found for BOH\n",
            "Date 2017-09-30 not found for BOH\n",
            "Date 2011-12-31 not found for BOH\n",
            "Date 2001-06-30 not found for BOH\n",
            "Date 2001-03-31 not found for BOH\n",
            "Date 2006-03-31 not found for BOH\n",
            "Date 2011-06-30 not found for BOH\n",
            "Date 2013-06-30 not found for BOH\n",
            "Date 2016-12-31 not found for BOH\n",
            "Date 2012-09-30 not found for BOH\n",
            "Date 2018-06-30 not found for BOH\n",
            "Date 2018-09-30 not found for BOH\n",
            "Date 2007-06-30 not found for BOH\n",
            "Date 1991-06-30 not found for BOH\n",
            "Date 2007-03-31 not found for BOH\n",
            "Date 2017-06-30 not found for BOH\n",
            "Date 2010-12-31 not found for BOH\n",
            "Date 1995-12-31 not found for BOH\n",
            "Date 2002-03-31 not found for BOH\n",
            "Date 2019-03-31 not found for BOH\n",
            "Date 2005-12-31 not found for BOH\n",
            "Date 1995-03-31 not found for BOH\n",
            "Date 1989-06-30 not found for BOH\n",
            "Date 1999-12-31 not found for BOH\n",
            "Date 2011-09-30 not found for BOH\n",
            "Date 2017-03-31 not found for BOH\n",
            "Date 1989-09-30 not found for BOH\n",
            "Date 1990-06-30 not found for BOH\n"
          ],
          "name": "stdout"
        }
      ]
    },
    {
      "cell_type": "code",
      "metadata": {
        "colab": {
          "base_uri": "https://localhost:8080/"
        },
        "id": "p70x9bK0YGhV",
        "outputId": "7eac2dc8-f9ad-4b15-afdc-aa868c51046c"
      },
      "source": [
        "print(api.getNumApiCalls())"
      ],
      "execution_count": 18,
      "outputs": [
        {
          "output_type": "stream",
          "text": [
            "106\n"
          ],
          "name": "stdout"
        }
      ]
    },
    {
      "cell_type": "markdown",
      "metadata": {
        "id": "Oht2DI5iYGhV"
      },
      "source": [
        "## Format X and Y Data"
      ]
    },
    {
      "cell_type": "code",
      "metadata": {
        "colab": {
          "base_uri": "https://localhost:8080/"
        },
        "id": "WrVCT_3WYGhW",
        "outputId": "fa695e11-a86b-47fa-fa4b-6c38c2586889"
      },
      "source": [
        "print(tickers)\n",
        "\n",
        "baselinePercentage = .06\n",
        "Y['baselinePercentage'] = Y.apply(lambda row: baselinePercentage, axis=1)\n",
        "\n",
        "merged = pd.merge(X, Y, how='inner', left_on=[\"date\", \"symbol\"], right_on=[\"date\", \"symbol\"]).dropna()"
      ],
      "execution_count": 19,
      "outputs": [
        {
          "output_type": "stream",
          "text": [
            "['1601.HK', 'CAGG.TO', 'BOH', 'OPXS', 'JHME', 'RIG', 'UCTT', 'SUN.SW', 'GPI', '0400.HK', '0OQX.L', '0S10.L', 'DCRBU', 'AMPLI.PA', 'DGLRX', 'XEI.TO', '6136.HK', 'MYD.DE', 'HYTR', 'XHS', 'ESXB', '8193.HK', '2696.HK', 'INDUSTOWER.NS', 'ZSML.TO', 'LL', 'VIVIDHA.NS', 'VTL.NS', '6186.HK', '0RDB.L', 'KEMX', 'RUTH', 'LYFT', 'SRTRANSFIN.NS', 'CBRE', '3963.HK', 'ITB', 'NKLA', 'DODFX', 'KVSC', 'M8H.DE', 'EWG', 'UCOBANK.NS', 'MMFL.NS', 'FTAAU', 'EEFT', '8203.HK', 'FNGR', 'WLD.AX', '0R33.L']\n"
          ],
          "name": "stdout"
        }
      ]
    },
    {
      "cell_type": "code",
      "metadata": {
        "id": "c6DbfbJrYGhW"
      },
      "source": [
        "X = merged.drop(['date', 'symbol', 'futureDate', 'futureClose', 'percentage', 'baselinePercentage'], axis=1)\n",
        "Y = merged[['percentage']]\n",
        "Y_baseline = merged[['baselinePercentage']]"
      ],
      "execution_count": 20,
      "outputs": []
    },
    {
      "cell_type": "code",
      "metadata": {
        "colab": {
          "base_uri": "https://localhost:8080/",
          "height": 819
        },
        "id": "kyfZ-v3oYGhW",
        "outputId": "359d0d3c-1432-48b6-8057-b602590a5300"
      },
      "source": [
        "# display(merge)\n",
        "display(X.head())\n",
        "print(X.columns)\n",
        "print(X.shape)\n",
        "display(Y.head())\n",
        "print(Y.shape)\n",
        "display(Y_baseline.head())\n",
        "print(Y_baseline.shape)"
      ],
      "execution_count": 21,
      "outputs": [
        {
          "output_type": "display_data",
          "data": {
            "text/html": [
              "<div>\n",
              "<style scoped>\n",
              "    .dataframe tbody tr th:only-of-type {\n",
              "        vertical-align: middle;\n",
              "    }\n",
              "\n",
              "    .dataframe tbody tr th {\n",
              "        vertical-align: top;\n",
              "    }\n",
              "\n",
              "    .dataframe thead th {\n",
              "        text-align: right;\n",
              "    }\n",
              "</style>\n",
              "<table border=\"1\" class=\"dataframe\">\n",
              "  <thead>\n",
              "    <tr style=\"text-align: right;\">\n",
              "      <th></th>\n",
              "      <th>currentRatio</th>\n",
              "      <th>quickRatio</th>\n",
              "      <th>grossProfitMargin</th>\n",
              "      <th>operatingProfitMargin</th>\n",
              "      <th>returnOnAssets</th>\n",
              "      <th>returnOnEquity</th>\n",
              "      <th>returnOnCapitalEmployed</th>\n",
              "      <th>debtEquityRatio</th>\n",
              "      <th>priceToBookRatio</th>\n",
              "      <th>priceToSalesRatio</th>\n",
              "      <th>priceEarningsRatio</th>\n",
              "      <th>priceEarningsToGrowthRatio</th>\n",
              "      <th>priceToOperatingCashFlowsRatio</th>\n",
              "      <th>growthRevenue</th>\n",
              "      <th>growthCostOfRevenue</th>\n",
              "      <th>growthGrossProfit</th>\n",
              "      <th>growthGrossProfitRatio</th>\n",
              "      <th>growthOperatingExpenses</th>\n",
              "      <th>growthEBITDA</th>\n",
              "      <th>growthOperatingIncome</th>\n",
              "      <th>growthNetIncome</th>\n",
              "      <th>growthEPS</th>\n",
              "      <th>marketCapitalization</th>\n",
              "      <th>enterpriseValue</th>\n",
              "    </tr>\n",
              "  </thead>\n",
              "  <tbody>\n",
              "    <tr>\n",
              "      <th>0</th>\n",
              "      <td>0.0</td>\n",
              "      <td>0.044112</td>\n",
              "      <td>0.0</td>\n",
              "      <td>0.0</td>\n",
              "      <td>0.003901</td>\n",
              "      <td>0.054461</td>\n",
              "      <td>0.0</td>\n",
              "      <td>12.959177</td>\n",
              "      <td>3.269511</td>\n",
              "      <td>15.359459</td>\n",
              "      <td>15.008364</td>\n",
              "      <td>-1.147807</td>\n",
              "      <td>30.290648</td>\n",
              "      <td>-0.000588</td>\n",
              "      <td>0</td>\n",
              "      <td>0.0</td>\n",
              "      <td>0</td>\n",
              "      <td>0.042553</td>\n",
              "      <td>0.0</td>\n",
              "      <td>0.0</td>\n",
              "      <td>-0.144813</td>\n",
              "      <td>-0.130757</td>\n",
              "      <td>2.452967e+09</td>\n",
              "      <td>2.325493e+09</td>\n",
              "    </tr>\n",
              "    <tr>\n",
              "      <th>1</th>\n",
              "      <td>0.0</td>\n",
              "      <td>0.099141</td>\n",
              "      <td>0.0</td>\n",
              "      <td>0.0</td>\n",
              "      <td>0.002271</td>\n",
              "      <td>0.029398</td>\n",
              "      <td>0.0</td>\n",
              "      <td>11.934254</td>\n",
              "      <td>1.508579</td>\n",
              "      <td>9.687480</td>\n",
              "      <td>12.828947</td>\n",
              "      <td>-1.347039</td>\n",
              "      <td>-21.559520</td>\n",
              "      <td>0.014067</td>\n",
              "      <td>0</td>\n",
              "      <td>0.0</td>\n",
              "      <td>0</td>\n",
              "      <td>0.000000</td>\n",
              "      <td>0.0</td>\n",
              "      <td>0.0</td>\n",
              "      <td>-0.095376</td>\n",
              "      <td>-0.095238</td>\n",
              "      <td>1.606184e+09</td>\n",
              "      <td>1.971984e+09</td>\n",
              "    </tr>\n",
              "    <tr>\n",
              "      <th>4</th>\n",
              "      <td>0.0</td>\n",
              "      <td>0.066016</td>\n",
              "      <td>0.0</td>\n",
              "      <td>0.0</td>\n",
              "      <td>0.004087</td>\n",
              "      <td>0.048760</td>\n",
              "      <td>0.0</td>\n",
              "      <td>10.929473</td>\n",
              "      <td>2.888418</td>\n",
              "      <td>16.043929</td>\n",
              "      <td>14.809406</td>\n",
              "      <td>1.309388</td>\n",
              "      <td>19.516758</td>\n",
              "      <td>-0.014541</td>\n",
              "      <td>0</td>\n",
              "      <td>0.0</td>\n",
              "      <td>0</td>\n",
              "      <td>0.000000</td>\n",
              "      <td>0.0</td>\n",
              "      <td>0.0</td>\n",
              "      <td>0.054134</td>\n",
              "      <td>0.113102</td>\n",
              "      <td>2.290897e+09</td>\n",
              "      <td>2.109425e+09</td>\n",
              "    </tr>\n",
              "    <tr>\n",
              "      <th>6</th>\n",
              "      <td>0.0</td>\n",
              "      <td>0.041587</td>\n",
              "      <td>0.0</td>\n",
              "      <td>0.0</td>\n",
              "      <td>0.004489</td>\n",
              "      <td>0.056914</td>\n",
              "      <td>0.0</td>\n",
              "      <td>11.679688</td>\n",
              "      <td>3.271321</td>\n",
              "      <td>16.303645</td>\n",
              "      <td>14.369653</td>\n",
              "      <td>-6.035254</td>\n",
              "      <td>115.593338</td>\n",
              "      <td>0.007538</td>\n",
              "      <td>0</td>\n",
              "      <td>0.0</td>\n",
              "      <td>0</td>\n",
              "      <td>0.000000</td>\n",
              "      <td>0.0</td>\n",
              "      <td>0.0</td>\n",
              "      <td>-0.026338</td>\n",
              "      <td>-0.023810</td>\n",
              "      <td>2.475431e+09</td>\n",
              "      <td>2.419039e+09</td>\n",
              "    </tr>\n",
              "    <tr>\n",
              "      <th>7</th>\n",
              "      <td>0.0</td>\n",
              "      <td>0.096320</td>\n",
              "      <td>0.0</td>\n",
              "      <td>0.0</td>\n",
              "      <td>0.002538</td>\n",
              "      <td>0.033446</td>\n",
              "      <td>0.0</td>\n",
              "      <td>12.170624</td>\n",
              "      <td>1.593349</td>\n",
              "      <td>9.809632</td>\n",
              "      <td>11.909722</td>\n",
              "      <td>3.724495</td>\n",
              "      <td>53.349544</td>\n",
              "      <td>-0.006340</td>\n",
              "      <td>0</td>\n",
              "      <td>0.0</td>\n",
              "      <td>0</td>\n",
              "      <td>0.000000</td>\n",
              "      <td>0.0</td>\n",
              "      <td>0.0</td>\n",
              "      <td>0.031977</td>\n",
              "      <td>0.031977</td>\n",
              "      <td>1.691181e+09</td>\n",
              "      <td>1.663681e+09</td>\n",
              "    </tr>\n",
              "  </tbody>\n",
              "</table>\n",
              "</div>"
            ],
            "text/plain": [
              "   currentRatio  quickRatio  ...  marketCapitalization  enterpriseValue\n",
              "0           0.0    0.044112  ...          2.452967e+09     2.325493e+09\n",
              "1           0.0    0.099141  ...          1.606184e+09     1.971984e+09\n",
              "4           0.0    0.066016  ...          2.290897e+09     2.109425e+09\n",
              "6           0.0    0.041587  ...          2.475431e+09     2.419039e+09\n",
              "7           0.0    0.096320  ...          1.691181e+09     1.663681e+09\n",
              "\n",
              "[5 rows x 24 columns]"
            ]
          },
          "metadata": {
            "tags": []
          }
        },
        {
          "output_type": "stream",
          "text": [
            "Index(['currentRatio', 'quickRatio', 'grossProfitMargin',\n",
            "       'operatingProfitMargin', 'returnOnAssets', 'returnOnEquity',\n",
            "       'returnOnCapitalEmployed', 'debtEquityRatio', 'priceToBookRatio',\n",
            "       'priceToSalesRatio', 'priceEarningsRatio', 'priceEarningsToGrowthRatio',\n",
            "       'priceToOperatingCashFlowsRatio', 'growthRevenue',\n",
            "       'growthCostOfRevenue', 'growthGrossProfit', 'growthGrossProfitRatio',\n",
            "       'growthOperatingExpenses', 'growthEBITDA', 'growthOperatingIncome',\n",
            "       'growthNetIncome', 'growthEPS', 'marketCapitalization',\n",
            "       'enterpriseValue'],\n",
            "      dtype='object')\n",
            "(41, 24)\n"
          ],
          "name": "stdout"
        },
        {
          "output_type": "display_data",
          "data": {
            "text/html": [
              "<div>\n",
              "<style scoped>\n",
              "    .dataframe tbody tr th:only-of-type {\n",
              "        vertical-align: middle;\n",
              "    }\n",
              "\n",
              "    .dataframe tbody tr th {\n",
              "        vertical-align: top;\n",
              "    }\n",
              "\n",
              "    .dataframe thead th {\n",
              "        text-align: right;\n",
              "    }\n",
              "</style>\n",
              "<table border=\"1\" class=\"dataframe\">\n",
              "  <thead>\n",
              "    <tr style=\"text-align: right;\">\n",
              "      <th></th>\n",
              "      <th>percentage</th>\n",
              "    </tr>\n",
              "  </thead>\n",
              "  <tbody>\n",
              "    <tr>\n",
              "      <th>0</th>\n",
              "      <td>-0.116738</td>\n",
              "    </tr>\n",
              "    <tr>\n",
              "      <th>1</th>\n",
              "      <td>0.383013</td>\n",
              "    </tr>\n",
              "    <tr>\n",
              "      <th>4</th>\n",
              "      <td>0.202370</td>\n",
              "    </tr>\n",
              "    <tr>\n",
              "      <th>6</th>\n",
              "      <td>0.041693</td>\n",
              "    </tr>\n",
              "    <tr>\n",
              "      <th>7</th>\n",
              "      <td>0.110787</td>\n",
              "    </tr>\n",
              "  </tbody>\n",
              "</table>\n",
              "</div>"
            ],
            "text/plain": [
              "   percentage\n",
              "0   -0.116738\n",
              "1    0.383013\n",
              "4    0.202370\n",
              "6    0.041693\n",
              "7    0.110787"
            ]
          },
          "metadata": {
            "tags": []
          }
        },
        {
          "output_type": "stream",
          "text": [
            "(41, 1)\n"
          ],
          "name": "stdout"
        },
        {
          "output_type": "display_data",
          "data": {
            "text/html": [
              "<div>\n",
              "<style scoped>\n",
              "    .dataframe tbody tr th:only-of-type {\n",
              "        vertical-align: middle;\n",
              "    }\n",
              "\n",
              "    .dataframe tbody tr th {\n",
              "        vertical-align: top;\n",
              "    }\n",
              "\n",
              "    .dataframe thead th {\n",
              "        text-align: right;\n",
              "    }\n",
              "</style>\n",
              "<table border=\"1\" class=\"dataframe\">\n",
              "  <thead>\n",
              "    <tr style=\"text-align: right;\">\n",
              "      <th></th>\n",
              "      <th>baselinePercentage</th>\n",
              "    </tr>\n",
              "  </thead>\n",
              "  <tbody>\n",
              "    <tr>\n",
              "      <th>0</th>\n",
              "      <td>0.06</td>\n",
              "    </tr>\n",
              "    <tr>\n",
              "      <th>1</th>\n",
              "      <td>0.06</td>\n",
              "    </tr>\n",
              "    <tr>\n",
              "      <th>4</th>\n",
              "      <td>0.06</td>\n",
              "    </tr>\n",
              "    <tr>\n",
              "      <th>6</th>\n",
              "      <td>0.06</td>\n",
              "    </tr>\n",
              "    <tr>\n",
              "      <th>7</th>\n",
              "      <td>0.06</td>\n",
              "    </tr>\n",
              "  </tbody>\n",
              "</table>\n",
              "</div>"
            ],
            "text/plain": [
              "   baselinePercentage\n",
              "0                0.06\n",
              "1                0.06\n",
              "4                0.06\n",
              "6                0.06\n",
              "7                0.06"
            ]
          },
          "metadata": {
            "tags": []
          }
        },
        {
          "output_type": "stream",
          "text": [
            "(41, 1)\n"
          ],
          "name": "stdout"
        }
      ]
    },
    {
      "cell_type": "markdown",
      "metadata": {
        "id": "iS_VmsndY6G_"
      },
      "source": [
        "Removing Outliers to see if this improves normalization and accuracy of model "
      ]
    },
    {
      "cell_type": "code",
      "metadata": {
        "colab": {
          "base_uri": "https://localhost:8080/"
        },
        "id": "eWXgbdOaY78C",
        "outputId": "c27d869e-4962-415b-8238-9c616ef38e1d"
      },
      "source": [
        "#Create additional set of X featurs without outliers: \n",
        "print(\"X\")\n",
        "print(X)\n",
        "print(\"\")\n",
        "XReduced = X[X.columns[2:]]\n",
        "for colName in XReduced: \n",
        "  print(colName)\n",
        "#Get z score of dataframe \n",
        "\n",
        "print(\"\")\n",
        "print(\"Z values\")\n",
        "z = np.abs(stats.zscore(XReduced))\n",
        "print(z)\n",
        "\n",
        "print(\"\")\n",
        "print(\"\")\n",
        "\n",
        "threshold = 3\n",
        "#print(\"Z values above threshold (outliers): \")\n",
        "#outliers = np.where(z > 3)\n",
        "#noOutliers = np.where(z < 3)\n",
        "#print(np.array(noOutliers))\n",
        "#XData = X.data\n",
        "#for col in X:\n",
        "  #data = X[col]\n",
        "  #print(data)\n",
        "\n",
        "print(\"X Normal\")\n",
        "print(XReduced)\n",
        "#Removing outliers: \n",
        "XReducedWithoutOutliers = XReduced[z < threshold]\n",
        "\n",
        "print(\"X without outliers: \" )\n",
        "print(XReducedWithoutOutliers)\n",
        "\n",
        "print(\"Difference between the two: \")\n",
        "#print(XReduced == XReducedWithoutOutliers)\n"
      ],
      "execution_count": 45,
      "outputs": [
        {
          "output_type": "stream",
          "text": [
            "X\n",
            "    currentRatio  quickRatio  ...  marketCapitalization  enterpriseValue\n",
            "0            0.0    0.044112  ...          2.452967e+09     2.325493e+09\n",
            "1            0.0    0.099141  ...          1.606184e+09     1.971984e+09\n",
            "4            0.0    0.066016  ...          2.290897e+09     2.109425e+09\n",
            "6            0.0    0.041587  ...          2.475431e+09     2.419039e+09\n",
            "7            0.0    0.096320  ...          1.691181e+09     1.663681e+09\n",
            "8            0.0    0.169719  ...          2.939806e+09     3.059304e+09\n",
            "10           0.0    0.064237  ...          1.887869e+09     1.800466e+09\n",
            "11           0.0    0.044073  ...          2.148556e+09     1.966048e+09\n",
            "12           0.0    0.069516  ...          1.920627e+09     1.721307e+09\n",
            "13           0.0    0.089617  ...          2.163629e+09     2.337729e+09\n",
            "14           0.0    0.093525  ...          1.860000e+09     1.785600e+09\n",
            "15           0.0    0.035287  ...          2.153753e+09     1.891071e+09\n",
            "16           0.0    0.181952  ...          2.741577e+09     2.789305e+09\n",
            "17           0.0    0.116831  ...          1.862739e+09     1.361614e+09\n",
            "18           0.0    0.173936  ...          1.898062e+09     1.094734e+09\n",
            "19           0.0    0.175741  ...          2.887632e+09     2.893276e+09\n",
            "20           0.0    0.108634  ...          1.656667e+09     1.665367e+09\n",
            "21           0.0    0.124910  ...          1.362656e+09     1.373556e+09\n",
            "22           0.0    0.039246  ...          2.416965e+09     2.355248e+09\n",
            "23           0.0    0.077085  ...          1.974645e+09     1.724184e+09\n",
            "24           0.0    0.030354  ...          1.983343e+09     1.784624e+09\n",
            "25           0.0    0.084903  ...          1.882849e+09     1.814949e+09\n",
            "26           0.0    0.036435  ...          2.539841e+09     2.455471e+09\n",
            "27           0.0    0.174086  ...          2.930632e+09     2.972513e+09\n",
            "28           0.0    0.183851  ...          2.579963e+09     2.567969e+09\n",
            "30           0.0    0.185309  ...          2.678554e+09     2.690460e+09\n",
            "31           0.0    0.026712  ...          2.164666e+09     1.941820e+09\n",
            "34           0.0    0.035002  ...          2.281651e+09     2.210491e+09\n",
            "35           0.0    0.083292  ...          1.961080e+09     1.885780e+09\n",
            "36           0.0    0.028233  ...          2.254852e+09     2.079569e+09\n",
            "37           0.0    0.091772  ...          1.829444e+09     1.962744e+09\n",
            "39           0.0    0.042487  ...          2.377181e+09     2.255517e+09\n",
            "40           0.0    0.036956  ...          2.632594e+09     2.587222e+09\n",
            "41           0.0    0.093410  ...          1.956977e+09     1.738677e+09\n",
            "42           0.0    0.286011  ...          1.965679e+09     1.911616e+09\n",
            "43           0.0    0.063339  ...          2.373683e+09     2.163172e+09\n",
            "44           0.0    0.080733  ...          1.350523e+09     1.390123e+09\n",
            "46           0.0    0.146220  ...          1.290000e+09     8.496000e+08\n",
            "47           0.0    0.177710  ...          2.655682e+09     2.663511e+09\n",
            "48           0.0    0.032340  ...          1.568727e+09     1.333306e+09\n",
            "49           0.0    0.092028  ...          1.679489e+09     1.620889e+09\n",
            "\n",
            "[41 rows x 24 columns]\n",
            "\n",
            "grossProfitMargin\n",
            "operatingProfitMargin\n",
            "returnOnAssets\n",
            "returnOnEquity\n",
            "returnOnCapitalEmployed\n",
            "debtEquityRatio\n",
            "priceToBookRatio\n",
            "priceToSalesRatio\n",
            "priceEarningsRatio\n",
            "priceEarningsToGrowthRatio\n",
            "priceToOperatingCashFlowsRatio\n",
            "growthRevenue\n",
            "growthCostOfRevenue\n",
            "growthGrossProfit\n",
            "growthGrossProfitRatio\n",
            "growthOperatingExpenses\n",
            "growthEBITDA\n",
            "growthOperatingIncome\n",
            "growthNetIncome\n",
            "growthEPS\n",
            "marketCapitalization\n",
            "enterpriseValue\n",
            "\n",
            "Z values\n",
            "[[           nan            nan 7.91607854e-01 9.82816271e-01\n",
            "             nan 7.89236240e-01 1.51887676e+00 5.58554699e-01\n",
            "  1.00820151e-01 1.61902112e-01 2.14884086e-01 8.91040455e-02\n",
            "             nan            nan            nan 9.19469094e-01\n",
            "             nan            nan 2.42601756e-01 2.45718891e-01\n",
            "  7.48541434e-01 5.86508432e-01]\n",
            " [           nan            nan 9.06250174e-01 8.24962865e-01\n",
            "             nan 5.77949410e-03 1.13361589e+00 1.00454424e+00\n",
            "  2.03921282e-01 1.70053623e-01 9.93893742e-01 1.67957482e-01\n",
            "             nan            nan            nan 2.47408778e-02\n",
            "             nan            nan 2.11502361e-01 2.22276310e-01\n",
            "  1.21393830e+00 1.12754438e-01]\n",
            " [           nan            nan 9.85187565e-01 5.71569848e-01\n",
            "             nan 7.85171206e-01 9.44835886e-01 7.47182920e-01\n",
            "  1.10232209e-01 6.13667621e-02 3.76753654e-01 3.33847065e-01\n",
            "             nan            nan            nan 2.47408778e-02\n",
            "             nan            nan 1.17450056e-01 8.47706482e-02\n",
            "  3.72931727e-01 1.59111414e-01]\n",
            " [           nan            nan 1.40308034e+00 1.15968992e+00\n",
            "             nan 2.03241643e-01 1.52160282e+00 8.18756098e-01\n",
            "  1.31035504e-01 3.61870397e-01 1.06672448e+00 5.34376523e-02\n",
            "             nan            nan            nan 2.47408778e-02\n",
            "             nan            nan 1.68072837e-01 1.75132984e-01\n",
            "  8.00604180e-01 7.71549079e-01]\n",
            " [           nan            nan 6.28388700e-01 5.32957568e-01\n",
            "             nan 1.77568769e-01 1.00592710e+00 9.70881304e-01\n",
            "  2.47406845e-01 3.74465468e-02 1.31558436e-01 1.89992328e-01\n",
            "             nan            nan            nan 2.47408778e-02\n",
            "             nan            nan 1.31388349e-01 1.38313679e-01\n",
            "  1.01695317e+00 7.22598712e-01]\n",
            " [           nan            nan 3.66488881e-01 1.87644492e-01\n",
            "             nan 5.92889823e-01 4.20624878e-01 1.76467216e+00\n",
            "  2.50070709e-02 1.76106780e-01 1.62647955e+00 1.09189940e+00\n",
            "             nan            nan            nan 4.42394582e-01\n",
            "             nan            nan 2.26238596e-01 2.32752605e-01\n",
            "  1.87682488e+00 2.03803266e+00]\n",
            " [           nan            nan 2.64964238e-02 6.87531227e-01\n",
            "             nan 2.37134447e+00 4.18933102e-01 1.58185529e-01\n",
            "  6.16059438e-02 5.13744301e-02 7.63073741e-02 4.82973708e-01\n",
            "             nan            nan            nan 2.47408778e-02\n",
            "             nan            nan 1.32071297e-01 1.33704007e-01\n",
            "  5.61112904e-01 4.52027782e-01]\n",
            " [           nan            nan 5.31647106e-01 6.40202626e-01\n",
            "             nan 5.20341425e-01 6.87036009e-01 1.90922717e-02\n",
            "  1.64359589e-01 1.47140612e-01 1.85163206e-01 1.05441545e-01\n",
            "             nan            nan            nan 1.00366445e+00\n",
            "             nan            nan 2.59010025e-01 2.74017142e-01\n",
            "  4.30480000e-02 1.24495945e-01]\n",
            " [           nan            nan 8.05741660e-01 2.66914451e-01\n",
            "             nan 1.21481031e+00 1.06006794e-01 2.13388869e-02\n",
            "  1.91669716e-01 9.58153593e-02 4.66870102e-01 3.77282284e-01\n",
            "             nan            nan            nan 2.47408778e-02\n",
            "             nan            nan 1.21545416e-02 2.53832982e-02\n",
            "  4.85193779e-01 6.08609234e-01]\n",
            " [           nan            nan 7.99607661e-01 7.14289899e-01\n",
            "             nan 6.54740861e-02 5.50157055e-01 4.47737609e-01\n",
            "  8.59284708e-02 3.97063764e-01 1.93057358e+00 9.35275372e-01\n",
            "             nan            nan            nan 2.47408778e-02\n",
            "             nan            nan 1.56805237e-01 1.74085354e-01\n",
            "  7.79805675e-02 6.10712601e-01]\n",
            " [           nan            nan 3.05272573e+00 2.74932342e+00\n",
            "             nan 2.43581093e-02 9.49418657e-01 1.09844806e+00\n",
            "  6.28519689e+00 1.82606519e-01 1.26178382e-01 3.17807444e-01\n",
            "             nan            nan            nan 2.47408778e-02\n",
            "             nan            nan 7.23220503e-01 7.58029153e-01\n",
            "  6.25702019e-01 4.81434284e-01]\n",
            " [           nan            nan 1.14491770e+00 1.10385770e+00\n",
            "             nan 2.30049008e-01 4.75934870e-02 3.66435458e-01\n",
            "  3.27811918e-01 1.01055263e-01 6.41577680e-02 5.45967960e-01\n",
            "             nan            nan            nan 2.52725227e+00\n",
            "             nan            nan 3.82302043e-02 3.91544471e-02\n",
            "  5.50912995e-02 2.72806186e-01]\n",
            " [           nan            nan 9.17696894e-01 6.94502003e-01\n",
            "             nan 6.70594627e-01 3.53853257e-01 1.72290517e+00\n",
            "  1.35144285e-01 1.64607018e-01 9.97003733e-02 3.85812236e-01\n",
            "             nan            nan            nan 1.88398466e+00\n",
            "             nan            nan 2.56640008e-01 2.68138435e-01\n",
            "  1.41741485e+00 1.50395733e+00]\n",
            " [           nan            nan 1.08050329e-01 8.92650967e-01\n",
            "             nan 2.77146239e+00 6.43676620e-01 2.00326130e-02\n",
            "  4.87433337e-02 2.32387382e-02 1.86937773e+00 2.62895750e-01\n",
            "             nan            nan            nan 2.47408778e-02\n",
            "             nan            nan 1.78416723e-01 1.11980562e-01\n",
            "  6.19355168e-01 1.32010645e+00]\n",
            " [           nan            nan 6.92529080e-01 1.42301109e+00\n",
            "             nan 3.42781899e+00 1.11326696e+00 8.51766793e-01\n",
            "  4.20625791e-02 2.07771772e-01 8.32346806e-01 3.22476606e+00\n",
            "             nan            nan            nan 2.47408778e-02\n",
            "             nan            nan 2.47488394e-01 2.11862452e-01\n",
            "  5.37489583e-01 1.84801039e+00]\n",
            " [           nan            nan 4.60846107e-01 2.04361092e-01\n",
            "             nan 8.83144585e-01 6.10525856e-01 1.91092844e+00\n",
            "  1.90200792e-02 3.51849491e-01 1.06279785e-01 7.25223715e-01\n",
            "             nan            nan            nan 7.18145076e-01\n",
            "             nan            nan 1.70594728e-01 1.79413225e-01\n",
            "  1.75590787e+00 1.70961868e+00]\n",
            " [           nan            nan 7.14396331e-01 6.18014336e-01\n",
            "             nan 1.47517902e-01 1.06527293e+00 1.04284171e+00\n",
            "  2.41256661e-01 8.15470014e-02 3.25628455e-01 7.35809407e-01\n",
            "             nan            nan            nan 2.47408778e-02\n",
            "             nan            nan 8.91996933e-02 6.20565653e-02\n",
            "  1.09694158e+00 7.19263477e-01]\n",
            " [           nan            nan 4.55466420e-01 3.74212200e-01\n",
            "             nan 1.86788697e-01 1.26655873e+00 1.18237828e+00\n",
            "  3.39597539e-01 3.56850588e+00 5.20431970e-01 1.94410721e-01\n",
            "             nan            nan            nan 2.47408778e-02\n",
            "             nan            nan 1.55161461e-01 1.59418542e-01\n",
            "  1.77833180e+00 1.29648309e+00]\n",
            " [           nan            nan 1.51335993e+00 1.63618892e+00\n",
            "             nan 6.85439981e-01 1.67409830e+00 6.79944732e-01\n",
            "  1.82885817e-01 4.10565251e-01 3.06152593e-01 4.76233478e-01\n",
            "             nan            nan            nan 2.47408778e-02\n",
            "             nan            nan 1.61285499e-01 1.71543346e-01\n",
            "  6.65103750e-01 6.45365319e-01]\n",
            " [           nan            nan 3.30627271e-03 5.72685920e-01\n",
            "             nan 1.92429582e+00 1.48183847e-01 1.79050913e-01\n",
            "  3.32479137e-02 2.14587110e-01 1.98459892e+00 6.28105936e-01\n",
            "             nan            nan            nan 2.47408778e-02\n",
            "             nan            nan 1.46585632e-01 1.45949020e-01\n",
            "  3.60003612e-01 6.02918702e-01]\n",
            " [           nan            nan 1.60373136e-01 3.15747331e-02\n",
            "             nan 4.50449434e-01 9.68248179e-02 3.75405678e-01\n",
            "  1.67665617e-01 8.31014847e-02 3.59851342e-01 2.45100925e-01\n",
            "             nan            nan            nan 1.45117237e+00\n",
            "             nan            nan 4.06260176e-02 4.41089385e-02\n",
            "  3.39845952e-01 4.83365023e-01]\n",
            " [           nan            nan 8.72357729e-01 8.00401604e-01\n",
            "             nan 3.00224697e-02 9.25331538e-01 1.00785068e+00\n",
            "  1.55879880e-01 1.20133646e-01 2.26586637e-01 5.17039003e-02\n",
            "             nan            nan            nan 2.47408778e-02\n",
            "             nan            nan 1.36345671e-01 1.43514773e-01\n",
            "  5.72748226e-01 4.23380435e-01]\n",
            " [           nan            nan 1.50581071e+00 1.43850053e+00\n",
            "             nan 2.38922868e-01 1.49871090e+00 6.85070805e-01\n",
            "  1.77226212e-01 6.68399976e-01 2.33818461e-01 8.26176743e-01\n",
            "             nan            nan            nan 2.32043105e+00\n",
            "             nan            nan 1.62878501e-01 1.65953260e-01\n",
            "  9.49878945e-01 8.43613877e-01]\n",
            " [           nan            nan 6.86420805e-02 2.34894025e-01\n",
            "             nan 6.24829790e-01 4.70542364e-01 1.43453170e+00\n",
            "  1.20522981e-01 7.98210176e-02 3.67327866e-01 1.46522250e+00\n",
            "             nan            nan            nan 2.47408778e-02\n",
            "             nan            nan 4.31434545e-02 4.72174246e-02\n",
            "  1.85556383e+00 1.86635483e+00]\n",
            " [           nan            nan 3.70634979e-01 1.29472238e-01\n",
            "             nan 8.32668225e-01 2.77311768e-01 1.35559434e+00\n",
            "  7.00626393e-02 2.72378246e+00 1.58687180e-01 1.80484629e-01\n",
            "             nan            nan            nan 7.31700066e-01\n",
            "             nan            nan 1.60209181e-01 1.61039346e-01\n",
            "  1.04286364e+00 1.06614131e+00]\n",
            " [           nan            nan 4.53815317e-01 2.40011593e-01\n",
            "             nan 7.14197810e-01 5.15374724e-01 1.71805641e+00\n",
            "  1.00375579e-02 7.49724061e-01 1.47293005e-01 4.15332279e-03\n",
            "             nan            nan            nan 2.16443191e-01\n",
            "             nan            nan 1.58961769e-01 1.66800038e-01\n",
            "  1.27135543e+00 1.30843639e+00]\n",
            " [           nan            nan 3.37077586e-01 1.11918370e-01\n",
            "             nan 5.49989224e-01 2.69437232e-01 1.37955874e-02\n",
            "  2.29825202e-01 2.02592872e-01 6.90678423e-02 1.20051690e+00\n",
            "             nan            nan            nan 1.64908134e-01\n",
            "             nan            nan 1.85278708e-01 1.97254773e-01\n",
            "  8.03829536e-02 1.72421434e-01]\n",
            " [           nan            nan 1.57685114e+00 1.59171303e+00\n",
            "             nan 4.42273049e-01 1.07165473e+00 7.50512390e-02\n",
            "  2.51926226e-01 1.46896314e-01 4.67081604e-01 1.99745055e+00\n",
            "             nan            nan            nan 4.01874906e+00\n",
            "             nan            nan 2.49721486e-01 2.59251468e-01\n",
            "  3.51503554e-01 3.59026485e-01]\n",
            " [           nan            nan 8.44353546e-01 8.16093647e-01\n",
            "             nan 2.18838151e-01 9.14444960e-01 9.58469331e-01\n",
            "  1.48157795e-01 3.75174802e-01 3.24159672e-01 9.02049310e-04\n",
            "             nan            nan            nan 2.47408778e-02\n",
            "             nan            nan 1.47888696e-01 1.51700684e-01\n",
            "  3.91442955e-01 2.83272780e-01]\n",
            " [           nan            nan 1.27147523e-01 3.16255884e-01\n",
            "             nan 7.09398779e-01 3.84844884e-01 3.03402038e-01\n",
            "  1.52621962e-01 6.17335349e-02 2.50058373e+00 1.89642025e+00\n",
            "             nan            nan            nan 3.14021479e-01\n",
            "             nan            nan 8.17335362e-02 8.88038681e-02\n",
            "  2.89396425e-01 1.00055682e-01]\n",
            " [           nan            nan 6.54975648e-01 5.72659553e-01\n",
            "             nan 1.11591247e-01 8.59608801e-01 7.88366185e-01\n",
            "  2.03056759e-01 4.28082718e+00 2.84175133e-03 1.55219558e-01\n",
            "             nan            nan            nan 2.47408778e-02\n",
            "             nan            nan 1.49732022e-01 1.59418542e-01\n",
            "  6.96516714e-01 1.31031287e-01]\n",
            " [           nan            nan 2.23417083e+00 2.43683908e+00\n",
            "             nan 9.10274973e-01 1.26406389e+00 1.95262596e-01\n",
            "  3.19439337e-01 1.04233624e-01 1.06915423e-01 3.06245480e+00\n",
            "             nan            nan            nan 4.28094517e-01\n",
            "             nan            nan 1.00294539e-01 1.02568356e-01\n",
            "  5.72902540e-01 4.48091949e-01]\n",
            " [           nan            nan 1.53512350e+00 1.75691511e+00\n",
            "             nan 9.18192653e-01 2.16218002e+00 1.10779164e+00\n",
            "  1.40226156e-01 1.63431995e-02 3.87574398e+00 2.23260749e-01\n",
            "             nan            nan            nan 4.19037809e-01\n",
            "             nan            nan 1.38970134e-01 1.20594626e-01\n",
            "  1.16483977e+00 1.10422499e+00]\n",
            " [           nan            nan 9.65958911e-01 8.01939826e-01\n",
            "             nan 3.68836835e-01 7.67433149e-01 8.98595482e-01\n",
            "  1.13691999e-01 2.46808794e-01 1.74869795e-03 8.22904310e-01\n",
            "             nan            nan            nan 2.47408778e-02\n",
            "             nan            nan 1.88927672e-01 1.89595309e-01\n",
            "  4.00951491e-01 5.74251497e-01]\n",
            " [           nan            nan 2.15450871e-01 1.01178544e-01\n",
            "             nan 3.84389422e-01 5.07873263e-01 2.39908058e-01\n",
            "  2.33770516e-01 4.15956948e-01 3.65807485e-01 9.92884005e-01\n",
            "             nan            nan            nan 2.58308608e-01\n",
            "             nan            nan 1.65921843e-01 1.70361231e-01\n",
            "  3.80782533e-01 2.32165895e-01]\n",
            " [           nan            nan 1.48297916e+00 1.61594467e+00\n",
            "             nan 7.06271748e-01 1.70594241e+00 6.66555745e-01\n",
            "  1.76145299e-01 7.85119411e-02 4.54812909e-01 6.26344761e-01\n",
            "             nan            nan            nan 2.47408778e-02\n",
            "             nan            nan 8.14349341e-02 5.99654967e-02\n",
            "  5.64794202e-01 2.65426396e-01]\n",
            " [           nan            nan 7.95898900e-01 7.94517767e-01\n",
            "             nan 3.13775824e-01 1.66280702e+00 1.79549369e+00\n",
            "  3.51845380e-01 1.14532809e-01 7.19788437e-01 1.58113893e-01\n",
            "             nan            nan            nan 2.47408778e-02\n",
            "             nan            nan 6.28127581e+00 6.27564553e+00\n",
            "  1.80645086e+00 1.26371248e+00]\n",
            " [           nan            nan 4.89723911e-01 3.42627531e-01\n",
            "             nan 4.39854794e-01 1.36767236e+00 1.33079404e+00\n",
            "  3.67316344e-01 8.80896879e-02 2.65358665e-01 9.47006603e-01\n",
            "             nan            nan            nan 2.47408778e-02\n",
            "             nan            nan 6.16364717e-02 6.51318887e-02\n",
            "  1.94671786e+00 2.33290194e+00]\n",
            " [           nan            nan 3.52021572e-01 9.83638770e-02\n",
            "             nan 8.82700852e-01 3.14309040e-01 1.27299257e+00\n",
            "  7.07973445e-02 8.77357287e-02 3.50811630e-01 7.37455088e-01\n",
            "             nan            nan            nan 1.19443134e+00\n",
            "             nan            nan 1.32398661e-01 1.38576229e-01\n",
            "  1.21834716e+00 1.25512888e+00]\n",
            " [           nan            nan 6.95061822e-03 1.71761022e-01\n",
            "             nan 6.09793913e-01 5.72466348e-01 1.09214185e+00\n",
            "  2.96032365e-01 1.70376914e-01 5.46509538e-01 6.99117595e-01\n",
            "             nan            nan            nan 1.51141612e+00\n",
            "             nan            nan 2.03789450e-01 2.12425198e-01\n",
            "  1.30074843e+00 1.37610095e+00]\n",
            " [           nan            nan 8.02087188e-01 8.30993475e-01\n",
            "             nan 4.52783435e-01 1.31107838e+00 1.41649973e+00\n",
            "  2.49721416e-01 3.09680773e-01 1.35379714e-01 4.50065691e-01\n",
            "             nan            nan            nan 2.47408778e-02\n",
            "             nan            nan 1.44314652e-01 1.51875613e-01\n",
            "  1.04405006e+00 8.07243879e-01]]\n",
            "\n",
            "\n",
            "X Normal\n",
            "    grossProfitMargin  ...  enterpriseValue\n",
            "0                 0.0  ...     2.325493e+09\n",
            "1                 0.0  ...     1.971984e+09\n",
            "4                 0.0  ...     2.109425e+09\n",
            "6                 0.0  ...     2.419039e+09\n",
            "7                 0.0  ...     1.663681e+09\n",
            "8                 0.0  ...     3.059304e+09\n",
            "10                0.0  ...     1.800466e+09\n",
            "11                0.0  ...     1.966048e+09\n",
            "12                0.0  ...     1.721307e+09\n",
            "13                0.0  ...     2.337729e+09\n",
            "14                0.0  ...     1.785600e+09\n",
            "15                0.0  ...     1.891071e+09\n",
            "16                0.0  ...     2.789305e+09\n",
            "17                0.0  ...     1.361614e+09\n",
            "18                0.0  ...     1.094734e+09\n",
            "19                0.0  ...     2.893276e+09\n",
            "20                0.0  ...     1.665367e+09\n",
            "21                0.0  ...     1.373556e+09\n",
            "22                0.0  ...     2.355248e+09\n",
            "23                0.0  ...     1.724184e+09\n",
            "24                0.0  ...     1.784624e+09\n",
            "25                0.0  ...     1.814949e+09\n",
            "26                0.0  ...     2.455471e+09\n",
            "27                0.0  ...     2.972513e+09\n",
            "28                0.0  ...     2.567969e+09\n",
            "30                0.0  ...     2.690460e+09\n",
            "31                0.0  ...     1.941820e+09\n",
            "34                0.0  ...     2.210491e+09\n",
            "35                0.0  ...     1.885780e+09\n",
            "36                0.0  ...     2.079569e+09\n",
            "37                0.0  ...     1.962744e+09\n",
            "39                0.0  ...     2.255517e+09\n",
            "40                0.0  ...     2.587222e+09\n",
            "41                0.0  ...     1.738677e+09\n",
            "42                0.0  ...     1.911616e+09\n",
            "43                0.0  ...     2.163172e+09\n",
            "44                0.0  ...     1.390123e+09\n",
            "46                0.0  ...     8.496000e+08\n",
            "47                0.0  ...     2.663511e+09\n",
            "48                0.0  ...     1.333306e+09\n",
            "49                0.0  ...     1.620889e+09\n",
            "\n",
            "[41 rows x 22 columns]\n",
            "X without outliers: \n",
            "    grossProfitMargin  ...  enterpriseValue\n",
            "0                 0.0  ...     2.325493e+09\n",
            "0                 0.0  ...     2.325493e+09\n",
            "0                 0.0  ...     2.325493e+09\n",
            "0                 0.0  ...     2.325493e+09\n",
            "0                 0.0  ...     2.325493e+09\n",
            "..                ...  ...              ...\n",
            "49                0.0  ...     1.620889e+09\n",
            "49                0.0  ...     1.620889e+09\n",
            "49                0.0  ...     1.620889e+09\n",
            "49                0.0  ...     1.620889e+09\n",
            "49                0.0  ...     1.620889e+09\n",
            "\n",
            "[563 rows x 22 columns]\n",
            "Difference between the two: \n"
          ],
          "name": "stdout"
        },
        {
          "output_type": "stream",
          "text": [
            "/usr/local/lib/python3.7/dist-packages/scipy/stats/stats.py:2419: RuntimeWarning: invalid value encountered in true_divide\n",
            "  return (a - mns) / sstd\n"
          ],
          "name": "stderr"
        }
      ]
    },
    {
      "cell_type": "markdown",
      "metadata": {
        "id": "o44iXqLMwITc"
      },
      "source": [
        "Plot features without Outliers: "
      ]
    },
    {
      "cell_type": "code",
      "metadata": {
        "colab": {
          "base_uri": "https://localhost:8080/",
          "height": 1000
        },
        "id": "kDGaULg4wLQW",
        "outputId": "84d124c5-f933-4304-ab7b-a29856bc2755"
      },
      "source": [
        "for colName in XReduced:\n",
        "  plt.figure()\n",
        "  sns.scatterplot(data=merged, x=colName, y='percentage')"
      ],
      "execution_count": 46,
      "outputs": [
        {
          "output_type": "stream",
          "text": [
            "/usr/local/lib/python3.7/dist-packages/ipykernel_launcher.py:2: RuntimeWarning: More than 20 figures have been opened. Figures created through the pyplot interface (`matplotlib.pyplot.figure`) are retained until explicitly closed and may consume too much memory. (To control this warning, see the rcParam `figure.max_open_warning`).\n",
            "  \n",
            "/usr/local/lib/python3.7/dist-packages/ipykernel_launcher.py:2: RuntimeWarning: More than 20 figures have been opened. Figures created through the pyplot interface (`matplotlib.pyplot.figure`) are retained until explicitly closed and may consume too much memory. (To control this warning, see the rcParam `figure.max_open_warning`).\n",
            "  \n"
          ],
          "name": "stderr"
        },
        {
          "output_type": "display_data",
          "data": {
            "image/png": "[encoded data removed]",
            "text/plain": [
              "<Figure size 432x288 with 1 Axes>"
            ]
          },
          "metadata": {
            "tags": [],
            "needs_background": "light"
          }
        },
        {
          "output_type": "display_data",
          "data": {
            "image/png": "[encoded data removed]",
            "text/plain": [
              "<Figure size 432x288 with 1 Axes>"
            ]
          },
          "metadata": {
            "tags": [],
            "needs_background": "light"
          }
        },
        {
          "output_type": "display_data",
          "data": {
            "image/png": "[encoded data removed]",
            "text/plain": [
              "<Figure size 432x288 with 1 Axes>"
            ]
          },
          "metadata": {
            "tags": [],
            "needs_background": "light"
          }
        },
        {
          "output_type": "display_data",
          "data": {
            "image/png": "[encoded data removed]",
            "text/plain": [
              "<Figure size 432x288 with 1 Axes>"
            ]
          },
          "metadata": {
            "tags": [],
            "needs_background": "light"
          }
        },
        {
          "output_type": "display_data",
          "data": {
            "image/png": "[encoded data removed]",
            "text/plain": [
              "<Figure size 432x288 with 1 Axes>"
            ]
          },
          "metadata": {
            "tags": [],
            "needs_background": "light"
          }
        },
        {
          "output_type": "display_data",
          "data": {
            "image/png": "[encoded data removed]",
            "text/plain": [
              "<Figure size 432x288 with 1 Axes>"
            ]
          },
          "metadata": {
            "tags": [],
            "needs_background": "light"
          }
        },
        {
          "output_type": "display_data",
          "data": {
            "image/png": "[encoded data removed]",
            "text/plain": [
              "<Figure size 432x288 with 1 Axes>"
            ]
          },
          "metadata": {
            "tags": [],
            "needs_background": "light"
          }
        },
        {
          "output_type": "display_data",
          "data": {
            "image/png": "[encoded data removed]",
            "text/plain": [
              "<Figure size 432x288 with 1 Axes>"
            ]
          },
          "metadata": {
            "tags": [],
            "needs_background": "light"
          }
        },
        {
          "output_type": "display_data",
          "data": {
            "image/png": "[encoded data removed]",
            "text/plain": [
              "<Figure size 432x288 with 1 Axes>"
            ]
          },
          "metadata": {
            "tags": [],
            "needs_background": "light"
          }
        },
        {
          "output_type": "display_data",
          "data": {
            "image/png": "[encoded data removed]",
            "text/plain": [
              "<Figure size 432x288 with 1 Axes>"
            ]
          },
          "metadata": {
            "tags": [],
            "needs_background": "light"
          }
        },
        {
          "output_type": "display_data",
          "data": {
            "image/png": "[encoded data removed]",
            "text/plain": [
              "<Figure size 432x288 with 1 Axes>"
            ]
          },
          "metadata": {
            "tags": [],
            "needs_background": "light"
          }
        },
        {
          "output_type": "display_data",
          "data": {
            "image/png": "[encoded data removed]",
            "text/plain": [
              "<Figure size 432x288 with 1 Axes>"
            ]
          },
          "metadata": {
            "tags": [],
            "needs_background": "light"
          }
        },
        {
          "output_type": "display_data",
          "data": {
            "image/png": "[encoded data removed]",
            "text/plain": [
              "<Figure size 432x288 with 1 Axes>"
            ]
          },
          "metadata": {
            "tags": [],
            "needs_background": "light"
          }
        },
        {
          "output_type": "display_data",
          "data": {
            "image/png": "[encoded data removed]",
            "text/plain": [
              "<Figure size 432x288 with 1 Axes>"
            ]
          },
          "metadata": {
            "tags": [],
            "needs_background": "light"
          }
        },
        {
          "output_type": "display_data",
          "data": {
            "image/png": "[encoded data removed]",
            "text/plain": [
              "<Figure size 432x288 with 1 Axes>"
            ]
          },
          "metadata": {
            "tags": [],
            "needs_background": "light"
          }
        },
        {
          "output_type": "display_data",
          "data": {
            "image/png": "[encoded data removed]",
            "text/plain": [
              "<Figure size 432x288 with 1 Axes>"
            ]
          },
          "metadata": {
            "tags": [],
            "needs_background": "light"
          }
        },
        {
          "output_type": "display_data",
          "data": {
            "image/png": "[encoded data removed]",
            "text/plain": [
              "<Figure size 432x288 with 1 Axes>"
            ]
          },
          "metadata": {
            "tags": [],
            "needs_background": "light"
          }
        },
        {
          "output_type": "display_data",
          "data": {
            "image/png": "[encoded data removed]",
            "text/plain": [
              "<Figure size 432x288 with 1 Axes>"
            ]
          },
          "metadata": {
            "tags": [],
            "needs_background": "light"
          }
        },
        {
          "output_type": "display_data",
          "data": {
            "image/png": "[encoded data removed]",
            "text/plain": [
              "<Figure size 432x288 with 1 Axes>"
            ]
          },
          "metadata": {
            "tags": [],
            "needs_background": "light"
          }
        },
        {
          "output_type": "display_data",
          "data": {
            "image/png": "[encoded data removed]",
            "text/plain": [
              "<Figure size 432x288 with 1 Axes>"
            ]
          },
          "metadata": {
            "tags": [],
            "needs_background": "light"
          }
        },
        {
          "output_type": "display_data",
          "data": {
            "image/png": "[encoded data removed]",
            "text/plain": [
              "<Figure size 432x288 with 1 Axes>"
            ]
          },
          "metadata": {
            "tags": [],
            "needs_background": "light"
          }
        },
        {
          "output_type": "display_data",
          "data": {
            "image/png": "[encoded data removed]",
            "text/plain": [
              "<Figure size 432x288 with 1 Axes>"
            ]
          },
          "metadata": {
            "tags": [],
            "needs_background": "light"
          }
        }
      ]
    },
    {
      "cell_type": "markdown",
      "metadata": {
        "id": "IdOjzGeSYGhX"
      },
      "source": [
        "## Plot Features to Examine Distributions"
      ]
    },
    {
      "cell_type": "code",
      "metadata": {
        "colab": {
          "base_uri": "https://localhost:8080/",
          "height": 1000
        },
        "id": "jyzYWJOjYGhX",
        "outputId": "3dcee67f-0b4b-4e79-e048-21fe4bf80afd"
      },
      "source": [
        "# plt.figure()\n",
        "for colName in X:\n",
        "  plt.figure()\n",
        "  sns.scatterplot(data=merged, x=colName, y='percentage')"
      ],
      "execution_count": 47,
      "outputs": [
        {
          "output_type": "stream",
          "text": [
            "/usr/local/lib/python3.7/dist-packages/ipykernel_launcher.py:3: RuntimeWarning: More than 20 figures have been opened. Figures created through the pyplot interface (`matplotlib.pyplot.figure`) are retained until explicitly closed and may consume too much memory. (To control this warning, see the rcParam `figure.max_open_warning`).\n",
            "  This is separate from the ipykernel package so we can avoid doing imports until\n",
            "/usr/local/lib/python3.7/dist-packages/ipykernel_launcher.py:3: RuntimeWarning: More than 20 figures have been opened. Figures created through the pyplot interface (`matplotlib.pyplot.figure`) are retained until explicitly closed and may consume too much memory. (To control this warning, see the rcParam `figure.max_open_warning`).\n",
            "  This is separate from the ipykernel package so we can avoid doing imports until\n",
            "/usr/local/lib/python3.7/dist-packages/ipykernel_launcher.py:3: RuntimeWarning: More than 20 figures have been opened. Figures created through the pyplot interface (`matplotlib.pyplot.figure`) are retained until explicitly closed and may consume too much memory. (To control this warning, see the rcParam `figure.max_open_warning`).\n",
            "  This is separate from the ipykernel package so we can avoid doing imports until\n",
            "/usr/local/lib/python3.7/dist-packages/ipykernel_launcher.py:3: RuntimeWarning: More than 20 figures have been opened. Figures created through the pyplot interface (`matplotlib.pyplot.figure`) are retained until explicitly closed and may consume too much memory. (To control this warning, see the rcParam `figure.max_open_warning`).\n",
            "  This is separate from the ipykernel package so we can avoid doing imports until\n"
          ],
          "name": "stderr"
        },
        {
          "output_type": "display_data",
          "data": {
            "image/png": "[encoded data removed]",
            "text/plain": [
              "<Figure size 432x288 with 1 Axes>"
            ]
          },
          "metadata": {
            "tags": [],
            "needs_background": "light"
          }
        },
        {
          "output_type": "display_data",
          "data": {
            "image/png": "[encoded data removed]",
            "text/plain": [
              "<Figure size 432x288 with 1 Axes>"
            ]
          },
          "metadata": {
            "tags": [],
            "needs_background": "light"
          }
        },
        {
          "output_type": "display_data",
          "data": {
            "image/png": "[encoded data removed]",
            "text/plain": [
              "<Figure size 432x288 with 1 Axes>"
            ]
          },
          "metadata": {
            "tags": [],
            "needs_background": "light"
          }
        },
        {
          "output_type": "display_data",
          "data": {
            "image/png": "[encoded data removed]",
            "text/plain": [
              "<Figure size 432x288 with 1 Axes>"
            ]
          },
          "metadata": {
            "tags": [],
            "needs_background": "light"
          }
        },
        {
          "output_type": "display_data",
          "data": {
            "image/png": "[encoded data removed]",
            "text/plain": [
              "<Figure size 432x288 with 1 Axes>"
            ]
          },
          "metadata": {
            "tags": [],
            "needs_background": "light"
          }
        },
        {
          "output_type": "display_data",
          "data": {
            "image/png": "[encoded data removed]",
            "text/plain": [
              "<Figure size 432x288 with 1 Axes>"
            ]
          },
          "metadata": {
            "tags": [],
            "needs_background": "light"
          }
        },
        {
          "output_type": "display_data",
          "data": {
            "image/png": "[encoded data removed]",
            "text/plain": [
              "<Figure size 432x288 with 1 Axes>"
            ]
          },
          "metadata": {
            "tags": [],
            "needs_background": "light"
          }
        },
        {
          "output_type": "display_data",
          "data": {
            "image/png": "[encoded data removed]",
            "text/plain": [
              "<Figure size 432x288 with 1 Axes>"
            ]
          },
          "metadata": {
            "tags": [],
            "needs_background": "light"
          }
        },
        {
          "output_type": "display_data",
          "data": {
            "image/png": "[encoded data removed]",
            "text/plain": [
              "<Figure size 432x288 with 1 Axes>"
            ]
          },
          "metadata": {
            "tags": [],
            "needs_background": "light"
          }
        },
        {
          "output_type": "display_data",
          "data": {
            "image/png": "[encoded data removed]",
            "text/plain": [
              "<Figure size 432x288 with 1 Axes>"
            ]
          },
          "metadata": {
            "tags": [],
            "needs_background": "light"
          }
        },
        {
          "output_type": "display_data",
          "data": {
            "image/png": "[encoded data removed]",
            "text/plain": [
              "<Figure size 432x288 with 1 Axes>"
            ]
          },
          "metadata": {
            "tags": [],
            "needs_background": "light"
          }
        },
        {
          "output_type": "display_data",
          "data": {
            "image/png": "[encoded data removed]",
            "text/plain": [
              "<Figure size 432x288 with 1 Axes>"
            ]
          },
          "metadata": {
            "tags": [],
            "needs_background": "light"
          }
        },
        {
          "output_type": "display_data",
          "data": {
            "image/png": "[encoded data removed]",
            "text/plain": [
              "<Figure size 432x288 with 1 Axes>"
            ]
          },
          "metadata": {
            "tags": [],
            "needs_background": "light"
          }
        },
        {
          "output_type": "display_data",
          "data": {
            "image/png": "[encoded data removed]",
            "text/plain": [
              "<Figure size 432x288 with 1 Axes>"
            ]
          },
          "metadata": {
            "tags": [],
            "needs_background": "light"
          }
        },
        {
          "output_type": "display_data",
          "data": {
            "image/png": "[encoded data removed]",
            "text/plain": [
              "<Figure size 432x288 with 1 Axes>"
            ]
          },
          "metadata": {
            "tags": [],
            "needs_background": "light"
          }
        },
        {
          "output_type": "display_data",
          "data": {
            "image/png": "[encoded data removed]",
            "text/plain": [
              "<Figure size 432x288 with 1 Axes>"
            ]
          },
          "metadata": {
            "tags": [],
            "needs_background": "light"
          }
        },
        {
          "output_type": "display_data",
          "data": {
            "image/png": "[encoded data removed]",
            "text/plain": [
              "<Figure size 432x288 with 1 Axes>"
            ]
          },
          "metadata": {
            "tags": [],
            "needs_background": "light"
          }
        },
        {
          "output_type": "display_data",
          "data": {
            "image/png": "[encoded data removed]",
            "text/plain": [
              "<Figure size 432x288 with 1 Axes>"
            ]
          },
          "metadata": {
            "tags": [],
            "needs_background": "light"
          }
        },
        {
          "output_type": "display_data",
          "data": {
            "image/png": "[encoded data removed]",
            "text/plain": [
              "<Figure size 432x288 with 1 Axes>"
            ]
          },
          "metadata": {
            "tags": [],
            "needs_background": "light"
          }
        },
        {
          "output_type": "display_data",
          "data": {
            "image/png": "[encoded data removed]",
            "text/plain": [
              "<Figure size 432x288 with 1 Axes>"
            ]
          },
          "metadata": {
            "tags": [],
            "needs_background": "light"
          }
        },
        {
          "output_type": "display_data",
          "data": {
            "image/png": "[encoded data removed]",
            "text/plain": [
              "<Figure size 432x288 with 1 Axes>"
            ]
          },
          "metadata": {
            "tags": [],
            "needs_background": "light"
          }
        },
        {
          "output_type": "display_data",
          "data": {
            "image/png": "[encoded data removed]",
            "text/plain": [
              "<Figure size 432x288 with 1 Axes>"
            ]
          },
          "metadata": {
            "tags": [],
            "needs_background": "light"
          }
        },
        {
          "output_type": "display_data",
          "data": {
            "image/png": "[encoded data removed]",
            "text/plain": [
              "<Figure size 432x288 with 1 Axes>"
            ]
          },
          "metadata": {
            "tags": [],
            "needs_background": "light"
          }
        },
        {
          "output_type": "display_data",
          "data": {
            "image/png": "[encoded data removed]",
            "text/plain": [
              "<Figure size 432x288 with 1 Axes>"
            ]
          },
          "metadata": {
            "tags": [],
            "needs_background": "light"
          }
        }
      ]
    },
    {
      "cell_type": "markdown",
      "metadata": {
        "id": "DTPXOrcLYGhY"
      },
      "source": [
        "## Scaling/ Normalization"
      ]
    },
    {
      "cell_type": "code",
      "metadata": {
        "colab": {
          "base_uri": "https://localhost:8080/",
          "height": 224
        },
        "id": "7EHdsO1PYGhY",
        "outputId": "26897766-eaa0-423f-9657-e3ea9082202b"
      },
      "source": [
        "# min_max_scaler = MinMaxScaler((-1, 1))\n",
        "# df[percentages] = min_max_scaler.fit_transform(df[percentages])  # No need, because percentages are already on a good scale\n",
        "ss = StandardScaler()\n",
        "X_scaled = pd.DataFrame(ss.fit_transform(X), columns = X.columns)\n",
        "display(X_scaled.head())\n",
        "\n"
      ],
      "execution_count": 48,
      "outputs": [
        {
          "output_type": "display_data",
          "data": {
            "text/html": [
              "<div>\n",
              "<style scoped>\n",
              "    .dataframe tbody tr th:only-of-type {\n",
              "        vertical-align: middle;\n",
              "    }\n",
              "\n",
              "    .dataframe tbody tr th {\n",
              "        vertical-align: top;\n",
              "    }\n",
              "\n",
              "    .dataframe thead th {\n",
              "        text-align: right;\n",
              "    }\n",
              "</style>\n",
              "<table border=\"1\" class=\"dataframe\">\n",
              "  <thead>\n",
              "    <tr style=\"text-align: right;\">\n",
              "      <th></th>\n",
              "      <th>currentRatio</th>\n",
              "      <th>quickRatio</th>\n",
              "      <th>grossProfitMargin</th>\n",
              "      <th>operatingProfitMargin</th>\n",
              "      <th>returnOnAssets</th>\n",
              "      <th>returnOnEquity</th>\n",
              "      <th>returnOnCapitalEmployed</th>\n",
              "      <th>debtEquityRatio</th>\n",
              "      <th>priceToBookRatio</th>\n",
              "      <th>priceToSalesRatio</th>\n",
              "      <th>priceEarningsRatio</th>\n",
              "      <th>priceEarningsToGrowthRatio</th>\n",
              "      <th>priceToOperatingCashFlowsRatio</th>\n",
              "      <th>growthRevenue</th>\n",
              "      <th>growthCostOfRevenue</th>\n",
              "      <th>growthGrossProfit</th>\n",
              "      <th>growthGrossProfitRatio</th>\n",
              "      <th>growthOperatingExpenses</th>\n",
              "      <th>growthEBITDA</th>\n",
              "      <th>growthOperatingIncome</th>\n",
              "      <th>growthNetIncome</th>\n",
              "      <th>growthEPS</th>\n",
              "      <th>marketCapitalization</th>\n",
              "      <th>enterpriseValue</th>\n",
              "    </tr>\n",
              "  </thead>\n",
              "  <tbody>\n",
              "    <tr>\n",
              "      <th>0</th>\n",
              "      <td>0.0</td>\n",
              "      <td>-0.866895</td>\n",
              "      <td>0.0</td>\n",
              "      <td>0.0</td>\n",
              "      <td>0.791608</td>\n",
              "      <td>0.982816</td>\n",
              "      <td>0.0</td>\n",
              "      <td>0.789236</td>\n",
              "      <td>1.518877</td>\n",
              "      <td>0.558555</td>\n",
              "      <td>-0.100820</td>\n",
              "      <td>-0.161902</td>\n",
              "      <td>-0.214884</td>\n",
              "      <td>-0.089104</td>\n",
              "      <td>0.0</td>\n",
              "      <td>0.0</td>\n",
              "      <td>0.0</td>\n",
              "      <td>0.919469</td>\n",
              "      <td>0.0</td>\n",
              "      <td>0.0</td>\n",
              "      <td>-0.242602</td>\n",
              "      <td>-0.245719</td>\n",
              "      <td>0.748541</td>\n",
              "      <td>0.586508</td>\n",
              "    </tr>\n",
              "    <tr>\n",
              "      <th>1</th>\n",
              "      <td>0.0</td>\n",
              "      <td>0.058276</td>\n",
              "      <td>0.0</td>\n",
              "      <td>0.0</td>\n",
              "      <td>-0.906250</td>\n",
              "      <td>-0.824963</td>\n",
              "      <td>0.0</td>\n",
              "      <td>-0.005779</td>\n",
              "      <td>-1.133616</td>\n",
              "      <td>-1.004544</td>\n",
              "      <td>-0.203921</td>\n",
              "      <td>-0.170054</td>\n",
              "      <td>-0.993894</td>\n",
              "      <td>0.167957</td>\n",
              "      <td>0.0</td>\n",
              "      <td>0.0</td>\n",
              "      <td>0.0</td>\n",
              "      <td>-0.024741</td>\n",
              "      <td>0.0</td>\n",
              "      <td>0.0</td>\n",
              "      <td>-0.211502</td>\n",
              "      <td>-0.222276</td>\n",
              "      <td>-1.213938</td>\n",
              "      <td>-0.112754</td>\n",
              "    </tr>\n",
              "    <tr>\n",
              "      <th>2</th>\n",
              "      <td>0.0</td>\n",
              "      <td>-0.498638</td>\n",
              "      <td>0.0</td>\n",
              "      <td>0.0</td>\n",
              "      <td>0.985188</td>\n",
              "      <td>0.571570</td>\n",
              "      <td>0.0</td>\n",
              "      <td>-0.785171</td>\n",
              "      <td>0.944836</td>\n",
              "      <td>0.747183</td>\n",
              "      <td>-0.110232</td>\n",
              "      <td>-0.061367</td>\n",
              "      <td>-0.376754</td>\n",
              "      <td>-0.333847</td>\n",
              "      <td>0.0</td>\n",
              "      <td>0.0</td>\n",
              "      <td>0.0</td>\n",
              "      <td>-0.024741</td>\n",
              "      <td>0.0</td>\n",
              "      <td>0.0</td>\n",
              "      <td>-0.117450</td>\n",
              "      <td>-0.084771</td>\n",
              "      <td>0.372932</td>\n",
              "      <td>0.159111</td>\n",
              "    </tr>\n",
              "    <tr>\n",
              "      <th>3</th>\n",
              "      <td>0.0</td>\n",
              "      <td>-0.909344</td>\n",
              "      <td>0.0</td>\n",
              "      <td>0.0</td>\n",
              "      <td>1.403080</td>\n",
              "      <td>1.159690</td>\n",
              "      <td>0.0</td>\n",
              "      <td>-0.203242</td>\n",
              "      <td>1.521603</td>\n",
              "      <td>0.818756</td>\n",
              "      <td>-0.131036</td>\n",
              "      <td>-0.361870</td>\n",
              "      <td>1.066724</td>\n",
              "      <td>0.053438</td>\n",
              "      <td>0.0</td>\n",
              "      <td>0.0</td>\n",
              "      <td>0.0</td>\n",
              "      <td>-0.024741</td>\n",
              "      <td>0.0</td>\n",
              "      <td>0.0</td>\n",
              "      <td>-0.168073</td>\n",
              "      <td>-0.175133</td>\n",
              "      <td>0.800604</td>\n",
              "      <td>0.771549</td>\n",
              "    </tr>\n",
              "    <tr>\n",
              "      <th>4</th>\n",
              "      <td>0.0</td>\n",
              "      <td>0.010840</td>\n",
              "      <td>0.0</td>\n",
              "      <td>0.0</td>\n",
              "      <td>-0.628389</td>\n",
              "      <td>-0.532958</td>\n",
              "      <td>0.0</td>\n",
              "      <td>0.177569</td>\n",
              "      <td>-1.005927</td>\n",
              "      <td>-0.970881</td>\n",
              "      <td>-0.247407</td>\n",
              "      <td>0.037447</td>\n",
              "      <td>0.131558</td>\n",
              "      <td>-0.189992</td>\n",
              "      <td>0.0</td>\n",
              "      <td>0.0</td>\n",
              "      <td>0.0</td>\n",
              "      <td>-0.024741</td>\n",
              "      <td>0.0</td>\n",
              "      <td>0.0</td>\n",
              "      <td>-0.131388</td>\n",
              "      <td>-0.138314</td>\n",
              "      <td>-1.016953</td>\n",
              "      <td>-0.722599</td>\n",
              "    </tr>\n",
              "  </tbody>\n",
              "</table>\n",
              "</div>"
            ],
            "text/plain": [
              "   currentRatio  quickRatio  ...  marketCapitalization  enterpriseValue\n",
              "0           0.0   -0.866895  ...              0.748541         0.586508\n",
              "1           0.0    0.058276  ...             -1.213938        -0.112754\n",
              "2           0.0   -0.498638  ...              0.372932         0.159111\n",
              "3           0.0   -0.909344  ...              0.800604         0.771549\n",
              "4           0.0    0.010840  ...             -1.016953        -0.722599\n",
              "\n",
              "[5 rows x 24 columns]"
            ]
          },
          "metadata": {
            "tags": []
          }
        }
      ]
    },
    {
      "cell_type": "markdown",
      "metadata": {
        "id": "DYprjeZuYGhY"
      },
      "source": [
        "## Reduce Dimensionality with PCA"
      ]
    },
    {
      "cell_type": "code",
      "metadata": {
        "colab": {
          "base_uri": "https://localhost:8080/",
          "height": 136
        },
        "id": "IRQjyqKAYGhZ",
        "outputId": "367fc227-cc8a-4448-e90f-6d7065cd40a8"
      },
      "source": [
        "pca = PCA(n_components='mle')\n",
        "X_pc = pca.fit_transform(X_scaled)\n",
        "# print(pca.components_)\n",
        "# print(pca.explained_variance_)\n",
        "display(X_pc.shape)"
      ],
      "execution_count": 49,
      "outputs": [
        {
          "output_type": "stream",
          "text": [
            "/usr/local/lib/python3.7/dist-packages/sklearn/decomposition/_pca.py:74: RuntimeWarning: divide by zero encountered in log\n",
            "  pv = -np.log(v) * n_samples * (n_features - rank) / 2.\n",
            "/usr/local/lib/python3.7/dist-packages/sklearn/decomposition/_pca.py:85: RuntimeWarning: divide by zero encountered in double_scalars\n",
            "  (1. / spectrum_[j] - 1. / spectrum_[i])) + log(n_samples)\n",
            "/usr/local/lib/python3.7/dist-packages/sklearn/decomposition/_pca.py:87: RuntimeWarning: invalid value encountered in double_scalars\n",
            "  ll = pu + pl + pv + pp - pa / 2. - rank * log(n_samples) / 2.\n"
          ],
          "name": "stderr"
        },
        {
          "output_type": "display_data",
          "data": {
            "text/plain": [
              "(41, 23)"
            ]
          },
          "metadata": {
            "tags": []
          }
        }
      ]
    },
    {
      "cell_type": "markdown",
      "metadata": {
        "id": "B0CUv69BYGhZ"
      },
      "source": [
        "## Examine Distribution on 1st Principle Component"
      ]
    },
    {
      "cell_type": "code",
      "metadata": {
        "colab": {
          "base_uri": "https://localhost:8080/"
        },
        "id": "71ja4IO7YGhZ",
        "outputId": "3b7a81f9-ddc1-483d-bec0-9b17af282ccf"
      },
      "source": [
        "# plt.scatter(X_pc[:,0], Y)\n",
        "print(X_pc[:,0].shape)\n",
        "print(Y.shape)\n",
        "print(Y)"
      ],
      "execution_count": 27,
      "outputs": [
        {
          "output_type": "stream",
          "text": [
            "(41,)\n",
            "(41, 1)\n",
            "    percentage\n",
            "0    -0.116738\n",
            "1     0.383013\n",
            "4     0.202370\n",
            "6     0.041693\n",
            "7     0.110787\n",
            "8     0.205959\n",
            "10    0.504221\n",
            "11    0.041842\n",
            "12    0.407087\n",
            "13   -0.381228\n",
            "14   -0.101562\n",
            "15    0.063849\n",
            "16    0.143802\n",
            "17    0.388615\n",
            "18    0.173812\n",
            "19    0.031794\n",
            "20    0.178571\n",
            "21   -0.058824\n",
            "22    0.177861\n",
            "23    0.364103\n",
            "24    0.081367\n",
            "25   -0.123360\n",
            "26   -0.222825\n",
            "27    0.206210\n",
            "28    0.060529\n",
            "30    0.009899\n",
            "31   -0.189670\n",
            "34   -0.250418\n",
            "35   -0.233333\n",
            "36    0.003187\n",
            "37    0.037838\n",
            "39   -0.334544\n",
            "40   -0.022660\n",
            "41   -0.015152\n",
            "42    0.342565\n",
            "43    0.122291\n",
            "44    0.224719\n",
            "46   -0.054167\n",
            "47    0.115504\n",
            "48    0.362947\n",
            "49   -0.026946\n"
          ],
          "name": "stdout"
        }
      ]
    },
    {
      "cell_type": "markdown",
      "metadata": {
        "id": "N1ao0W_CYGhZ"
      },
      "source": [
        "## Transform Data to Polynomial Features, Train Models, and Plot Error"
      ]
    },
    {
      "cell_type": "code",
      "metadata": {
        "colab": {
          "base_uri": "https://localhost:8080/"
        },
        "id": "hSGEVVd6YGha",
        "outputId": "79af7e18-f85e-45e7-9722-765e4cc4c0f0"
      },
      "source": [
        "from sklearn.preprocessing import PolynomialFeatures\n",
        "from sklearn.model_selection import train_test_split\n",
        "from sklearn.metrics import mean_squared_error\n",
        "from sklearn.linear_model import LinearRegression\n",
        "\n",
        "def trainAndGetResults(X, baseline=False):\n",
        "    results = {'clf': [] , 'x': [], 'X_train': [], 'Y_pred': [], 'Y_test': [], 'mse': [], 'rmse': []}\n",
        "    for i in range(1, 5):\n",
        "        if not baseline:\n",
        "            print(\"X Shape = \")\n",
        "            print(X.shape)\n",
        "            poly = PolynomialFeatures(degree=i)\n",
        "            poly_features = poly.fit_transform(X)\n",
        "            X_train, X_test, Y_train, Y_test = train_test_split(poly_features, Y, test_size=0.33, random_state=42)\n",
        "\n",
        "            clf = LinearRegression()\n",
        "            print(\"Poly Shape = \")\n",
        "            print(poly_features.shape)\n",
        "            clf.fit(X_train, Y_train)\n",
        "            Y_pred = clf.predict(X_test)\n",
        "            results['clf'].append(clf)\n",
        "            results['X_train'].append(X_train)\n",
        "            results['Y_pred'].append(Y_pred)\n",
        "            results['Y_test'].append(Y_test)\n",
        "\n",
        "            mse = mean_squared_error(Y_test, Y_pred)\n",
        "            rmse = mean_squared_error(Y_test, Y_pred, squared=False)\n",
        "        else:\n",
        "            mse = mean_squared_error(Y, Y_baseline)\n",
        "            rmse = mean_squared_error(Y, Y_baseline, squared=False)\n",
        "\n",
        "        results['x'].append(i)\n",
        "        results['mse'].append(mse)\n",
        "        results['rmse'].append(rmse)\n",
        "    return results\n",
        "\n",
        "trueBaseResults = trainAndGetResults(X)\n",
        "baselineBaseResults = trainAndGetResults(X, baseline=True)\n",
        "truePcResults = trainAndGetResults(X_pc)\n",
        "baselinePcResults = trainAndGetResults(X_pc, baseline=True)"
      ],
      "execution_count": 28,
      "outputs": [
        {
          "output_type": "stream",
          "text": [
            "X Shape = \n",
            "(41, 24)\n",
            "Poly Shape = \n",
            "(41, 25)\n",
            "X Shape = \n",
            "(41, 24)\n",
            "Poly Shape = \n",
            "(41, 325)\n",
            "X Shape = \n",
            "(41, 24)\n",
            "Poly Shape = \n",
            "(41, 2925)\n",
            "X Shape = \n",
            "(41, 24)\n",
            "Poly Shape = \n",
            "(41, 20475)\n",
            "X Shape = \n",
            "(41, 23)\n",
            "Poly Shape = \n",
            "(41, 24)\n",
            "X Shape = \n",
            "(41, 23)\n",
            "Poly Shape = \n",
            "(41, 300)\n",
            "X Shape = \n",
            "(41, 23)\n",
            "Poly Shape = \n",
            "(41, 2600)\n",
            "X Shape = \n",
            "(41, 23)\n",
            "Poly Shape = \n",
            "(41, 17550)\n"
          ],
          "name": "stdout"
        }
      ]
    },
    {
      "cell_type": "code",
      "metadata": {
        "colab": {
          "base_uri": "https://localhost:8080/",
          "height": 1000
        },
        "id": "8J8NfZKUYGha",
        "outputId": "ff046d76-f913-4c32-cc0c-5caeb8150f26"
      },
      "source": [
        "def plotResults(results, title):\n",
        "    plt.title(title)\n",
        "    plt.plot(results['x'], results['mse'], label = \"MSE\")\n",
        "    plt.plot(results['x'], results['rmse'], label = \"RMSE\")\n",
        "    plt.legend()\n",
        "    plt.show()\n",
        "    print(\"MSEs: {}\".format(results['mse']))\n",
        "    print(\"RMSEs: {}\".format(results['rmse']))\n",
        "    print()\n",
        "    for x, clf in zip(results['x'], results['clf']):\n",
        "        coef = clf.coef_.ravel()\n",
        "        max_3_idx = coef.argsort()[-3:][::-1]\n",
        "        print(\"{}'s top 3 weights were {}\".format(x, coef[max_3_idx]))\n",
        "        print(\"at {}\".format(max_3_idx))\n",
        "\n",
        "plotResults(trueBaseResults, \"Model Results w/o PCA\")\n",
        "plotResults(baselineBaseResults, \"Baseline Results w/o PCA\")\n",
        "plotResults(truePcResults, \"Model Results w/ PCA\")\n",
        "plotResults(baselinePcResults,\"Baseline Results w/ PCA\")\n"
      ],
      "execution_count": 29,
      "outputs": [
        {
          "output_type": "display_data",
          "data": {
            "image/png": "[encoded data removed]",
            "text/plain": [
              "<Figure size 432x288 with 1 Axes>"
            ]
          },
          "metadata": {
            "tags": [],
            "needs_background": "light"
          }
        },
        {
          "output_type": "stream",
          "text": [
            "MSEs: [0.059250484442984426, 11.160632698964557, 11.013856027020841, 0.3628189178522166]\n",
            "RMSEs: [0.24341422399478718, 3.3407533130963976, 3.3187130076312474, 0.6023445175746324]\n",
            "\n",
            "1's top 3 weights were [31.82087374  1.54674715  0.26399874]\n",
            "at [ 6 14 21]\n",
            "2's top 3 weights were [6.24830329e-08 5.96023390e-08 5.34293753e-08]\n",
            "at [302 269  71]\n",
            "3's top 3 weights were [1.70286968e-18 1.33476845e-18 7.46273658e-19]\n",
            "at [2107 2468 2242]\n",
            "4's top 3 weights were [2.10385530e-28 2.08670870e-28 1.94865492e-28]\n",
            "at [16596  7824 19759]\n"
          ],
          "name": "stdout"
        },
        {
          "output_type": "display_data",
          "data": {
            "image/png": "[encoded data removed]",
            "text/plain": [
              "<Figure size 432x288 with 1 Axes>"
            ]
          },
          "metadata": {
            "tags": [],
            "needs_background": "light"
          }
        },
        {
          "output_type": "stream",
          "text": [
            "MSEs: [0.04300403632909847, 0.04300403632909847, 0.04300403632909847, 0.04300403632909847]\n",
            "RMSEs: [0.20737414575857444, 0.20737414575857444, 0.20737414575857444, 0.20737414575857444]\n",
            "\n"
          ],
          "name": "stdout"
        },
        {
          "output_type": "display_data",
          "data": {
            "image/png": "[encoded data removed]",
            "text/plain": [
              "<Figure size 432x288 with 1 Axes>"
            ]
          },
          "metadata": {
            "tags": [],
            "needs_background": "light"
          }
        },
        {
          "output_type": "stream",
          "text": [
            "MSEs: [0.05925048429304658, 0.2003328889756535, 0.08847119828616049, 0.26232232893192975]\n",
            "RMSEs: [0.2434142236867981, 0.4475856219492015, 0.29744108372274414, 0.5121741197404743]\n",
            "\n",
            "1's top 3 weights were [0.06172157 0.03302761 0.02221648]\n",
            "at [4 8 3]\n",
            "2's top 3 weights were [0.08057852 0.07229199 0.06638846]\n",
            "at [164 166 112]\n",
            "3's top 3 weights were [0.02769956 0.0219812  0.01849315]\n",
            "at [442 164 440]\n",
            "4's top 3 weights were [0.01425646 0.01175804 0.01075584]\n",
            "at [2742 2740 2602]\n"
          ],
          "name": "stdout"
        },
        {
          "output_type": "display_data",
          "data": {
            "image/png": "[encoded data removed]",
            "text/plain": [
              "<Figure size 432x288 with 1 Axes>"
            ]
          },
          "metadata": {
            "tags": [],
            "needs_background": "light"
          }
        },
        {
          "output_type": "stream",
          "text": [
            "MSEs: [0.04300403632909847, 0.04300403632909847, 0.04300403632909847, 0.04300403632909847]\n",
            "RMSEs: [0.20737414575857444, 0.20737414575857444, 0.20737414575857444, 0.20737414575857444]\n",
            "\n"
          ],
          "name": "stdout"
        }
      ]
    },
    {
      "cell_type": "markdown",
      "metadata": {
        "id": "WhWAlLBQYGhb"
      },
      "source": [
        "## Train Neural Net Model"
      ]
    },
    {
      "cell_type": "code",
      "metadata": {
        "id": "asw9k14IYGhb",
        "colab": {
          "base_uri": "https://localhost:8080/"
        },
        "outputId": "3e533c64-42d2-4c68-841e-abf8a98d8337"
      },
      "source": [
        "from sklearn.neural_network import MLPRegressor\n",
        "from sklearn.datasets import make_regression\n",
        "\n",
        "def trainAndGetResultsNN(X, baseline=False):\n",
        "    results = {'clf': [] , 'x': [], 'X_train': [], 'Y_pred': [], 'Y_test': [], 'mse': [], 'rmse': []}\n",
        "    for i in range(1, 2):\n",
        "        if not baseline:\n",
        "            print(\"X Shape = \")\n",
        "            print(X.shape)\n",
        "            \n",
        "            # poly_features = X\n",
        "            poly = PolynomialFeatures(degree=1)\n",
        "            poly_features = poly.fit_transform(X)\n",
        "            \n",
        "            X_train, X_test, Y_train, Y_test = train_test_split(poly_features, Y, test_size=0.33, random_state=42)\n",
        "\n",
        "            learning_rate_init = 0.001 / (1 * 30.0) # 30 yields best results\n",
        "            epsilon = 1 * 10 ** -(2) # 1e-2 yields best results\n",
        "            # epsilon = 1e-8\n",
        "            clf = MLPRegressor(random_state=1, max_iter=50000, learning_rate_init=learning_rate_init, epsilon=epsilon)\n",
        "            clf.fit(X_train, Y_train.values.ravel()) # Y_train.values.ravel()\n",
        "            Y_pred = clf.predict(X_test)\n",
        "            \n",
        "    \n",
        "            results['clf'].append(clf)\n",
        "            results['X_train'].append(X_train)\n",
        "            results['Y_pred'].append(Y_pred)\n",
        "            results['Y_test'].append(Y_test)\n",
        "\n",
        "            mse = mean_squared_error(Y_test, Y_pred)\n",
        "            rmse = mean_squared_error(Y_test, Y_pred, squared=False)\n",
        "        else:\n",
        "            mse = mean_squared_error(Y, Y_baseline)\n",
        "            rmse = mean_squared_error(Y, Y_baseline, squared=False)\n",
        "\n",
        "        results['x'].append(i)\n",
        "        results['mse'].append(mse)\n",
        "        results['rmse'].append(rmse)\n",
        "    return results\n",
        "\n",
        "trueBaseResultsNN = trainAndGetResultsNN(X)\n",
        "baselineBaseResultsNN = trainAndGetResultsNN(X, baseline=True)\n",
        "truePcResultsNN = trainAndGetResultsNN(X_pc)\n",
        "baselinePcResultsNN = trainAndGetResultsNN(X_pc, baseline=True)"
      ],
      "execution_count": 30,
      "outputs": [
        {
          "output_type": "stream",
          "text": [
            "X Shape = \n",
            "(41, 24)\n",
            "X Shape = \n",
            "(41, 23)\n"
          ],
          "name": "stdout"
        }
      ]
    },
    {
      "cell_type": "markdown",
      "metadata": {
        "id": "7P1jLIAbYGhc"
      },
      "source": [
        "## Plot Neural Net Model"
      ]
    },
    {
      "cell_type": "code",
      "metadata": {
        "id": "A-7lG-FAYGhc",
        "colab": {
          "base_uri": "https://localhost:8080/",
          "height": 1000
        },
        "outputId": "ab4121af-f815-4fc4-f546-c9a4fa50b259"
      },
      "source": [
        "def plotResultsNN(results, title):\n",
        "    plt.title(title)\n",
        "    plt.plot(results['x'], results['mse'], label = \"MSE\")\n",
        "    plt.plot(results['x'], results['rmse'], label = \"RMSE\")\n",
        "    plt.legend()\n",
        "    plt.show()\n",
        "    print(\"MSEs: {}\".format(results['mse']))\n",
        "    print(\"RMSEs: {}\".format(results['rmse']))\n",
        "    print()\n",
        "    \"\"\"for x, clf in zip(results['x'], results['clf']):\n",
        "        coef = clf.coef_.ravel()\n",
        "        max_3_idx = coef.argsort()[-3:][::-1]\n",
        "        print(\"{}'s top 3 weights were {}\".format(x, coef[max_3_idx]))\n",
        "        print(\"at {}\".format(max_3_idx))\"\"\"\n",
        "\n",
        "plotResultsNN(trueBaseResultsNN, \"NN Model Results w/o PCA\")\n",
        "plotResultsNN(baselineBaseResultsNN, \"Baseline Results w/o PCA\")\n",
        "plotResultsNN(truePcResultsNN, \"NN Model Results w/ PCA\")\n",
        "plotResultsNN(baselinePcResultsNN,\"Baseline Results w/ PCA\")"
      ],
      "execution_count": 31,
      "outputs": [
        {
          "output_type": "display_data",
          "data": {
            "image/png": "[encoded data removed]",
            "text/plain": [
              "<Figure size 432x288 with 1 Axes>"
            ]
          },
          "metadata": {
            "tags": [],
            "needs_background": "light"
          }
        },
        {
          "output_type": "stream",
          "text": [
            "MSEs: [7380545439.7706995]\n",
            "RMSEs: [85910.10091817318]\n",
            "\n"
          ],
          "name": "stdout"
        },
        {
          "output_type": "display_data",
          "data": {
            "image/png": "[encoded data removed]",
            "text/plain": [
              "<Figure size 432x288 with 1 Axes>"
            ]
          },
          "metadata": {
            "tags": [],
            "needs_background": "light"
          }
        },
        {
          "output_type": "stream",
          "text": [
            "MSEs: [0.04300403632909847]\n",
            "RMSEs: [0.20737414575857444]\n",
            "\n"
          ],
          "name": "stdout"
        },
        {
          "output_type": "display_data",
          "data": {
            "image/png": "[encoded data removed]",
            "text/plain": [
              "<Figure size 432x288 with 1 Axes>"
            ]
          },
          "metadata": {
            "tags": [],
            "needs_background": "light"
          }
        },
        {
          "output_type": "stream",
          "text": [
            "MSEs: [0.2509730198793584]\n",
            "RMSEs: [0.5009720749496507]\n",
            "\n"
          ],
          "name": "stdout"
        },
        {
          "output_type": "display_data",
          "data": {
            "image/png": "[encoded data removed]",
            "text/plain": [
              "<Figure size 432x288 with 1 Axes>"
            ]
          },
          "metadata": {
            "tags": [],
            "needs_background": "light"
          }
        },
        {
          "output_type": "stream",
          "text": [
            "MSEs: [0.04300403632909847]\n",
            "RMSEs: [0.20737414575857444]\n",
            "\n"
          ],
          "name": "stdout"
        }
      ]
    },
    {
      "cell_type": "markdown",
      "metadata": {
        "id": "yud0QEepYGhd"
      },
      "source": [
        "## Real-World Results"
      ]
    },
    {
      "cell_type": "code",
      "metadata": {
        "id": "ji6tlfv-YGhd",
        "colab": {
          "base_uri": "https://localhost:8080/"
        },
        "outputId": "9b590756-d06c-4b24-92e8-df33f38b51a3"
      },
      "source": [
        "# Collect data from 10 different stocks\n",
        "final_tickers = ['AAPL', 'MSFT', 'AMZN', 'FB', 'GOOGL', 'TSLA', 'JPM', 'JNJ']\n",
        "final_pca = PCA(n_components=21)\n",
        "final_poly = PolynomialFeatures(degree=1)\n",
        "\n",
        "spy_X = api.getSamplesFromTickers(final_tickers, samplesPerTicker=50, maxTickers=10)\n",
        "spy_Y = api.getYFromDF(spy_X)"
      ],
      "execution_count": 32,
      "outputs": [
        {
          "output_type": "stream",
          "text": [
            "Making API call request...\n",
            "Request result: \n",
            "<Response [200]>\n",
            "Making API call request...\n",
            "Request result: \n",
            "<Response [200]>\n",
            "Making API call request...\n",
            "Request result: \n",
            "<Response [200]>\n",
            "Making API call request...\n",
            "Request result: \n",
            "<Response [200]>\n",
            "Making API call request...\n",
            "Request result: \n",
            "<Response [200]>\n",
            "Making API call request...\n",
            "Request result: \n",
            "<Response [200]>\n",
            "Making API call request...\n",
            "Request result: \n",
            "<Response [200]>\n",
            "Making API call request...\n",
            "Request result: \n",
            "<Response [200]>\n",
            "Making API call request...\n",
            "Request result: \n",
            "<Response [200]>\n",
            "Making API call request...\n",
            "Request result: \n",
            "<Response [200]>\n",
            "Making API call request...\n",
            "Request result: \n",
            "<Response [200]>\n",
            "Making API call request...\n",
            "Request result: \n",
            "<Response [200]>\n",
            "Making API call request...\n",
            "Request result: \n",
            "<Response [200]>\n",
            "Making API call request...\n",
            "Request result: \n",
            "<Response [200]>\n",
            "Making API call request...\n",
            "Request result: \n",
            "<Response [200]>\n",
            "Making API call request...\n",
            "Request result: \n",
            "<Response [200]>\n",
            "Making API call request...\n",
            "Request result: \n",
            "<Response [200]>\n",
            "Making API call request...\n",
            "Request result: \n",
            "<Response [200]>\n",
            "Making API call request...\n",
            "Request result: \n",
            "<Response [200]>\n",
            "Making API call request...\n",
            "Request result: \n",
            "<Response [200]>\n",
            "Making API call request...\n",
            "Request result: \n",
            "<Response [200]>\n",
            "Making API call request...\n",
            "Request result: \n",
            "<Response [200]>\n",
            "Making API call request...\n",
            "Request result: \n",
            "<Response [200]>\n",
            "Making API call request...\n",
            "Request result: \n",
            "<Response [200]>\n",
            "Making API call request...\n",
            "Date 2012-09-29 not found for AAPL\n",
            "Date 2007-03-31 not found for AAPL\n",
            "Date 2009-06-27 not found for AAPL\n",
            "Date 2010-06-26 not found for AAPL\n",
            "Date 2019-09-28 not found for AAPL\n",
            "Date 2004-12-25 not found for AAPL\n",
            "Date 1997-03-28 not found for AAPL\n",
            "Date 2008-12-27 not found for AAPL\n",
            "Date 2018-12-29 not found for AAPL\n",
            "Date 2005-12-31 not found for AAPL\n",
            "Date 2006-09-30 not found for AAPL\n",
            "Date 1999-06-26 not found for AAPL\n",
            "Date 1997-06-27 not found for AAPL\n",
            "Date 2013-09-28 not found for AAPL\n",
            "Date 2013-03-30 not found for AAPL\n",
            "Date 2000-09-30 not found for AAPL\n",
            "Date 2014-09-27 not found for AAPL\n",
            "Date 2016-12-31 not found for AAPL\n",
            "Date 2000-12-30 not found for AAPL\n",
            "Date 2002-09-28 not found for AAPL\n",
            "Date 2005-06-25 not found for AAPL\n",
            "Date 2009-12-26 not found for AAPL\n",
            "Date 1995-06-30 not found for AAPL\n",
            "Date 2015-03-28 not found for AAPL\n",
            "Date 2016-06-25 not found for AAPL\n",
            "Date 2012-03-31 not found for AAPL\n",
            "Date 2017-07-01 not found for AAPL\n",
            "Date 2003-06-28 not found for AAPL\n",
            "Date 2017-12-30 not found for AAPL\n",
            "Date 1996-06-28 not found for AAPL\n",
            "Date 2003-09-27 not found for AAPL\n",
            "Date 1996-09-27 not found for AAPL\n",
            "Date 2010-03-27 not found for AAPL\n",
            "Date 2015-09-26 not found for AAPL\n",
            "Date 1999-03-27 not found for AAPL\n",
            "Date 2004-09-25 not found for AAPL\n",
            "Date 2005-09-24 not found for AAPL\n",
            "Date 1996-12-27 not found for AAPL\n",
            "Date 2003-03-29 not found for AAPL\n",
            "Date 1998-09-25 not found for AAPL\n",
            "Date 2011-06-25 not found for AAPL\n",
            "Date 2011-03-26 not found for AAPL\n",
            "Date 2007-09-29 not found for AAPL\n",
            "Date 2000-01-01 not found for AAPL\n",
            "Date 2018-09-29 not found for AAPL\n",
            "Date 2009-09-26 not found for AAPL\n",
            "Date 2019-06-29 not found for AAPL\n",
            "Making API call request...\n",
            "Date 2019-06-30 not found for AMZN\n",
            "Date 2007-06-30 not found for AMZN\n",
            "Date 2015-12-31 not found for AMZN\n",
            "Date 1999-09-30 not found for AMZN\n",
            "Date 2018-03-31 not found for AMZN\n",
            "Date 2018-06-30 not found for AMZN\n",
            "Date 2013-06-30 not found for AMZN\n",
            "Date 2017-09-30 not found for AMZN\n",
            "Date 2017-06-30 not found for AMZN\n",
            "Date 2005-09-30 not found for AMZN\n",
            "Date 2013-03-31 not found for AMZN\n",
            "Date 2004-12-31 not found for AMZN\n",
            "Date 2006-12-31 not found for AMZN\n",
            "Date 2016-12-31 not found for AMZN\n",
            "Date 2006-06-30 not found for AMZN\n",
            "Date 2011-06-30 not found for AMZN\n",
            "Date 2012-09-30 not found for AMZN\n",
            "Date 2001-03-31 not found for AMZN\n",
            "Date 2016-09-30 not found for AMZN\n",
            "Date 2005-12-31 not found for AMZN\n",
            "Date 2001-09-30 not found for AMZN\n",
            "Date 2011-03-31 not found for AMZN\n",
            "Date 2007-03-31 not found for AMZN\n",
            "Date 2000-03-31 not found for AMZN\n",
            "Making API call request...\n",
            "Date 2019-03-31 not found for GOOGL\n",
            "Date 2018-03-31 not found for GOOGL\n",
            "Date 2006-12-31 not found for GOOGL\n",
            "Date 2007-03-31 not found for GOOGL\n",
            "Date 2017-12-31 not found for GOOGL\n",
            "Date 2006-06-30 not found for GOOGL\n",
            "Date 2011-03-31 not found for GOOGL\n",
            "Date 2019-06-30 not found for GOOGL\n",
            "Date 2017-06-30 not found for GOOGL\n",
            "Date 2007-06-30 not found for GOOGL\n",
            "Date 2017-09-30 not found for GOOGL\n",
            "Date 2007-09-30 not found for GOOGL\n",
            "Date 2012-09-30 not found for GOOGL\n",
            "Date 2005-09-30 not found for GOOGL\n",
            "Date 2005-12-31 not found for GOOGL\n",
            "Date 2018-06-30 not found for GOOGL\n",
            "Date 2011-12-31 not found for GOOGL\n",
            "Date 2012-03-31 not found for GOOGL\n",
            "Date 2004-12-31 not found for GOOGL\n",
            "Date 2010-12-31 not found for GOOGL\n",
            "Date 2006-03-31 not found for GOOGL\n",
            "Date 2013-06-30 not found for GOOGL\n",
            "Date 2006-09-30 not found for GOOGL\n",
            "Date 2018-09-30 not found for GOOGL\n",
            "Date 2011-09-30 not found for GOOGL\n",
            "Date 2015-12-31 not found for GOOGL\n",
            "Making API call request...\n",
            "Date 1994-04-03 not found for JNJ\n",
            "Date 2003-06-29 not found for JNJ\n",
            "Date 2007-09-30 not found for JNJ\n",
            "Date 1996-06-30 not found for JNJ\n",
            "Date 1996-03-31 not found for JNJ\n",
            "Date 2017-12-31 not found for JNJ\n",
            "Date 1998-06-28 not found for JNJ\n",
            "Date 2006-04-02 not found for JNJ\n",
            "Date 2014-12-28 not found for JNJ\n",
            "Date 2017-04-02 not found for JNJ\n",
            "Date 1997-06-29 not found for JNJ\n",
            "Date 2017-01-01 not found for JNJ\n",
            "Date 2012-12-30 not found for JNJ\n",
            "Date 2009-09-27 not found for JNJ\n",
            "Date 2016-01-03 not found for JNJ\n",
            "Date 2001-07-01 not found for JNJ\n",
            "Date 2015-06-28 not found for JNJ\n",
            "Date 2014-09-28 not found for JNJ\n",
            "Date 2008-12-28 not found for JNJ\n",
            "Date 2018-04-01 not found for JNJ\n",
            "Date 1997-12-28 not found for JNJ\n",
            "Date 2009-03-29 not found for JNJ\n",
            "Date 2011-10-02 not found for JNJ\n",
            "Date 1994-07-03 not found for JNJ\n",
            "Date 2001-09-30 not found for JNJ\n",
            "Date 2010-04-04 not found for JNJ\n",
            "Date 2005-07-03 not found for JNJ\n",
            "Date 2011-07-03 not found for JNJ\n",
            "Date 2000-04-02 not found for JNJ\n",
            "Date 2014-03-30 not found for JNJ\n",
            "Date 2004-06-27 not found for JNJ\n",
            "Date 2004-03-28 not found for JNJ\n",
            "Date 2004-09-26 not found for JNJ\n",
            "Date 2014-06-29 not found for JNJ\n",
            "Date 2017-10-01 not found for JNJ\n",
            "Date 2017-07-02 not found for JNJ\n",
            "Date 2015-09-27 not found for JNJ\n",
            "Date 2006-01-01 not found for JNJ\n",
            "Date 1994-10-02 not found for JNJ\n",
            "Date 2008-09-28 not found for JNJ\n",
            "Date 2012-09-30 not found for JNJ\n",
            "Date 1995-04-02 not found for JNJ\n",
            "Date 2000-07-02 not found for JNJ\n",
            "Date 2006-12-31 not found for JNJ\n",
            "Date 2000-12-31 not found for JNJ\n",
            "Date 2011-01-02 not found for JNJ\n",
            "Date 2003-09-28 not found for JNJ\n",
            "Date 2019-03-31 not found for JNJ\n",
            "Date 2019-09-29 not found for JNJ\n",
            "Making API call request...\n",
            "Date 2017-12-31 not found for JPM\n",
            "Date 1996-03-31 not found for JPM\n",
            "Date 2018-06-30 not found for JPM\n",
            "Date 2012-06-30 not found for JPM\n",
            "Date 1999-09-30 not found for JPM\n",
            "Date 1995-06-30 not found for JPM\n",
            "Date 2007-09-30 not found for JPM\n",
            "Date 2013-03-31 not found for JPM\n",
            "Date 2012-03-31 not found for JPM\n",
            "Date 2013-06-30 not found for JPM\n",
            "Date 2010-12-31 not found for JPM\n",
            "Date 2019-03-31 not found for JPM\n",
            "Date 2011-12-31 not found for JPM\n",
            "Date 1994-09-30 not found for JPM\n",
            "Date 2002-03-31 not found for JPM\n",
            "Date 2007-06-30 not found for JPM\n",
            "Date 1995-03-31 not found for JPM\n",
            "Date 2001-03-31 not found for JPM\n",
            "Date 2006-06-30 not found for JPM\n",
            "Date 2006-12-31 not found for JPM\n",
            "Date 1995-09-30 not found for JPM\n",
            "Date 2016-12-31 not found for JPM\n",
            "Date 2001-09-30 not found for JPM\n",
            "Date 2017-03-31 not found for JPM\n",
            "Date 2007-03-31 not found for JPM\n",
            "Date 2011-09-30 not found for JPM\n",
            "Making API call request...\n",
            "Date 2004-12-31 not found for MSFT\n",
            "Date 1993-12-31 not found for MSFT\n",
            "Date 2017-12-31 not found for MSFT\n",
            "Date 2019-06-30 not found for MSFT\n",
            "Date 2000-09-30 not found for MSFT\n",
            "Date 2016-12-31 not found for MSFT\n",
            "Date 1995-03-31 not found for MSFT\n",
            "Date 2012-09-30 not found for MSFT\n",
            "Date 2002-06-30 not found for MSFT\n",
            "Date 2000-12-31 not found for MSFT\n",
            "Date 2016-09-30 not found for MSFT\n",
            "Date 2010-12-31 not found for MSFT\n",
            "Date 2007-09-30 not found for MSFT\n",
            "Date 2019-03-31 not found for MSFT\n",
            "Date 2013-03-31 not found for MSFT\n",
            "Date 1989-09-30 not found for MSFT\n",
            "Date 2006-03-31 not found for MSFT\n",
            "Date 1989-06-30 not found for MSFT\n",
            "Date 2007-03-31 not found for MSFT\n",
            "Date 2000-06-30 not found for MSFT\n",
            "Date 2012-03-31 not found for MSFT\n",
            "Date 1999-09-30 not found for MSFT\n",
            "Date 2017-09-30 not found for MSFT\n",
            "Date 1996-06-30 not found for MSFT\n"
          ],
          "name": "stdout"
        }
      ]
    },
    {
      "cell_type": "code",
      "metadata": {
        "id": "kQoPRnKXYGhg",
        "colab": {
          "base_uri": "https://localhost:8080/"
        },
        "outputId": "184ca271-552e-4cf9-a12d-71302ab333ca"
      },
      "source": [
        "print(api.getNumApiCalls())"
      ],
      "execution_count": 33,
      "outputs": [
        {
          "output_type": "stream",
          "text": [
            "136\n"
          ],
          "name": "stdout"
        }
      ]
    },
    {
      "cell_type": "code",
      "metadata": {
        "id": "dNAfN-83YGhg"
      },
      "source": [
        "spy_merged = pd.merge(spy_X, spy_Y, how='inner', left_on=[\"date\", \"symbol\"], right_on=[\"date\", \"symbol\"]).dropna()\n",
        "spy_X = spy_merged.drop(['date', 'symbol', 'futureDate', 'futureClose', 'percentage'], axis=1)\n",
        "spy_Y = spy_merged[['percentage']]\n",
        "\n",
        "spy_X_scaled = pd.DataFrame(ss.fit_transform(spy_X), columns = spy_X.columns)\n",
        "spy_X_pc = final_pca.fit_transform(spy_X_scaled)\n",
        "spy_X_poly = final_poly.fit_transform(spy_X_scaled)\n",
        "spy_X_pc_poly = final_poly.fit_transform(spy_X_pc)"
      ],
      "execution_count": 34,
      "outputs": []
    },
    {
      "cell_type": "code",
      "metadata": {
        "id": "m6beK4ipYGhh",
        "colab": {
          "base_uri": "https://localhost:8080/",
          "height": 258
        },
        "outputId": "c88f69a4-60c7-46da-8c53-51f544fb311f"
      },
      "source": [
        "display(spy_X.head())\n",
        "\n",
        "print(spy_X.shape)\n",
        "print(spy_Y.shape)"
      ],
      "execution_count": 35,
      "outputs": [
        {
          "output_type": "display_data",
          "data": {
            "text/html": [
              "<div>\n",
              "<style scoped>\n",
              "    .dataframe tbody tr th:only-of-type {\n",
              "        vertical-align: middle;\n",
              "    }\n",
              "\n",
              "    .dataframe tbody tr th {\n",
              "        vertical-align: top;\n",
              "    }\n",
              "\n",
              "    .dataframe thead th {\n",
              "        text-align: right;\n",
              "    }\n",
              "</style>\n",
              "<table border=\"1\" class=\"dataframe\">\n",
              "  <thead>\n",
              "    <tr style=\"text-align: right;\">\n",
              "      <th></th>\n",
              "      <th>currentRatio</th>\n",
              "      <th>quickRatio</th>\n",
              "      <th>grossProfitMargin</th>\n",
              "      <th>operatingProfitMargin</th>\n",
              "      <th>returnOnAssets</th>\n",
              "      <th>returnOnEquity</th>\n",
              "      <th>returnOnCapitalEmployed</th>\n",
              "      <th>debtEquityRatio</th>\n",
              "      <th>priceToBookRatio</th>\n",
              "      <th>priceToSalesRatio</th>\n",
              "      <th>priceEarningsRatio</th>\n",
              "      <th>priceEarningsToGrowthRatio</th>\n",
              "      <th>priceToOperatingCashFlowsRatio</th>\n",
              "      <th>growthRevenue</th>\n",
              "      <th>growthCostOfRevenue</th>\n",
              "      <th>growthGrossProfit</th>\n",
              "      <th>growthGrossProfitRatio</th>\n",
              "      <th>growthOperatingExpenses</th>\n",
              "      <th>growthEBITDA</th>\n",
              "      <th>growthOperatingIncome</th>\n",
              "      <th>growthNetIncome</th>\n",
              "      <th>growthEPS</th>\n",
              "      <th>marketCapitalization</th>\n",
              "      <th>enterpriseValue</th>\n",
              "    </tr>\n",
              "  </thead>\n",
              "  <tbody>\n",
              "    <tr>\n",
              "      <th>0</th>\n",
              "      <td>2.603645</td>\n",
              "      <td>1.311136</td>\n",
              "      <td>0.469580</td>\n",
              "      <td>0.122611</td>\n",
              "      <td>0.034282</td>\n",
              "      <td>0.064734</td>\n",
              "      <td>0.078216</td>\n",
              "      <td>0.888309</td>\n",
              "      <td>3.427961</td>\n",
              "      <td>4.169088</td>\n",
              "      <td>13.238629</td>\n",
              "      <td>-0.094061</td>\n",
              "      <td>22.266278</td>\n",
              "      <td>-0.043250</td>\n",
              "      <td>0.002847</td>\n",
              "      <td>-0.086424</td>\n",
              "      <td>-0.045126</td>\n",
              "      <td>0.319706</td>\n",
              "      <td>-1.151828</td>\n",
              "      <td>-1.475884</td>\n",
              "      <td>-1.405034</td>\n",
              "      <td>-1.407446</td>\n",
              "      <td>7.154155e+09</td>\n",
              "      <td>6.523655e+09</td>\n",
              "    </tr>\n",
              "    <tr>\n",
              "      <th>1</th>\n",
              "      <td>2.372470</td>\n",
              "      <td>1.485405</td>\n",
              "      <td>0.541808</td>\n",
              "      <td>0.136318</td>\n",
              "      <td>0.047667</td>\n",
              "      <td>0.097405</td>\n",
              "      <td>0.109544</td>\n",
              "      <td>1.043428</td>\n",
              "      <td>3.272193</td>\n",
              "      <td>3.017526</td>\n",
              "      <td>8.398447</td>\n",
              "      <td>0.282528</td>\n",
              "      <td>22.282349</td>\n",
              "      <td>0.196443</td>\n",
              "      <td>0.000000</td>\n",
              "      <td>0.000000</td>\n",
              "      <td>0.000000</td>\n",
              "      <td>0.000000</td>\n",
              "      <td>-0.809486</td>\n",
              "      <td>-0.847781</td>\n",
              "      <td>0.000000</td>\n",
              "      <td>0.297260</td>\n",
              "      <td>5.055865e+09</td>\n",
              "      <td>4.339565e+09</td>\n",
              "    </tr>\n",
              "    <tr>\n",
              "      <th>2</th>\n",
              "      <td>2.486968</td>\n",
              "      <td>1.256414</td>\n",
              "      <td>0.406252</td>\n",
              "      <td>0.085668</td>\n",
              "      <td>0.024809</td>\n",
              "      <td>0.048508</td>\n",
              "      <td>0.056355</td>\n",
              "      <td>0.955253</td>\n",
              "      <td>2.715416</td>\n",
              "      <td>3.145034</td>\n",
              "      <td>13.994552</td>\n",
              "      <td>0.581428</td>\n",
              "      <td>-117.575442</td>\n",
              "      <td>0.149466</td>\n",
              "      <td>0.261380</td>\n",
              "      <td>0.026313</td>\n",
              "      <td>-0.107139</td>\n",
              "      <td>-0.028530</td>\n",
              "      <td>0.084785</td>\n",
              "      <td>0.197414</td>\n",
              "      <td>0.224753</td>\n",
              "      <td>0.240693</td>\n",
              "      <td>6.207983e+09</td>\n",
              "      <td>5.707283e+09</td>\n",
              "    </tr>\n",
              "    <tr>\n",
              "      <th>3</th>\n",
              "      <td>2.352882</td>\n",
              "      <td>2.215695</td>\n",
              "      <td>0.612933</td>\n",
              "      <td>0.203260</td>\n",
              "      <td>0.016118</td>\n",
              "      <td>0.043363</td>\n",
              "      <td>0.031190</td>\n",
              "      <td>1.690307</td>\n",
              "      <td>5.573498</td>\n",
              "      <td>19.466146</td>\n",
              "      <td>32.132857</td>\n",
              "      <td>-1.927971</td>\n",
              "      <td>47.409632</td>\n",
              "      <td>0.004043</td>\n",
              "      <td>0.033282</td>\n",
              "      <td>-0.013584</td>\n",
              "      <td>-0.017556</td>\n",
              "      <td>0.122110</td>\n",
              "      <td>-0.127325</td>\n",
              "      <td>-0.206890</td>\n",
              "      <td>-0.168797</td>\n",
              "      <td>-0.166667</td>\n",
              "      <td>4.012751e+11</td>\n",
              "      <td>4.484521e+11</td>\n",
              "    </tr>\n",
              "    <tr>\n",
              "      <th>4</th>\n",
              "      <td>4.154092</td>\n",
              "      <td>3.818327</td>\n",
              "      <td>0.844927</td>\n",
              "      <td>0.474154</td>\n",
              "      <td>0.037512</td>\n",
              "      <td>0.047939</td>\n",
              "      <td>0.060583</td>\n",
              "      <td>0.277959</td>\n",
              "      <td>4.450948</td>\n",
              "      <td>33.109143</td>\n",
              "      <td>23.211358</td>\n",
              "      <td>2.683918</td>\n",
              "      <td>62.223588</td>\n",
              "      <td>-0.082660</td>\n",
              "      <td>-0.402655</td>\n",
              "      <td>0.017366</td>\n",
              "      <td>0.109039</td>\n",
              "      <td>-0.105603</td>\n",
              "      <td>0.150816</td>\n",
              "      <td>0.139920</td>\n",
              "      <td>0.094828</td>\n",
              "      <td>0.086483</td>\n",
              "      <td>2.594101e+11</td>\n",
              "      <td>2.551101e+11</td>\n",
              "    </tr>\n",
              "  </tbody>\n",
              "</table>\n",
              "</div>"
            ],
            "text/plain": [
              "   currentRatio  quickRatio  ...  marketCapitalization  enterpriseValue\n",
              "0      2.603645    1.311136  ...          7.154155e+09     6.523655e+09\n",
              "1      2.372470    1.485405  ...          5.055865e+09     4.339565e+09\n",
              "2      2.486968    1.256414  ...          6.207983e+09     5.707283e+09\n",
              "3      2.352882    2.215695  ...          4.012751e+11     4.484521e+11\n",
              "4      4.154092    3.818327  ...          2.594101e+11     2.551101e+11\n",
              "\n",
              "[5 rows x 24 columns]"
            ]
          },
          "metadata": {
            "tags": []
          }
        },
        {
          "output_type": "stream",
          "text": [
            "(104, 24)\n",
            "(104, 1)\n"
          ],
          "name": "stdout"
        }
      ]
    },
    {
      "cell_type": "code",
      "metadata": {
        "id": "LHGUYgx1YGhh",
        "colab": {
          "base_uri": "https://localhost:8080/"
        },
        "outputId": "dcbf45e9-1952-4b93-9cdf-acfedfd2ef7c"
      },
      "source": [
        "# print(truePcResults['clf'][0])\n",
        "print(spy_X_poly.shape)\n",
        "print(spy_X_pc_poly.shape)"
      ],
      "execution_count": 36,
      "outputs": [
        {
          "output_type": "stream",
          "text": [
            "(104, 25)\n",
            "(104, 22)\n"
          ],
          "name": "stdout"
        }
      ]
    },
    {
      "cell_type": "code",
      "metadata": {
        "id": "rPOkpg25YGhh",
        "colab": {
          "base_uri": "https://localhost:8080/",
          "height": 375
        },
        "outputId": "21c4af27-df2e-49c2-d698-c47a5263977c"
      },
      "source": [
        "r1 = trueBaseResults['clf'][0].predict(spy_X_poly)\n",
        "r2 = truePcResults['clf'][0].predict(spy_X_pc_poly)\n",
        "\n",
        "r1MSE = mean_squared_error(spy_Y, r1)\n",
        "r2MSE = mean_squared_error(spy_Y, r2)\n",
        "baseMSE = mean_squared_error(spy_Y, np.full((spy_X.shape[0]), .06))\n",
        "\n",
        "print(r1MSE)\n",
        "print(r2MSE)\n",
        "print(baseMSE)"
      ],
      "execution_count": 37,
      "outputs": [
        {
          "output_type": "error",
          "ename": "ValueError",
          "evalue": "ignored",
          "traceback": [
            "\u001b[0;31m---------------------------------------------------------------------------\u001b[0m",
            "\u001b[0;31mValueError\u001b[0m                                Traceback (most recent call last)",
            "\u001b[0;32m<ipython-input-37-68f5b76fad29>\u001b[0m in \u001b[0;36m<module>\u001b[0;34m()\u001b[0m\n\u001b[1;32m      1\u001b[0m \u001b[0mr1\u001b[0m \u001b[0;34m=\u001b[0m \u001b[0mtrueBaseResults\u001b[0m\u001b[0;34m[\u001b[0m\u001b[0;34m'clf'\u001b[0m\u001b[0;34m]\u001b[0m\u001b[0;34m[\u001b[0m\u001b[0;36m0\u001b[0m\u001b[0;34m]\u001b[0m\u001b[0;34m.\u001b[0m\u001b[0mpredict\u001b[0m\u001b[0;34m(\u001b[0m\u001b[0mspy_X_poly\u001b[0m\u001b[0;34m)\u001b[0m\u001b[0;34m\u001b[0m\u001b[0;34m\u001b[0m\u001b[0m\n\u001b[0;32m----> 2\u001b[0;31m \u001b[0mr2\u001b[0m \u001b[0;34m=\u001b[0m \u001b[0mtruePcResults\u001b[0m\u001b[0;34m[\u001b[0m\u001b[0;34m'clf'\u001b[0m\u001b[0;34m]\u001b[0m\u001b[0;34m[\u001b[0m\u001b[0;36m0\u001b[0m\u001b[0;34m]\u001b[0m\u001b[0;34m.\u001b[0m\u001b[0mpredict\u001b[0m\u001b[0;34m(\u001b[0m\u001b[0mspy_X_pc_poly\u001b[0m\u001b[0;34m)\u001b[0m\u001b[0;34m\u001b[0m\u001b[0;34m\u001b[0m\u001b[0m\n\u001b[0m\u001b[1;32m      3\u001b[0m \u001b[0;34m\u001b[0m\u001b[0m\n\u001b[1;32m      4\u001b[0m \u001b[0mr1MSE\u001b[0m \u001b[0;34m=\u001b[0m \u001b[0mmean_squared_error\u001b[0m\u001b[0;34m(\u001b[0m\u001b[0mspy_Y\u001b[0m\u001b[0;34m,\u001b[0m \u001b[0mr1\u001b[0m\u001b[0;34m)\u001b[0m\u001b[0;34m\u001b[0m\u001b[0;34m\u001b[0m\u001b[0m\n\u001b[1;32m      5\u001b[0m \u001b[0mr2MSE\u001b[0m \u001b[0;34m=\u001b[0m \u001b[0mmean_squared_error\u001b[0m\u001b[0;34m(\u001b[0m\u001b[0mspy_Y\u001b[0m\u001b[0;34m,\u001b[0m \u001b[0mr2\u001b[0m\u001b[0;34m)\u001b[0m\u001b[0;34m\u001b[0m\u001b[0;34m\u001b[0m\u001b[0m\n",
            "\u001b[0;32m/usr/local/lib/python3.7/dist-packages/sklearn/linear_model/_base.py\u001b[0m in \u001b[0;36mpredict\u001b[0;34m(self, X)\u001b[0m\n\u001b[1;32m    223\u001b[0m             \u001b[0mReturns\u001b[0m \u001b[0mpredicted\u001b[0m \u001b[0mvalues\u001b[0m\u001b[0;34m.\u001b[0m\u001b[0;34m\u001b[0m\u001b[0;34m\u001b[0m\u001b[0m\n\u001b[1;32m    224\u001b[0m         \"\"\"\n\u001b[0;32m--> 225\u001b[0;31m         \u001b[0;32mreturn\u001b[0m \u001b[0mself\u001b[0m\u001b[0;34m.\u001b[0m\u001b[0m_decision_function\u001b[0m\u001b[0;34m(\u001b[0m\u001b[0mX\u001b[0m\u001b[0;34m)\u001b[0m\u001b[0;34m\u001b[0m\u001b[0;34m\u001b[0m\u001b[0m\n\u001b[0m\u001b[1;32m    226\u001b[0m \u001b[0;34m\u001b[0m\u001b[0m\n\u001b[1;32m    227\u001b[0m     \u001b[0m_preprocess_data\u001b[0m \u001b[0;34m=\u001b[0m \u001b[0mstaticmethod\u001b[0m\u001b[0;34m(\u001b[0m\u001b[0m_preprocess_data\u001b[0m\u001b[0;34m)\u001b[0m\u001b[0;34m\u001b[0m\u001b[0;34m\u001b[0m\u001b[0m\n",
            "\u001b[0;32m/usr/local/lib/python3.7/dist-packages/sklearn/linear_model/_base.py\u001b[0m in \u001b[0;36m_decision_function\u001b[0;34m(self, X)\u001b[0m\n\u001b[1;32m    207\u001b[0m         \u001b[0mX\u001b[0m \u001b[0;34m=\u001b[0m \u001b[0mcheck_array\u001b[0m\u001b[0;34m(\u001b[0m\u001b[0mX\u001b[0m\u001b[0;34m,\u001b[0m \u001b[0maccept_sparse\u001b[0m\u001b[0;34m=\u001b[0m\u001b[0;34m[\u001b[0m\u001b[0;34m'csr'\u001b[0m\u001b[0;34m,\u001b[0m \u001b[0;34m'csc'\u001b[0m\u001b[0;34m,\u001b[0m \u001b[0;34m'coo'\u001b[0m\u001b[0;34m]\u001b[0m\u001b[0;34m)\u001b[0m\u001b[0;34m\u001b[0m\u001b[0;34m\u001b[0m\u001b[0m\n\u001b[1;32m    208\u001b[0m         return safe_sparse_dot(X, self.coef_.T,\n\u001b[0;32m--> 209\u001b[0;31m                                dense_output=True) + self.intercept_\n\u001b[0m\u001b[1;32m    210\u001b[0m \u001b[0;34m\u001b[0m\u001b[0m\n\u001b[1;32m    211\u001b[0m     \u001b[0;32mdef\u001b[0m \u001b[0mpredict\u001b[0m\u001b[0;34m(\u001b[0m\u001b[0mself\u001b[0m\u001b[0;34m,\u001b[0m \u001b[0mX\u001b[0m\u001b[0;34m)\u001b[0m\u001b[0;34m:\u001b[0m\u001b[0;34m\u001b[0m\u001b[0;34m\u001b[0m\u001b[0m\n",
            "\u001b[0;32m/usr/local/lib/python3.7/dist-packages/sklearn/utils/extmath.py\u001b[0m in \u001b[0;36msafe_sparse_dot\u001b[0;34m(a, b, dense_output)\u001b[0m\n\u001b[1;32m    149\u001b[0m             \u001b[0mret\u001b[0m \u001b[0;34m=\u001b[0m \u001b[0mnp\u001b[0m\u001b[0;34m.\u001b[0m\u001b[0mdot\u001b[0m\u001b[0;34m(\u001b[0m\u001b[0ma\u001b[0m\u001b[0;34m,\u001b[0m \u001b[0mb\u001b[0m\u001b[0;34m)\u001b[0m\u001b[0;34m\u001b[0m\u001b[0;34m\u001b[0m\u001b[0m\n\u001b[1;32m    150\u001b[0m     \u001b[0;32melse\u001b[0m\u001b[0;34m:\u001b[0m\u001b[0;34m\u001b[0m\u001b[0;34m\u001b[0m\u001b[0m\n\u001b[0;32m--> 151\u001b[0;31m         \u001b[0mret\u001b[0m \u001b[0;34m=\u001b[0m \u001b[0ma\u001b[0m \u001b[0;34m@\u001b[0m \u001b[0mb\u001b[0m\u001b[0;34m\u001b[0m\u001b[0;34m\u001b[0m\u001b[0m\n\u001b[0m\u001b[1;32m    152\u001b[0m \u001b[0;34m\u001b[0m\u001b[0m\n\u001b[1;32m    153\u001b[0m     if (sparse.issparse(a) and sparse.issparse(b)\n",
            "\u001b[0;31mValueError\u001b[0m: matmul: Input operand 1 has a mismatch in its core dimension 0, with gufunc signature (n?,k),(k,m?)->(n?,m?) (size 24 is different from 22)"
          ]
        }
      ]
    },
    {
      "cell_type": "code",
      "metadata": {
        "id": "Khw0uHQSYGhi"
      },
      "source": [
        "r1 = trueBaseResultsNN['clf'][0].predict(spy_X_poly)\n",
        "# r2 = truePcResultsNN['clf'][0].predict(spy_X_pc_poly)\n",
        "r2 = truePcResultsNN['clf'][-1].predict(spy_X_pc_poly)\n",
        "\n",
        "r1MSE_NN = mean_squared_error(spy_Y, r1)\n",
        "r2MSE_NN = mean_squared_error(spy_Y, r2)\n",
        "baseMSE = mean_squared_error(spy_Y, np.full((spy_X.shape[0]), .06))\n",
        "\n",
        "print(r1MSE_NN)\n",
        "print(r2MSE_NN)\n",
        "print(baseMSE)"
      ],
      "execution_count": null,
      "outputs": []
    },
    {
      "cell_type": "code",
      "metadata": {
        "id": "PBV5El4YYGhj"
      },
      "source": [
        ""
      ],
      "execution_count": null,
      "outputs": []
    },
    {
      "cell_type": "code",
      "metadata": {
        "id": "i4GEn2JlYGhj"
      },
      "source": [
        ""
      ],
      "execution_count": null,
      "outputs": []
    },
    {
      "cell_type": "code",
      "metadata": {
        "id": "roG307R1YGhk"
      },
      "source": [
        ""
      ],
      "execution_count": null,
      "outputs": []
    },
    {
      "cell_type": "code",
      "metadata": {
        "id": "cCVenFCnYGhk"
      },
      "source": [
        ""
      ],
      "execution_count": null,
      "outputs": []
    }
  ]
}